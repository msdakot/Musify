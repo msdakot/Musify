{
 "cells": [
  {
   "cell_type": "code",
   "execution_count": 1,
   "metadata": {},
   "outputs": [],
   "source": [
    "%matplotlib inline\n",
    "import re\n",
    "import pandas as pd\n",
    "import numpy as np\n",
    "import matplotlib.pyplot as plt\n",
    "import seaborn as sns\n",
    "\n",
    "from sklearn.linear_model import LogisticRegression\n",
    "from sklearn.metrics import confusion_matrix\n",
    "from sklearn import metrics\n",
    "from sklearn.metrics import classification_report\n",
    "from catboost import CatBoostClassifier\n",
    "from sklearn.model_selection import train_test_split"
   ]
  },
  {
   "cell_type": "code",
   "execution_count": 2,
   "metadata": {},
   "outputs": [],
   "source": [
    "members = pd.read_csv('Data/members.csv')"
   ]
  },
  {
   "cell_type": "code",
   "execution_count": 3,
   "metadata": {},
   "outputs": [
    {
     "data": {
      "text/html": [
       "<div>\n",
       "<style scoped>\n",
       "    .dataframe tbody tr th:only-of-type {\n",
       "        vertical-align: middle;\n",
       "    }\n",
       "\n",
       "    .dataframe tbody tr th {\n",
       "        vertical-align: top;\n",
       "    }\n",
       "\n",
       "    .dataframe thead th {\n",
       "        text-align: right;\n",
       "    }\n",
       "</style>\n",
       "<table border=\"1\" class=\"dataframe\">\n",
       "  <thead>\n",
       "    <tr style=\"text-align: right;\">\n",
       "      <th></th>\n",
       "      <th>msno</th>\n",
       "      <th>city</th>\n",
       "      <th>bd</th>\n",
       "      <th>gender</th>\n",
       "      <th>registered_via</th>\n",
       "      <th>registration_init_time</th>\n",
       "      <th>expiration_date</th>\n",
       "    </tr>\n",
       "  </thead>\n",
       "  <tbody>\n",
       "    <tr>\n",
       "      <th>0</th>\n",
       "      <td>XQxgAYj3klVKjR3oxPPXYYFp4soD4TuBghkhMTD4oTw=</td>\n",
       "      <td>1</td>\n",
       "      <td>0</td>\n",
       "      <td>NaN</td>\n",
       "      <td>7</td>\n",
       "      <td>20110820</td>\n",
       "      <td>20170920</td>\n",
       "    </tr>\n",
       "    <tr>\n",
       "      <th>1</th>\n",
       "      <td>UizsfmJb9mV54qE9hCYyU07Va97c0lCRLEQX3ae+ztM=</td>\n",
       "      <td>1</td>\n",
       "      <td>0</td>\n",
       "      <td>NaN</td>\n",
       "      <td>7</td>\n",
       "      <td>20150628</td>\n",
       "      <td>20170622</td>\n",
       "    </tr>\n",
       "    <tr>\n",
       "      <th>2</th>\n",
       "      <td>D8nEhsIOBSoE6VthTaqDX8U6lqjJ7dLdr72mOyLya2A=</td>\n",
       "      <td>1</td>\n",
       "      <td>0</td>\n",
       "      <td>NaN</td>\n",
       "      <td>4</td>\n",
       "      <td>20160411</td>\n",
       "      <td>20170712</td>\n",
       "    </tr>\n",
       "    <tr>\n",
       "      <th>3</th>\n",
       "      <td>mCuD+tZ1hERA/o5GPqk38e041J8ZsBaLcu7nGoIIvhI=</td>\n",
       "      <td>1</td>\n",
       "      <td>0</td>\n",
       "      <td>NaN</td>\n",
       "      <td>9</td>\n",
       "      <td>20150906</td>\n",
       "      <td>20150907</td>\n",
       "    </tr>\n",
       "    <tr>\n",
       "      <th>4</th>\n",
       "      <td>q4HRBfVSssAFS9iRfxWrohxuk9kCYMKjHOEagUMV6rQ=</td>\n",
       "      <td>1</td>\n",
       "      <td>0</td>\n",
       "      <td>NaN</td>\n",
       "      <td>4</td>\n",
       "      <td>20170126</td>\n",
       "      <td>20170613</td>\n",
       "    </tr>\n",
       "  </tbody>\n",
       "</table>\n",
       "</div>"
      ],
      "text/plain": [
       "                                           msno  city  bd gender  \\\n",
       "0  XQxgAYj3klVKjR3oxPPXYYFp4soD4TuBghkhMTD4oTw=     1   0    NaN   \n",
       "1  UizsfmJb9mV54qE9hCYyU07Va97c0lCRLEQX3ae+ztM=     1   0    NaN   \n",
       "2  D8nEhsIOBSoE6VthTaqDX8U6lqjJ7dLdr72mOyLya2A=     1   0    NaN   \n",
       "3  mCuD+tZ1hERA/o5GPqk38e041J8ZsBaLcu7nGoIIvhI=     1   0    NaN   \n",
       "4  q4HRBfVSssAFS9iRfxWrohxuk9kCYMKjHOEagUMV6rQ=     1   0    NaN   \n",
       "\n",
       "   registered_via  registration_init_time  expiration_date  \n",
       "0               7                20110820         20170920  \n",
       "1               7                20150628         20170622  \n",
       "2               4                20160411         20170712  \n",
       "3               9                20150906         20150907  \n",
       "4               4                20170126         20170613  "
      ]
     },
     "execution_count": 3,
     "metadata": {},
     "output_type": "execute_result"
    }
   ],
   "source": [
    "members.head(5)"
   ]
  },
  {
   "cell_type": "code",
   "execution_count": 4,
   "metadata": {},
   "outputs": [
    {
     "data": {
      "text/plain": [
       "msno                      object\n",
       "city                       int64\n",
       "bd                         int64\n",
       "gender                    object\n",
       "registered_via             int64\n",
       "registration_init_time     int64\n",
       "expiration_date            int64\n",
       "dtype: object"
      ]
     },
     "execution_count": 4,
     "metadata": {},
     "output_type": "execute_result"
    }
   ],
   "source": [
    "members.dtypes"
   ]
  },
  {
   "cell_type": "code",
   "execution_count": 5,
   "metadata": {},
   "outputs": [
    {
     "name": "stdout",
     "output_type": "stream",
     "text": [
      "msno:  0\n",
      "city:  0\n",
      "bd:  0\n",
      "gender:  19902\n",
      "registered_via:  0\n",
      "registration_init_time:  0\n",
      "expiration_date:  0\n"
     ]
    }
   ],
   "source": [
    "for col in members.columns:\n",
    "    print(col + \": \", members[col].isnull().sum())"
   ]
  },
  {
   "cell_type": "code",
   "execution_count": 6,
   "metadata": {},
   "outputs": [
    {
     "name": "stdout",
     "output_type": "stream",
     "text": [
      "msno:  0\n",
      "city:  0\n",
      "bd:  19932\n",
      "gender:  0\n",
      "registered_via:  0\n",
      "registration_init_time:  0\n",
      "expiration_date:  0\n"
     ]
    }
   ],
   "source": [
    "for col in members.columns:\n",
    "    print(col + \": \", members[col][members[col] == 0].count())"
   ]
  },
  {
   "cell_type": "code",
   "execution_count": 7,
   "metadata": {},
   "outputs": [],
   "source": [
    "songs = pd.read_csv('Data/songs.csv')"
   ]
  },
  {
   "cell_type": "code",
   "execution_count": 8,
   "metadata": {},
   "outputs": [
    {
     "name": "stdout",
     "output_type": "stream",
     "text": [
      "song_id:  0\n",
      "song_length:  0\n",
      "genre_ids:  94116\n",
      "artist_name:  0\n",
      "composer:  1071354\n",
      "lyricist:  1945268\n",
      "language:  1\n"
     ]
    }
   ],
   "source": [
    "for col in songs.columns:\n",
    "    print(col + \": \", songs[col].isnull().sum())"
   ]
  },
  {
   "cell_type": "code",
   "execution_count": 9,
   "metadata": {},
   "outputs": [
    {
     "name": "stdout",
     "output_type": "stream",
     "text": [
      "song_id:  0\n",
      "song_length:  0\n",
      "genre_ids:  0\n",
      "artist_name:  0\n",
      "composer:  0\n",
      "lyricist:  0\n",
      "language:  0\n"
     ]
    }
   ],
   "source": [
    "for col in songs.columns:\n",
    "    print(col + \": \", songs[col][songs[col] == 0].count())"
   ]
  },
  {
   "cell_type": "code",
   "execution_count": 10,
   "metadata": {},
   "outputs": [],
   "source": [
    "song_extra_info = pd.read_csv('Data/song_extra_info.csv')"
   ]
  },
  {
   "cell_type": "code",
   "execution_count": 11,
   "metadata": {},
   "outputs": [
    {
     "name": "stdout",
     "output_type": "stream",
     "text": [
      "song_id:  0\n",
      "name:  2\n",
      "isrc:  136548\n"
     ]
    }
   ],
   "source": [
    "for col in song_extra_info.columns:\n",
    "    print(col + \": \", song_extra_info[col].isnull().sum())"
   ]
  },
  {
   "cell_type": "code",
   "execution_count": 12,
   "metadata": {},
   "outputs": [
    {
     "name": "stdout",
     "output_type": "stream",
     "text": [
      "song_id:  0\n",
      "name:  0\n",
      "isrc:  0\n"
     ]
    }
   ],
   "source": [
    "for col in song_extra_info.columns:\n",
    "    print(col + \": \", song_extra_info[col][song_extra_info[col] == 0].count())"
   ]
  },
  {
   "cell_type": "code",
   "execution_count": 13,
   "metadata": {},
   "outputs": [],
   "source": [
    "train = pd.read_csv('Data/train.csv')"
   ]
  },
  {
   "cell_type": "code",
   "execution_count": 14,
   "metadata": {},
   "outputs": [
    {
     "name": "stdout",
     "output_type": "stream",
     "text": [
      "msno:  0\n",
      "song_id:  0\n",
      "source_system_tab:  24849\n",
      "source_screen_name:  414804\n",
      "source_type:  21539\n",
      "target:  0\n"
     ]
    }
   ],
   "source": [
    "for col in train.columns:\n",
    "    print(col + \": \", train[col].isnull().sum())"
   ]
  },
  {
   "cell_type": "code",
   "execution_count": 15,
   "metadata": {},
   "outputs": [
    {
     "name": "stdout",
     "output_type": "stream",
     "text": [
      "msno:  0\n",
      "song_id:  0\n",
      "source_system_tab:  0\n",
      "source_screen_name:  0\n",
      "source_type:  0\n",
      "target:  3662762\n"
     ]
    }
   ],
   "source": [
    "for col in train.columns:\n",
    "    print(col + \": \", train[col][train[col] == 0].count())"
   ]
  },
  {
   "cell_type": "code",
   "execution_count": 16,
   "metadata": {},
   "outputs": [],
   "source": [
    "test = pd.read_csv('Data/test.csv')"
   ]
  },
  {
   "cell_type": "code",
   "execution_count": 17,
   "metadata": {},
   "outputs": [
    {
     "name": "stdout",
     "output_type": "stream",
     "text": [
      "id:  0\n",
      "msno:  0\n",
      "song_id:  0\n",
      "source_system_tab:  8442\n",
      "source_screen_name:  162883\n",
      "source_type:  7297\n"
     ]
    }
   ],
   "source": [
    "for col in test.columns:\n",
    "    print(col + \": \", test[col].isnull().sum())"
   ]
  },
  {
   "cell_type": "code",
   "execution_count": 18,
   "metadata": {},
   "outputs": [
    {
     "name": "stdout",
     "output_type": "stream",
     "text": [
      "id:  1\n",
      "msno:  0\n",
      "song_id:  0\n",
      "source_system_tab:  0\n",
      "source_screen_name:  0\n",
      "source_type:  0\n"
     ]
    }
   ],
   "source": [
    "for col in test.columns:\n",
    "    print(col + \": \", test[col][test[col] == 0].count())"
   ]
  },
  {
   "cell_type": "markdown",
   "metadata": {},
   "source": [
    "### Join training and test data with members and songs data "
   ]
  },
  {
   "cell_type": "code",
   "execution_count": 19,
   "metadata": {},
   "outputs": [],
   "source": [
    "train = train.join(members.set_index('msno'), on='msno')"
   ]
  },
  {
   "cell_type": "code",
   "execution_count": 20,
   "metadata": {},
   "outputs": [],
   "source": [
    "train = train.join(songs.set_index('song_id'), on='song_id')"
   ]
  },
  {
   "cell_type": "code",
   "execution_count": 21,
   "metadata": {},
   "outputs": [],
   "source": [
    "test = test.join(members.set_index('msno'), on='msno')"
   ]
  },
  {
   "cell_type": "code",
   "execution_count": 22,
   "metadata": {},
   "outputs": [],
   "source": [
    "test = test.join(songs.set_index('song_id'), on='song_id')"
   ]
  },
  {
   "cell_type": "code",
   "execution_count": 23,
   "metadata": {},
   "outputs": [
    {
     "name": "stdout",
     "output_type": "stream",
     "text": [
      "msno: O\n",
      "song_id: O\n",
      "source_system_tab: O\n",
      "source_screen_name: O\n",
      "source_type: O\n",
      "target: i\n",
      "city: i\n",
      "bd: i\n",
      "gender: O\n",
      "registered_via: i\n",
      "registration_init_time: i\n",
      "expiration_date: i\n",
      "song_length: f\n",
      "genre_ids: O\n",
      "artist_name: O\n",
      "composer: O\n",
      "lyricist: O\n",
      "language: f\n"
     ]
    }
   ],
   "source": [
    "for i in train.columns:\n",
    "    print(i+\": \"+train[i].dtype.kind)"
   ]
  },
  {
   "cell_type": "code",
   "execution_count": 24,
   "metadata": {},
   "outputs": [],
   "source": [
    "#convert data types for 'city', 'registered_via' and 'language' to be categorical variables\n",
    "for column in ['city', 'registered_via', 'language']:\n",
    "    train[column] = train[column].astype('str')\n",
    "    test[column] = test[column].astype('str')"
   ]
  },
  {
   "cell_type": "code",
   "execution_count": 25,
   "metadata": {},
   "outputs": [],
   "source": [
    "#convert data types for 'registration_init_time' and 'expiration_date' to datetime object\n",
    "for column in ['registration_init_time', 'expiration_date']:\n",
    "    train[column] = pd.to_datetime(train[column], format='%Y%m%d')\n",
    "    train['Year_' + column] = train[column].dt.year.astype(str)\n",
    "    train['Month_' + column] = train[column].dt.month.astype(str)\n",
    "    train['Day_' + column] = train[column].dt.day.astype(str)\n",
    "    train.drop([column], axis=1, inplace=True)\n",
    "#    \n",
    "    test[column] = pd.to_datetime(test[column], format='%Y%m%d')\n",
    "    test['Year_' + column] = test[column].dt.year.astype(str)\n",
    "    test['Month_' + column] = test[column].dt.month.astype(str)\n",
    "    test['Day_' + column] = test[column].dt.day.astype(str)\n",
    "    test.drop([column], axis=1, inplace=True)"
   ]
  },
  {
   "cell_type": "code",
   "execution_count": 26,
   "metadata": {},
   "outputs": [
    {
     "name": "stdout",
     "output_type": "stream",
     "text": [
      "msno: O\n",
      "song_id: O\n",
      "source_system_tab: O\n",
      "source_screen_name: O\n",
      "source_type: O\n",
      "target: i\n",
      "city: O\n",
      "bd: i\n",
      "gender: O\n",
      "registered_via: O\n",
      "song_length: f\n",
      "genre_ids: O\n",
      "artist_name: O\n",
      "composer: O\n",
      "lyricist: O\n",
      "language: O\n",
      "Year_registration_init_time: O\n",
      "Month_registration_init_time: O\n",
      "Day_registration_init_time: O\n",
      "Year_expiration_date: O\n",
      "Month_expiration_date: O\n",
      "Day_expiration_date: O\n"
     ]
    }
   ],
   "source": [
    "#check if there is inconsistant data type in data again\n",
    "for x in train.columns:\n",
    "    print(x + \": \" + train[x].dtype.kind)"
   ]
  },
  {
   "cell_type": "code",
   "execution_count": 27,
   "metadata": {},
   "outputs": [],
   "source": [
    "# fill na for all categorical features\n",
    "for x in [x for x in train.columns if train[x].dtype.kind == 'O']:\n",
    "    train[x].fillna('NA', inplace=True)\n",
    "    \n",
    "for x in [x for x in test.columns if test[x].dtype.kind == 'O']:\n",
    "    test[x].fillna('NA', inplace =True)"
   ]
  },
  {
   "cell_type": "code",
   "execution_count": 28,
   "metadata": {},
   "outputs": [
    {
     "name": "stdout",
     "output_type": "stream",
     "text": [
      "target:  0\n",
      "bd:  0\n",
      "song_length:  114\n",
      "id:  0\n",
      "bd:  0\n",
      "song_length:  25\n"
     ]
    }
   ],
   "source": [
    "# check which numerical feature(s) still consist of null value and fill na for each of them using using appropriate method\n",
    "for x in [x for x in train.columns if train[x].dtype.kind in ['f','i']]:\n",
    "    print(x + \": \", train[x].isnull().sum())\n",
    "for x in [x for x in test.columns if test[x].dtype.kind in ['f','i']]:\n",
    "    print(x + \": \", test[x].isnull().sum())\n",
    "\n",
    "train['song_length'] = train['song_length'].fillna(train['song_length'].median())\n",
    "test['song_length'] = test['song_length'].fillna(test['song_length'].median())"
   ]
  },
  {
   "cell_type": "code",
   "execution_count": 29,
   "metadata": {},
   "outputs": [],
   "source": [
    "\"\"\"convert all categorical features to 'category data type'\"\"\"\n",
    "for x in [x for x in train.columns if train[x].dtype.kind == 'O']:\n",
    "    train[x] = train[x].astype('category')\n",
    "\n",
    "for x in [x for x in test.columns if test[x].dtype.kind == 'O']:\n",
    "    test[x] = test[x].astype('category')"
   ]
  },
  {
   "cell_type": "code",
   "execution_count": 30,
   "metadata": {},
   "outputs": [
    {
     "data": {
      "text/html": [
       "<div>\n",
       "<style scoped>\n",
       "    .dataframe tbody tr th:only-of-type {\n",
       "        vertical-align: middle;\n",
       "    }\n",
       "\n",
       "    .dataframe tbody tr th {\n",
       "        vertical-align: top;\n",
       "    }\n",
       "\n",
       "    .dataframe thead th {\n",
       "        text-align: right;\n",
       "    }\n",
       "</style>\n",
       "<table border=\"1\" class=\"dataframe\">\n",
       "  <thead>\n",
       "    <tr style=\"text-align: right;\">\n",
       "      <th></th>\n",
       "      <th>msno</th>\n",
       "      <th>song_id</th>\n",
       "      <th>source_system_tab</th>\n",
       "      <th>source_screen_name</th>\n",
       "      <th>source_type</th>\n",
       "      <th>target</th>\n",
       "      <th>city</th>\n",
       "      <th>bd</th>\n",
       "      <th>gender</th>\n",
       "      <th>registered_via</th>\n",
       "      <th>...</th>\n",
       "      <th>artist_name</th>\n",
       "      <th>composer</th>\n",
       "      <th>lyricist</th>\n",
       "      <th>language</th>\n",
       "      <th>Year_registration_init_time</th>\n",
       "      <th>Month_registration_init_time</th>\n",
       "      <th>Day_registration_init_time</th>\n",
       "      <th>Year_expiration_date</th>\n",
       "      <th>Month_expiration_date</th>\n",
       "      <th>Day_expiration_date</th>\n",
       "    </tr>\n",
       "  </thead>\n",
       "  <tbody>\n",
       "    <tr>\n",
       "      <th>0</th>\n",
       "      <td>FGtllVqz18RPiwJj/edr2gV78zirAiY/9SmYvia+kCg=</td>\n",
       "      <td>BBzumQNXUHKdEBOB7mAJuzok+IJA1c2Ryg/yzTF6tik=</td>\n",
       "      <td>explore</td>\n",
       "      <td>Explore</td>\n",
       "      <td>online-playlist</td>\n",
       "      <td>1</td>\n",
       "      <td>1</td>\n",
       "      <td>0</td>\n",
       "      <td>NA</td>\n",
       "      <td>7</td>\n",
       "      <td>...</td>\n",
       "      <td>Bastille</td>\n",
       "      <td>Dan Smith| Mark Crew</td>\n",
       "      <td>NA</td>\n",
       "      <td>52.0</td>\n",
       "      <td>2012</td>\n",
       "      <td>1</td>\n",
       "      <td>2</td>\n",
       "      <td>2017</td>\n",
       "      <td>10</td>\n",
       "      <td>5</td>\n",
       "    </tr>\n",
       "    <tr>\n",
       "      <th>1</th>\n",
       "      <td>Xumu+NIjS6QYVxDS4/t3SawvJ7viT9hPKXmf0RtLNx8=</td>\n",
       "      <td>bhp/MpSNoqoxOIB+/l8WPqu6jldth4DIpCm3ayXnJqM=</td>\n",
       "      <td>my library</td>\n",
       "      <td>Local playlist more</td>\n",
       "      <td>local-playlist</td>\n",
       "      <td>1</td>\n",
       "      <td>13</td>\n",
       "      <td>24</td>\n",
       "      <td>female</td>\n",
       "      <td>9</td>\n",
       "      <td>...</td>\n",
       "      <td>Various Artists</td>\n",
       "      <td>NA</td>\n",
       "      <td>NA</td>\n",
       "      <td>52.0</td>\n",
       "      <td>2011</td>\n",
       "      <td>5</td>\n",
       "      <td>25</td>\n",
       "      <td>2017</td>\n",
       "      <td>9</td>\n",
       "      <td>11</td>\n",
       "    </tr>\n",
       "    <tr>\n",
       "      <th>2</th>\n",
       "      <td>Xumu+NIjS6QYVxDS4/t3SawvJ7viT9hPKXmf0RtLNx8=</td>\n",
       "      <td>JNWfrrC7zNN7BdMpsISKa4Mw+xVJYNnxXh3/Epw7QgY=</td>\n",
       "      <td>my library</td>\n",
       "      <td>Local playlist more</td>\n",
       "      <td>local-playlist</td>\n",
       "      <td>1</td>\n",
       "      <td>13</td>\n",
       "      <td>24</td>\n",
       "      <td>female</td>\n",
       "      <td>9</td>\n",
       "      <td>...</td>\n",
       "      <td>Nas</td>\n",
       "      <td>N. Jones、W. Adams、J. Lordan、D. Ingle</td>\n",
       "      <td>NA</td>\n",
       "      <td>52.0</td>\n",
       "      <td>2011</td>\n",
       "      <td>5</td>\n",
       "      <td>25</td>\n",
       "      <td>2017</td>\n",
       "      <td>9</td>\n",
       "      <td>11</td>\n",
       "    </tr>\n",
       "    <tr>\n",
       "      <th>3</th>\n",
       "      <td>Xumu+NIjS6QYVxDS4/t3SawvJ7viT9hPKXmf0RtLNx8=</td>\n",
       "      <td>2A87tzfnJTSWqD7gIZHisolhe4DMdzkbd6LzO1KHjNs=</td>\n",
       "      <td>my library</td>\n",
       "      <td>Local playlist more</td>\n",
       "      <td>local-playlist</td>\n",
       "      <td>1</td>\n",
       "      <td>13</td>\n",
       "      <td>24</td>\n",
       "      <td>female</td>\n",
       "      <td>9</td>\n",
       "      <td>...</td>\n",
       "      <td>Soundway</td>\n",
       "      <td>Kwadwo Donkoh</td>\n",
       "      <td>NA</td>\n",
       "      <td>-1.0</td>\n",
       "      <td>2011</td>\n",
       "      <td>5</td>\n",
       "      <td>25</td>\n",
       "      <td>2017</td>\n",
       "      <td>9</td>\n",
       "      <td>11</td>\n",
       "    </tr>\n",
       "    <tr>\n",
       "      <th>4</th>\n",
       "      <td>FGtllVqz18RPiwJj/edr2gV78zirAiY/9SmYvia+kCg=</td>\n",
       "      <td>3qm6XTZ6MOCU11x8FIVbAGH5l5uMkT3/ZalWG1oo2Gc=</td>\n",
       "      <td>explore</td>\n",
       "      <td>Explore</td>\n",
       "      <td>online-playlist</td>\n",
       "      <td>1</td>\n",
       "      <td>1</td>\n",
       "      <td>0</td>\n",
       "      <td>NA</td>\n",
       "      <td>7</td>\n",
       "      <td>...</td>\n",
       "      <td>Brett Young</td>\n",
       "      <td>Brett Young| Kelly Archer| Justin Ebach</td>\n",
       "      <td>NA</td>\n",
       "      <td>52.0</td>\n",
       "      <td>2012</td>\n",
       "      <td>1</td>\n",
       "      <td>2</td>\n",
       "      <td>2017</td>\n",
       "      <td>10</td>\n",
       "      <td>5</td>\n",
       "    </tr>\n",
       "  </tbody>\n",
       "</table>\n",
       "<p>5 rows × 22 columns</p>\n",
       "</div>"
      ],
      "text/plain": [
       "                                           msno  \\\n",
       "0  FGtllVqz18RPiwJj/edr2gV78zirAiY/9SmYvia+kCg=   \n",
       "1  Xumu+NIjS6QYVxDS4/t3SawvJ7viT9hPKXmf0RtLNx8=   \n",
       "2  Xumu+NIjS6QYVxDS4/t3SawvJ7viT9hPKXmf0RtLNx8=   \n",
       "3  Xumu+NIjS6QYVxDS4/t3SawvJ7viT9hPKXmf0RtLNx8=   \n",
       "4  FGtllVqz18RPiwJj/edr2gV78zirAiY/9SmYvia+kCg=   \n",
       "\n",
       "                                        song_id source_system_tab  \\\n",
       "0  BBzumQNXUHKdEBOB7mAJuzok+IJA1c2Ryg/yzTF6tik=           explore   \n",
       "1  bhp/MpSNoqoxOIB+/l8WPqu6jldth4DIpCm3ayXnJqM=        my library   \n",
       "2  JNWfrrC7zNN7BdMpsISKa4Mw+xVJYNnxXh3/Epw7QgY=        my library   \n",
       "3  2A87tzfnJTSWqD7gIZHisolhe4DMdzkbd6LzO1KHjNs=        my library   \n",
       "4  3qm6XTZ6MOCU11x8FIVbAGH5l5uMkT3/ZalWG1oo2Gc=           explore   \n",
       "\n",
       "    source_screen_name      source_type  target city  bd  gender  \\\n",
       "0              Explore  online-playlist       1    1   0      NA   \n",
       "1  Local playlist more   local-playlist       1   13  24  female   \n",
       "2  Local playlist more   local-playlist       1   13  24  female   \n",
       "3  Local playlist more   local-playlist       1   13  24  female   \n",
       "4              Explore  online-playlist       1    1   0      NA   \n",
       "\n",
       "  registered_via  ...      artist_name  \\\n",
       "0              7  ...         Bastille   \n",
       "1              9  ...  Various Artists   \n",
       "2              9  ...              Nas   \n",
       "3              9  ...         Soundway   \n",
       "4              7  ...      Brett Young   \n",
       "\n",
       "                                  composer lyricist language  \\\n",
       "0                     Dan Smith| Mark Crew       NA     52.0   \n",
       "1                                       NA       NA     52.0   \n",
       "2     N. Jones、W. Adams、J. Lordan、D. Ingle       NA     52.0   \n",
       "3                            Kwadwo Donkoh       NA     -1.0   \n",
       "4  Brett Young| Kelly Archer| Justin Ebach       NA     52.0   \n",
       "\n",
       "  Year_registration_init_time Month_registration_init_time  \\\n",
       "0                        2012                            1   \n",
       "1                        2011                            5   \n",
       "2                        2011                            5   \n",
       "3                        2011                            5   \n",
       "4                        2012                            1   \n",
       "\n",
       "  Day_registration_init_time Year_expiration_date Month_expiration_date  \\\n",
       "0                          2                 2017                    10   \n",
       "1                         25                 2017                     9   \n",
       "2                         25                 2017                     9   \n",
       "3                         25                 2017                     9   \n",
       "4                          2                 2017                    10   \n",
       "\n",
       "  Day_expiration_date  \n",
       "0                   5  \n",
       "1                  11  \n",
       "2                  11  \n",
       "3                  11  \n",
       "4                   5  \n",
       "\n",
       "[5 rows x 22 columns]"
      ]
     },
     "execution_count": 30,
     "metadata": {},
     "output_type": "execute_result"
    }
   ],
   "source": [
    "train.head()"
   ]
  },
  {
   "cell_type": "markdown",
   "metadata": {},
   "source": [
    "# Full Set Model"
   ]
  },
  {
   "cell_type": "code",
   "execution_count": 31,
   "metadata": {},
   "outputs": [],
   "source": [
    "\"\"\"split training data into train and test set\"\"\"\n",
    "X = train.drop(['target'],axis=1)\n",
    "y = train.target\n",
    "X_train, X_test, y_train, y_test = train_test_split(X, y, test_size = 0.2, stratify=y, random_state=123)"
   ]
  },
  {
   "cell_type": "code",
   "execution_count": 32,
   "metadata": {},
   "outputs": [],
   "source": [
    "X_train, X_cv, y_train, y_cv = train_test_split(X_train, y_train, test_size = 0.25, stratify=y_train, random_state=123)"
   ]
  },
  {
   "cell_type": "code",
   "execution_count": 33,
   "metadata": {},
   "outputs": [
    {
     "name": "stdout",
     "output_type": "stream",
     "text": [
      "0:\ttest: 0.7773163\tbest: 0.7773163 (0)\ttotal: 15.5s\tremaining: 12m 37s\n",
      "1:\ttest: 0.7893558\tbest: 0.7893558 (1)\ttotal: 31.4s\tremaining: 12m 33s\n",
      "2:\ttest: 0.7954023\tbest: 0.7954023 (2)\ttotal: 43.1s\tremaining: 11m 15s\n",
      "3:\ttest: 0.7983946\tbest: 0.7983946 (3)\ttotal: 57.6s\tremaining: 11m 2s\n",
      "4:\ttest: 0.7999809\tbest: 0.7999809 (4)\ttotal: 1m 16s\tremaining: 11m 27s\n",
      "5:\ttest: 0.8007297\tbest: 0.8007297 (5)\ttotal: 1m 24s\tremaining: 10m 22s\n",
      "6:\ttest: 0.8103959\tbest: 0.8103959 (6)\ttotal: 1m 37s\tremaining: 10m\n",
      "7:\ttest: 0.8147370\tbest: 0.8147370 (7)\ttotal: 1m 48s\tremaining: 9m 30s\n",
      "8:\ttest: 0.8159288\tbest: 0.8159288 (8)\ttotal: 2m 4s\tremaining: 9m 27s\n",
      "9:\ttest: 0.8165684\tbest: 0.8165684 (9)\ttotal: 2m 25s\tremaining: 9m 43s\n",
      "10:\ttest: 0.8183613\tbest: 0.8183613 (10)\ttotal: 2m 42s\tremaining: 9m 34s\n",
      "11:\ttest: 0.8200969\tbest: 0.8200969 (11)\ttotal: 2m 50s\tremaining: 9m\n",
      "12:\ttest: 0.8213597\tbest: 0.8213597 (12)\ttotal: 3m 6s\tremaining: 8m 49s\n",
      "13:\ttest: 0.8221411\tbest: 0.8221411 (13)\ttotal: 3m 26s\tremaining: 8m 49s\n",
      "14:\ttest: 0.8225302\tbest: 0.8225302 (14)\ttotal: 3m 44s\tremaining: 8m 44s\n",
      "15:\ttest: 0.8232665\tbest: 0.8232665 (15)\ttotal: 3m 55s\tremaining: 8m 19s\n",
      "16:\ttest: 0.8241251\tbest: 0.8241251 (16)\ttotal: 4m 15s\tremaining: 8m 15s\n",
      "17:\ttest: 0.8247520\tbest: 0.8247520 (17)\ttotal: 4m 22s\tremaining: 7m 47s\n",
      "18:\ttest: 0.8252244\tbest: 0.8252244 (18)\ttotal: 4m 35s\tremaining: 7m 29s\n",
      "19:\ttest: 0.8255040\tbest: 0.8255040 (19)\ttotal: 4m 48s\tremaining: 7m 13s\n",
      "20:\ttest: 0.8261044\tbest: 0.8261044 (20)\ttotal: 4m 58s\tremaining: 6m 52s\n",
      "21:\ttest: 0.8266501\tbest: 0.8266501 (21)\ttotal: 5m 9s\tremaining: 6m 33s\n",
      "22:\ttest: 0.8269053\tbest: 0.8269053 (22)\ttotal: 5m 20s\tremaining: 6m 16s\n",
      "23:\ttest: 0.8273241\tbest: 0.8273241 (23)\ttotal: 5m 35s\tremaining: 6m 3s\n",
      "24:\ttest: 0.8275603\tbest: 0.8275603 (24)\ttotal: 5m 55s\tremaining: 5m 55s\n",
      "25:\ttest: 0.8278083\tbest: 0.8278083 (25)\ttotal: 6m 7s\tremaining: 5m 39s\n",
      "26:\ttest: 0.8280098\tbest: 0.8280098 (26)\ttotal: 6m 19s\tremaining: 5m 23s\n",
      "27:\ttest: 0.8281924\tbest: 0.8281924 (27)\ttotal: 6m 30s\tremaining: 5m 7s\n",
      "28:\ttest: 0.8283614\tbest: 0.8283614 (28)\ttotal: 6m 51s\tremaining: 4m 57s\n",
      "29:\ttest: 0.8286297\tbest: 0.8286297 (29)\ttotal: 7m 4s\tremaining: 4m 42s\n",
      "30:\ttest: 0.8288690\tbest: 0.8288690 (30)\ttotal: 7m 15s\tremaining: 4m 26s\n",
      "31:\ttest: 0.8289472\tbest: 0.8289472 (31)\ttotal: 7m 26s\tremaining: 4m 11s\n",
      "32:\ttest: 0.8291011\tbest: 0.8291011 (32)\ttotal: 7m 40s\tremaining: 3m 57s\n",
      "33:\ttest: 0.8292212\tbest: 0.8292212 (33)\ttotal: 7m 51s\tremaining: 3m 41s\n",
      "34:\ttest: 0.8295552\tbest: 0.8295552 (34)\ttotal: 8m 4s\tremaining: 3m 27s\n",
      "35:\ttest: 0.8296819\tbest: 0.8296819 (35)\ttotal: 8m 14s\tremaining: 3m 12s\n",
      "36:\ttest: 0.8298139\tbest: 0.8298139 (36)\ttotal: 8m 23s\tremaining: 2m 56s\n",
      "37:\ttest: 0.8300655\tbest: 0.8300655 (37)\ttotal: 8m 32s\tremaining: 2m 41s\n",
      "38:\ttest: 0.8301798\tbest: 0.8301798 (38)\ttotal: 8m 52s\tremaining: 2m 30s\n",
      "39:\ttest: 0.8303289\tbest: 0.8303289 (39)\ttotal: 9m 2s\tremaining: 2m 15s\n",
      "40:\ttest: 0.8305380\tbest: 0.8305380 (40)\ttotal: 9m 11s\tremaining: 2m 1s\n",
      "41:\ttest: 0.8306275\tbest: 0.8306275 (41)\ttotal: 9m 22s\tremaining: 1m 47s\n",
      "42:\ttest: 0.8308191\tbest: 0.8308191 (42)\ttotal: 9m 33s\tremaining: 1m 33s\n",
      "43:\ttest: 0.8310123\tbest: 0.8310123 (43)\ttotal: 9m 40s\tremaining: 1m 19s\n",
      "44:\ttest: 0.8311333\tbest: 0.8311333 (44)\ttotal: 9m 48s\tremaining: 1m 5s\n",
      "45:\ttest: 0.8312207\tbest: 0.8312207 (45)\ttotal: 10m 3s\tremaining: 52.5s\n",
      "46:\ttest: 0.8312762\tbest: 0.8312762 (46)\ttotal: 10m 14s\tremaining: 39.2s\n",
      "47:\ttest: 0.8314311\tbest: 0.8314311 (47)\ttotal: 10m 21s\tremaining: 25.9s\n",
      "48:\ttest: 0.8316342\tbest: 0.8316342 (48)\ttotal: 10m 27s\tremaining: 12.8s\n",
      "49:\ttest: 0.8318049\tbest: 0.8318049 (49)\ttotal: 10m 34s\tremaining: 0us\n",
      "\n",
      "bestTest = 0.8318049375\n",
      "bestIteration = 49\n",
      "\n"
     ]
    },
    {
     "data": {
      "text/plain": [
       "<catboost.core.CatBoostClassifier at 0x7fd3d5cdfc90>"
      ]
     },
     "execution_count": 33,
     "metadata": {},
     "output_type": "execute_result"
    }
   ],
   "source": [
    "\"\"\"prepare and train the model\"\"\"\n",
    "cat_features_index = [i for i, x in enumerate(X_train.columns) if X_train[x].dtype.kind == 'O']\n",
    "model_FULL = CatBoostClassifier(iterations = 50, learning_rate = 0.3, eval_metric='AUC', max_ctr_complexity=2, boosting_type = 'Plain', bootstrap_type= 'Bernoulli', use_best_model=True, random_seed=123)\n",
    "model_FULL.fit(X_train, y_train, cat_features=cat_features_index, eval_set=(X_cv, y_cv))"
   ]
  },
  {
   "cell_type": "code",
   "execution_count": 34,
   "metadata": {},
   "outputs": [
    {
     "name": "stdout",
     "output_type": "stream",
     "text": [
      "Model's roc_auc_score:  0.8315188565259726\n"
     ]
    }
   ],
   "source": [
    "\"\"\"Check result\"\"\"\n",
    "y_pred = model_FULL.predict_proba(X_test)\n",
    "score_FULL = metrics.roc_auc_score(y_test, y_pred[:,1])\n",
    "print(\"Model's roc_auc_score: \", score_FULL)"
   ]
  },
  {
   "cell_type": "markdown",
   "metadata": {},
   "source": [
    "# Full Set Model without Gender"
   ]
  },
  {
   "cell_type": "code",
   "execution_count": 35,
   "metadata": {},
   "outputs": [],
   "source": [
    "X_woG = X.drop(['gender'],axis=1)\n",
    "y_woG = train.target"
   ]
  },
  {
   "cell_type": "code",
   "execution_count": 36,
   "metadata": {},
   "outputs": [
    {
     "data": {
      "text/html": [
       "<div>\n",
       "<style scoped>\n",
       "    .dataframe tbody tr th:only-of-type {\n",
       "        vertical-align: middle;\n",
       "    }\n",
       "\n",
       "    .dataframe tbody tr th {\n",
       "        vertical-align: top;\n",
       "    }\n",
       "\n",
       "    .dataframe thead th {\n",
       "        text-align: right;\n",
       "    }\n",
       "</style>\n",
       "<table border=\"1\" class=\"dataframe\">\n",
       "  <thead>\n",
       "    <tr style=\"text-align: right;\">\n",
       "      <th></th>\n",
       "      <th>msno</th>\n",
       "      <th>song_id</th>\n",
       "      <th>source_system_tab</th>\n",
       "      <th>source_screen_name</th>\n",
       "      <th>source_type</th>\n",
       "      <th>city</th>\n",
       "      <th>bd</th>\n",
       "      <th>registered_via</th>\n",
       "      <th>song_length</th>\n",
       "      <th>genre_ids</th>\n",
       "      <th>artist_name</th>\n",
       "      <th>composer</th>\n",
       "      <th>lyricist</th>\n",
       "      <th>language</th>\n",
       "      <th>Year_registration_init_time</th>\n",
       "      <th>Month_registration_init_time</th>\n",
       "      <th>Day_registration_init_time</th>\n",
       "      <th>Year_expiration_date</th>\n",
       "      <th>Month_expiration_date</th>\n",
       "      <th>Day_expiration_date</th>\n",
       "    </tr>\n",
       "  </thead>\n",
       "  <tbody>\n",
       "    <tr>\n",
       "      <th>0</th>\n",
       "      <td>FGtllVqz18RPiwJj/edr2gV78zirAiY/9SmYvia+kCg=</td>\n",
       "      <td>BBzumQNXUHKdEBOB7mAJuzok+IJA1c2Ryg/yzTF6tik=</td>\n",
       "      <td>explore</td>\n",
       "      <td>Explore</td>\n",
       "      <td>online-playlist</td>\n",
       "      <td>1</td>\n",
       "      <td>0</td>\n",
       "      <td>7</td>\n",
       "      <td>206471.0</td>\n",
       "      <td>359</td>\n",
       "      <td>Bastille</td>\n",
       "      <td>Dan Smith| Mark Crew</td>\n",
       "      <td>NA</td>\n",
       "      <td>52.0</td>\n",
       "      <td>2012</td>\n",
       "      <td>1</td>\n",
       "      <td>2</td>\n",
       "      <td>2017</td>\n",
       "      <td>10</td>\n",
       "      <td>5</td>\n",
       "    </tr>\n",
       "    <tr>\n",
       "      <th>1</th>\n",
       "      <td>Xumu+NIjS6QYVxDS4/t3SawvJ7viT9hPKXmf0RtLNx8=</td>\n",
       "      <td>bhp/MpSNoqoxOIB+/l8WPqu6jldth4DIpCm3ayXnJqM=</td>\n",
       "      <td>my library</td>\n",
       "      <td>Local playlist more</td>\n",
       "      <td>local-playlist</td>\n",
       "      <td>13</td>\n",
       "      <td>24</td>\n",
       "      <td>9</td>\n",
       "      <td>284584.0</td>\n",
       "      <td>1259</td>\n",
       "      <td>Various Artists</td>\n",
       "      <td>NA</td>\n",
       "      <td>NA</td>\n",
       "      <td>52.0</td>\n",
       "      <td>2011</td>\n",
       "      <td>5</td>\n",
       "      <td>25</td>\n",
       "      <td>2017</td>\n",
       "      <td>9</td>\n",
       "      <td>11</td>\n",
       "    </tr>\n",
       "    <tr>\n",
       "      <th>2</th>\n",
       "      <td>Xumu+NIjS6QYVxDS4/t3SawvJ7viT9hPKXmf0RtLNx8=</td>\n",
       "      <td>JNWfrrC7zNN7BdMpsISKa4Mw+xVJYNnxXh3/Epw7QgY=</td>\n",
       "      <td>my library</td>\n",
       "      <td>Local playlist more</td>\n",
       "      <td>local-playlist</td>\n",
       "      <td>13</td>\n",
       "      <td>24</td>\n",
       "      <td>9</td>\n",
       "      <td>225396.0</td>\n",
       "      <td>1259</td>\n",
       "      <td>Nas</td>\n",
       "      <td>N. Jones、W. Adams、J. Lordan、D. Ingle</td>\n",
       "      <td>NA</td>\n",
       "      <td>52.0</td>\n",
       "      <td>2011</td>\n",
       "      <td>5</td>\n",
       "      <td>25</td>\n",
       "      <td>2017</td>\n",
       "      <td>9</td>\n",
       "      <td>11</td>\n",
       "    </tr>\n",
       "    <tr>\n",
       "      <th>3</th>\n",
       "      <td>Xumu+NIjS6QYVxDS4/t3SawvJ7viT9hPKXmf0RtLNx8=</td>\n",
       "      <td>2A87tzfnJTSWqD7gIZHisolhe4DMdzkbd6LzO1KHjNs=</td>\n",
       "      <td>my library</td>\n",
       "      <td>Local playlist more</td>\n",
       "      <td>local-playlist</td>\n",
       "      <td>13</td>\n",
       "      <td>24</td>\n",
       "      <td>9</td>\n",
       "      <td>255512.0</td>\n",
       "      <td>1019</td>\n",
       "      <td>Soundway</td>\n",
       "      <td>Kwadwo Donkoh</td>\n",
       "      <td>NA</td>\n",
       "      <td>-1.0</td>\n",
       "      <td>2011</td>\n",
       "      <td>5</td>\n",
       "      <td>25</td>\n",
       "      <td>2017</td>\n",
       "      <td>9</td>\n",
       "      <td>11</td>\n",
       "    </tr>\n",
       "    <tr>\n",
       "      <th>4</th>\n",
       "      <td>FGtllVqz18RPiwJj/edr2gV78zirAiY/9SmYvia+kCg=</td>\n",
       "      <td>3qm6XTZ6MOCU11x8FIVbAGH5l5uMkT3/ZalWG1oo2Gc=</td>\n",
       "      <td>explore</td>\n",
       "      <td>Explore</td>\n",
       "      <td>online-playlist</td>\n",
       "      <td>1</td>\n",
       "      <td>0</td>\n",
       "      <td>7</td>\n",
       "      <td>187802.0</td>\n",
       "      <td>1011</td>\n",
       "      <td>Brett Young</td>\n",
       "      <td>Brett Young| Kelly Archer| Justin Ebach</td>\n",
       "      <td>NA</td>\n",
       "      <td>52.0</td>\n",
       "      <td>2012</td>\n",
       "      <td>1</td>\n",
       "      <td>2</td>\n",
       "      <td>2017</td>\n",
       "      <td>10</td>\n",
       "      <td>5</td>\n",
       "    </tr>\n",
       "  </tbody>\n",
       "</table>\n",
       "</div>"
      ],
      "text/plain": [
       "                                           msno  \\\n",
       "0  FGtllVqz18RPiwJj/edr2gV78zirAiY/9SmYvia+kCg=   \n",
       "1  Xumu+NIjS6QYVxDS4/t3SawvJ7viT9hPKXmf0RtLNx8=   \n",
       "2  Xumu+NIjS6QYVxDS4/t3SawvJ7viT9hPKXmf0RtLNx8=   \n",
       "3  Xumu+NIjS6QYVxDS4/t3SawvJ7viT9hPKXmf0RtLNx8=   \n",
       "4  FGtllVqz18RPiwJj/edr2gV78zirAiY/9SmYvia+kCg=   \n",
       "\n",
       "                                        song_id source_system_tab  \\\n",
       "0  BBzumQNXUHKdEBOB7mAJuzok+IJA1c2Ryg/yzTF6tik=           explore   \n",
       "1  bhp/MpSNoqoxOIB+/l8WPqu6jldth4DIpCm3ayXnJqM=        my library   \n",
       "2  JNWfrrC7zNN7BdMpsISKa4Mw+xVJYNnxXh3/Epw7QgY=        my library   \n",
       "3  2A87tzfnJTSWqD7gIZHisolhe4DMdzkbd6LzO1KHjNs=        my library   \n",
       "4  3qm6XTZ6MOCU11x8FIVbAGH5l5uMkT3/ZalWG1oo2Gc=           explore   \n",
       "\n",
       "    source_screen_name      source_type city  bd registered_via  song_length  \\\n",
       "0              Explore  online-playlist    1   0              7     206471.0   \n",
       "1  Local playlist more   local-playlist   13  24              9     284584.0   \n",
       "2  Local playlist more   local-playlist   13  24              9     225396.0   \n",
       "3  Local playlist more   local-playlist   13  24              9     255512.0   \n",
       "4              Explore  online-playlist    1   0              7     187802.0   \n",
       "\n",
       "  genre_ids      artist_name                                 composer  \\\n",
       "0       359         Bastille                     Dan Smith| Mark Crew   \n",
       "1      1259  Various Artists                                       NA   \n",
       "2      1259              Nas     N. Jones、W. Adams、J. Lordan、D. Ingle   \n",
       "3      1019         Soundway                            Kwadwo Donkoh   \n",
       "4      1011      Brett Young  Brett Young| Kelly Archer| Justin Ebach   \n",
       "\n",
       "  lyricist language Year_registration_init_time Month_registration_init_time  \\\n",
       "0       NA     52.0                        2012                            1   \n",
       "1       NA     52.0                        2011                            5   \n",
       "2       NA     52.0                        2011                            5   \n",
       "3       NA     -1.0                        2011                            5   \n",
       "4       NA     52.0                        2012                            1   \n",
       "\n",
       "  Day_registration_init_time Year_expiration_date Month_expiration_date  \\\n",
       "0                          2                 2017                    10   \n",
       "1                         25                 2017                     9   \n",
       "2                         25                 2017                     9   \n",
       "3                         25                 2017                     9   \n",
       "4                          2                 2017                    10   \n",
       "\n",
       "  Day_expiration_date  \n",
       "0                   5  \n",
       "1                  11  \n",
       "2                  11  \n",
       "3                  11  \n",
       "4                   5  "
      ]
     },
     "execution_count": 36,
     "metadata": {},
     "output_type": "execute_result"
    }
   ],
   "source": [
    "X_woG.head()"
   ]
  },
  {
   "cell_type": "code",
   "execution_count": 37,
   "metadata": {},
   "outputs": [],
   "source": [
    "X_woG_train, X_woG_test, y_woG_train, y_woG_test = train_test_split(X_woG, y_woG, test_size = 0.2,\\\n",
    "                                                                    stratify=y_woG, random_state=123)"
   ]
  },
  {
   "cell_type": "code",
   "execution_count": 38,
   "metadata": {},
   "outputs": [],
   "source": [
    "X_woG_train, X_woG_cv, y_woG_train, y_woG_cv = train_test_split(X_woG_train, y_woG_train, test_size = 0.25,\\\n",
    "                                                        stratify=y_woG_train, random_state=123)"
   ]
  },
  {
   "cell_type": "code",
   "execution_count": 39,
   "metadata": {},
   "outputs": [
    {
     "name": "stdout",
     "output_type": "stream",
     "text": [
      "0:\ttest: 0.7751961\tbest: 0.7751961 (0)\ttotal: 15.8s\tremaining: 12m 53s\n",
      "1:\ttest: 0.7919814\tbest: 0.7919814 (1)\ttotal: 35.3s\tremaining: 14m 7s\n",
      "2:\ttest: 0.7940979\tbest: 0.7940979 (2)\ttotal: 52s\tremaining: 13m 34s\n",
      "3:\ttest: 0.8078154\tbest: 0.8078154 (3)\ttotal: 58.4s\tremaining: 11m 11s\n",
      "4:\ttest: 0.8090265\tbest: 0.8090265 (4)\ttotal: 1m 4s\tremaining: 9m 41s\n",
      "5:\ttest: 0.8121318\tbest: 0.8121318 (5)\ttotal: 1m 21s\tremaining: 9m 55s\n",
      "6:\ttest: 0.8127590\tbest: 0.8127590 (6)\ttotal: 1m 32s\tremaining: 9m 28s\n",
      "7:\ttest: 0.8163307\tbest: 0.8163307 (7)\ttotal: 1m 44s\tremaining: 9m 8s\n",
      "8:\ttest: 0.8180301\tbest: 0.8180301 (8)\ttotal: 1m 55s\tremaining: 8m 45s\n",
      "9:\ttest: 0.8189031\tbest: 0.8189031 (9)\ttotal: 2m 6s\tremaining: 8m 25s\n",
      "10:\ttest: 0.8204627\tbest: 0.8204627 (10)\ttotal: 2m 14s\tremaining: 7m 58s\n",
      "11:\ttest: 0.8214132\tbest: 0.8214132 (11)\ttotal: 2m 30s\tremaining: 7m 56s\n",
      "12:\ttest: 0.8219638\tbest: 0.8219638 (12)\ttotal: 2m 42s\tremaining: 7m 42s\n",
      "13:\ttest: 0.8227642\tbest: 0.8227642 (13)\ttotal: 3m 3s\tremaining: 7m 52s\n",
      "14:\ttest: 0.8230063\tbest: 0.8230063 (14)\ttotal: 3m 20s\tremaining: 7m 46s\n",
      "15:\ttest: 0.8238298\tbest: 0.8238298 (15)\ttotal: 3m 28s\tremaining: 7m 23s\n",
      "16:\ttest: 0.8244376\tbest: 0.8244376 (16)\ttotal: 3m 41s\tremaining: 7m 10s\n",
      "17:\ttest: 0.8253176\tbest: 0.8253176 (17)\ttotal: 3m 50s\tremaining: 6m 50s\n",
      "18:\ttest: 0.8257333\tbest: 0.8257333 (18)\ttotal: 4m 1s\tremaining: 6m 34s\n",
      "19:\ttest: 0.8263379\tbest: 0.8263379 (19)\ttotal: 4m 10s\tremaining: 6m 15s\n",
      "20:\ttest: 0.8266482\tbest: 0.8266482 (20)\ttotal: 4m 19s\tremaining: 5m 57s\n",
      "21:\ttest: 0.8271383\tbest: 0.8271383 (21)\ttotal: 4m 23s\tremaining: 5m 35s\n",
      "22:\ttest: 0.8274187\tbest: 0.8274187 (22)\ttotal: 4m 43s\tremaining: 5m 32s\n",
      "23:\ttest: 0.8277474\tbest: 0.8277474 (23)\ttotal: 4m 50s\tremaining: 5m 14s\n",
      "24:\ttest: 0.8281148\tbest: 0.8281148 (24)\ttotal: 5m 6s\tremaining: 5m 6s\n",
      "25:\ttest: 0.8284278\tbest: 0.8284278 (25)\ttotal: 5m 16s\tremaining: 4m 51s\n",
      "26:\ttest: 0.8286848\tbest: 0.8286848 (26)\ttotal: 5m 28s\tremaining: 4m 40s\n",
      "27:\ttest: 0.8289339\tbest: 0.8289339 (27)\ttotal: 5m 40s\tremaining: 4m 27s\n",
      "28:\ttest: 0.8291183\tbest: 0.8291183 (28)\ttotal: 5m 50s\tremaining: 4m 13s\n",
      "29:\ttest: 0.8293044\tbest: 0.8293044 (29)\ttotal: 6m\tremaining: 4m\n",
      "30:\ttest: 0.8295587\tbest: 0.8295587 (30)\ttotal: 6m 9s\tremaining: 3m 46s\n",
      "31:\ttest: 0.8297788\tbest: 0.8297788 (31)\ttotal: 6m 13s\tremaining: 3m 30s\n",
      "32:\ttest: 0.8299543\tbest: 0.8299543 (32)\ttotal: 6m 20s\tremaining: 3m 15s\n",
      "33:\ttest: 0.8301103\tbest: 0.8301103 (33)\ttotal: 6m 33s\tremaining: 3m 5s\n",
      "34:\ttest: 0.8303008\tbest: 0.8303008 (34)\ttotal: 6m 38s\tremaining: 2m 50s\n",
      "35:\ttest: 0.8304201\tbest: 0.8304201 (35)\ttotal: 6m 52s\tremaining: 2m 40s\n",
      "36:\ttest: 0.8306234\tbest: 0.8306234 (36)\ttotal: 7m 1s\tremaining: 2m 28s\n",
      "37:\ttest: 0.8307743\tbest: 0.8307743 (37)\ttotal: 7m 14s\tremaining: 2m 17s\n",
      "38:\ttest: 0.8308969\tbest: 0.8308969 (38)\ttotal: 7m 27s\tremaining: 2m 6s\n",
      "39:\ttest: 0.8310000\tbest: 0.8310000 (39)\ttotal: 7m 37s\tremaining: 1m 54s\n",
      "40:\ttest: 0.8311312\tbest: 0.8311312 (40)\ttotal: 7m 49s\tremaining: 1m 43s\n",
      "41:\ttest: 0.8313043\tbest: 0.8313043 (41)\ttotal: 7m 57s\tremaining: 1m 30s\n",
      "42:\ttest: 0.8314100\tbest: 0.8314100 (42)\ttotal: 8m 5s\tremaining: 1m 19s\n",
      "43:\ttest: 0.8315318\tbest: 0.8315318 (43)\ttotal: 8m 13s\tremaining: 1m 7s\n",
      "44:\ttest: 0.8316300\tbest: 0.8316300 (44)\ttotal: 8m 23s\tremaining: 56s\n",
      "45:\ttest: 0.8317541\tbest: 0.8317541 (45)\ttotal: 8m 33s\tremaining: 44.7s\n",
      "46:\ttest: 0.8318139\tbest: 0.8318139 (46)\ttotal: 8m 45s\tremaining: 33.5s\n",
      "47:\ttest: 0.8318704\tbest: 0.8318704 (47)\ttotal: 8m 55s\tremaining: 22.3s\n",
      "48:\ttest: 0.8320102\tbest: 0.8320102 (48)\ttotal: 9m 2s\tremaining: 11.1s\n",
      "49:\ttest: 0.8320953\tbest: 0.8320953 (49)\ttotal: 9m 17s\tremaining: 0us\n",
      "\n",
      "bestTest = 0.8320952505\n",
      "bestIteration = 49\n",
      "\n"
     ]
    },
    {
     "data": {
      "text/plain": [
       "<catboost.core.CatBoostClassifier at 0x7fd3ce31b350>"
      ]
     },
     "execution_count": 39,
     "metadata": {},
     "output_type": "execute_result"
    }
   ],
   "source": [
    "# Model without Gender\n",
    "cat_features_index_woG = [i for i, x in enumerate(X_woG_train.columns) if X_woG_train[x].dtype.kind == 'O']\n",
    "model_FULL_woG = CatBoostClassifier(iterations = 50, learning_rate = 0.3, eval_metric='AUC', max_ctr_complexity=2, boosting_type = 'Plain', bootstrap_type= 'Bernoulli', use_best_model=True, random_seed=123)\n",
    "model_FULL_woG.fit(X_woG_train, y_woG_train, cat_features=cat_features_index_woG, eval_set=(X_woG_cv, y_woG_cv))"
   ]
  },
  {
   "cell_type": "code",
   "execution_count": 40,
   "metadata": {},
   "outputs": [
    {
     "name": "stdout",
     "output_type": "stream",
     "text": [
      "Model's roc_auc_score:  0.8318957908183386\n"
     ]
    }
   ],
   "source": [
    "\"\"\"Check result\"\"\"\n",
    "y_woG_pred = model_FULL_woG.predict_proba(X_woG_test)\n",
    "score_woG = metrics.roc_auc_score(y_woG_test, y_woG_pred[:,1])\n",
    "print(\"Model's roc_auc_score: \", score_woG)"
   ]
  },
  {
   "cell_type": "markdown",
   "metadata": {},
   "source": [
    "# Full Set Model without Age"
   ]
  },
  {
   "cell_type": "code",
   "execution_count": 41,
   "metadata": {},
   "outputs": [],
   "source": [
    "X_woA = X.drop(['bd'],axis=1)\n",
    "y_woA = train.target\n",
    "X_woA_train, X_woA_test, y_woA_train, y_woA_test = train_test_split(X_woA, \\\n",
    "                                                                    y_woA, test_size = 0.2, stratify=y_woA, random_state=123)"
   ]
  },
  {
   "cell_type": "code",
   "execution_count": 42,
   "metadata": {},
   "outputs": [],
   "source": [
    "X_woA_train, X_woA_cv, y_woA_train, y_woA_cv = train_test_split(X_woA_train, \\\n",
    "                                                                y_woA_train, test_size = 0.25, stratify=y_woA_train, random_state=123)"
   ]
  },
  {
   "cell_type": "code",
   "execution_count": 43,
   "metadata": {},
   "outputs": [
    {
     "name": "stdout",
     "output_type": "stream",
     "text": [
      "0:\ttest: 0.7770941\tbest: 0.7770941 (0)\ttotal: 17.4s\tremaining: 14m 13s\n",
      "1:\ttest: 0.7890060\tbest: 0.7890060 (1)\ttotal: 28.4s\tremaining: 11m 22s\n",
      "2:\ttest: 0.7952741\tbest: 0.7952741 (2)\ttotal: 42.3s\tremaining: 11m 3s\n",
      "3:\ttest: 0.8088808\tbest: 0.8088808 (3)\ttotal: 1m 2s\tremaining: 12m 2s\n",
      "4:\ttest: 0.8096140\tbest: 0.8096140 (4)\ttotal: 1m 8s\tremaining: 10m 20s\n",
      "5:\ttest: 0.8124514\tbest: 0.8124514 (5)\ttotal: 1m 23s\tremaining: 10m 13s\n",
      "6:\ttest: 0.8156134\tbest: 0.8156134 (6)\ttotal: 1m 36s\tremaining: 9m 53s\n",
      "7:\ttest: 0.8161664\tbest: 0.8161664 (7)\ttotal: 1m 48s\tremaining: 9m 31s\n",
      "8:\ttest: 0.8166264\tbest: 0.8166264 (8)\ttotal: 1m 55s\tremaining: 8m 46s\n",
      "9:\ttest: 0.8181737\tbest: 0.8181737 (9)\ttotal: 2m 3s\tremaining: 8m 15s\n",
      "10:\ttest: 0.8197075\tbest: 0.8197075 (10)\ttotal: 2m 16s\tremaining: 8m 3s\n",
      "11:\ttest: 0.8207621\tbest: 0.8207621 (11)\ttotal: 2m 31s\tremaining: 7m 59s\n",
      "12:\ttest: 0.8218061\tbest: 0.8218061 (12)\ttotal: 2m 51s\tremaining: 8m 8s\n",
      "13:\ttest: 0.8227190\tbest: 0.8227190 (13)\ttotal: 2m 59s\tremaining: 7m 41s\n",
      "14:\ttest: 0.8234250\tbest: 0.8234250 (14)\ttotal: 3m 7s\tremaining: 7m 16s\n",
      "15:\ttest: 0.8242886\tbest: 0.8242886 (15)\ttotal: 3m 15s\tremaining: 6m 55s\n",
      "16:\ttest: 0.8247829\tbest: 0.8247829 (16)\ttotal: 3m 24s\tremaining: 6m 36s\n",
      "17:\ttest: 0.8252601\tbest: 0.8252601 (17)\ttotal: 3m 38s\tremaining: 6m 29s\n",
      "18:\ttest: 0.8255974\tbest: 0.8255974 (18)\ttotal: 3m 45s\tremaining: 6m 8s\n",
      "19:\ttest: 0.8264045\tbest: 0.8264045 (19)\ttotal: 3m 59s\tremaining: 5m 58s\n",
      "20:\ttest: 0.8266753\tbest: 0.8266753 (20)\ttotal: 4m 14s\tremaining: 5m 51s\n",
      "21:\ttest: 0.8270265\tbest: 0.8270265 (21)\ttotal: 4m 32s\tremaining: 5m 46s\n",
      "22:\ttest: 0.8274830\tbest: 0.8274830 (22)\ttotal: 4m 47s\tremaining: 5m 37s\n",
      "23:\ttest: 0.8276912\tbest: 0.8276912 (23)\ttotal: 5m\tremaining: 5m 25s\n",
      "24:\ttest: 0.8281058\tbest: 0.8281058 (24)\ttotal: 5m 9s\tremaining: 5m 9s\n",
      "25:\ttest: 0.8284744\tbest: 0.8284744 (25)\ttotal: 5m 23s\tremaining: 4m 58s\n",
      "26:\ttest: 0.8287454\tbest: 0.8287454 (26)\ttotal: 5m 34s\tremaining: 4m 45s\n",
      "27:\ttest: 0.8290038\tbest: 0.8290038 (27)\ttotal: 5m 45s\tremaining: 4m 31s\n",
      "28:\ttest: 0.8293080\tbest: 0.8293080 (28)\ttotal: 5m 49s\tremaining: 4m 13s\n",
      "29:\ttest: 0.8294456\tbest: 0.8294456 (29)\ttotal: 6m 4s\tremaining: 4m 3s\n",
      "30:\ttest: 0.8295898\tbest: 0.8295898 (30)\ttotal: 6m 16s\tremaining: 3m 50s\n",
      "31:\ttest: 0.8297155\tbest: 0.8297155 (31)\ttotal: 6m 28s\tremaining: 3m 38s\n",
      "32:\ttest: 0.8298725\tbest: 0.8298725 (32)\ttotal: 6m 34s\tremaining: 3m 23s\n",
      "33:\ttest: 0.8299914\tbest: 0.8299914 (33)\ttotal: 6m 52s\tremaining: 3m 14s\n",
      "34:\ttest: 0.8301810\tbest: 0.8301810 (34)\ttotal: 7m 2s\tremaining: 3m 1s\n",
      "35:\ttest: 0.8303993\tbest: 0.8303993 (35)\ttotal: 7m 14s\tremaining: 2m 48s\n",
      "36:\ttest: 0.8306121\tbest: 0.8306121 (36)\ttotal: 7m 29s\tremaining: 2m 38s\n",
      "37:\ttest: 0.8307525\tbest: 0.8307525 (37)\ttotal: 7m 37s\tremaining: 2m 24s\n",
      "38:\ttest: 0.8309324\tbest: 0.8309324 (38)\ttotal: 7m 47s\tremaining: 2m 11s\n",
      "39:\ttest: 0.8310284\tbest: 0.8310284 (39)\ttotal: 8m 4s\tremaining: 2m 1s\n",
      "40:\ttest: 0.8310995\tbest: 0.8310995 (40)\ttotal: 8m 16s\tremaining: 1m 48s\n",
      "41:\ttest: 0.8312678\tbest: 0.8312678 (41)\ttotal: 8m 25s\tremaining: 1m 36s\n",
      "42:\ttest: 0.8314717\tbest: 0.8314717 (42)\ttotal: 8m 31s\tremaining: 1m 23s\n",
      "43:\ttest: 0.8316283\tbest: 0.8316283 (43)\ttotal: 8m 38s\tremaining: 1m 10s\n",
      "44:\ttest: 0.8317093\tbest: 0.8317093 (44)\ttotal: 8m 50s\tremaining: 59s\n",
      "45:\ttest: 0.8318276\tbest: 0.8318276 (45)\ttotal: 8m 55s\tremaining: 46.6s\n",
      "46:\ttest: 0.8319266\tbest: 0.8319266 (46)\ttotal: 9m 10s\tremaining: 35.1s\n",
      "47:\ttest: 0.8320097\tbest: 0.8320097 (47)\ttotal: 9m 21s\tremaining: 23.4s\n",
      "48:\ttest: 0.8321361\tbest: 0.8321361 (48)\ttotal: 9m 30s\tremaining: 11.6s\n",
      "49:\ttest: 0.8322453\tbest: 0.8322453 (49)\ttotal: 9m 37s\tremaining: 0us\n",
      "\n",
      "bestTest = 0.8322453364\n",
      "bestIteration = 49\n",
      "\n"
     ]
    },
    {
     "data": {
      "text/plain": [
       "<catboost.core.CatBoostClassifier at 0x7fd3ccebc1d0>"
      ]
     },
     "execution_count": 43,
     "metadata": {},
     "output_type": "execute_result"
    }
   ],
   "source": [
    "# Model without Gender\n",
    "cat_features_index_woA = [i for i, x in enumerate(X_woA_train.columns) if X_woA_train[x].dtype.kind == 'O']\n",
    "model_FULL_woA = CatBoostClassifier(iterations = 50, learning_rate = 0.3, eval_metric='AUC', max_ctr_complexity=2, boosting_type = 'Plain', bootstrap_type= 'Bernoulli', use_best_model=True, random_seed=123)\n",
    "model_FULL_woA.fit(X_woA_train, y_woA_train, cat_features=cat_features_index_woA, eval_set=(X_woA_cv, y_woA_cv))"
   ]
  },
  {
   "cell_type": "code",
   "execution_count": 44,
   "metadata": {},
   "outputs": [
    {
     "name": "stdout",
     "output_type": "stream",
     "text": [
      "Full Scale Model's roc_auc_score without Age:  0.8320130497142425\n"
     ]
    }
   ],
   "source": [
    "\"\"\"Check result\"\"\"\n",
    "y_woA_pred = model_FULL_woA.predict_proba(X_woA_test)\n",
    "score_FULL_woA = metrics.roc_auc_score(y_woA_test, y_woA_pred[:,1])\n",
    "print(\"Full Scale Model's roc_auc_score without Age: \", score_FULL_woA)"
   ]
  },
  {
   "cell_type": "code",
   "execution_count": null,
   "metadata": {},
   "outputs": [],
   "source": []
  }
 ],
 "metadata": {
  "kernelspec": {
   "display_name": "Python 3",
   "language": "python",
   "name": "python3"
  },
  "language_info": {
   "codemirror_mode": {
    "name": "ipython",
    "version": 3
   },
   "file_extension": ".py",
   "mimetype": "text/x-python",
   "name": "python",
   "nbconvert_exporter": "python",
   "pygments_lexer": "ipython3",
   "version": "3.7.6"
  }
 },
 "nbformat": 4,
 "nbformat_minor": 2
}
