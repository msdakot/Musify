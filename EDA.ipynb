{
 "cells": [
  {
   "cell_type": "markdown",
   "metadata": {},
   "source": [
    "# Music Recommendation System\n",
    "\n",
    "This workbook is developed as part of the final project for MIDS W207 - Applied Machine Learning at University of Berkeley. "
   ]
  },
  {
   "cell_type": "markdown",
   "metadata": {},
   "source": [
    "This project we explored the differnt machine learning algorithms (Decision Tree, Random Forest, and Gradient Boosting Machine) on the kkbox music dataset. (from [kkbox](https://www.kkbox.com/intl/index.php?area=intl)) \n",
    "\n",
    "A Recommender System is a process that seeks to predict user preferences.The recommender system aims to predict users' choices or interests, and based on these recommend the product items. There are multiple types of recommendation system as shown in the [chart]() below. It deals with large volume of information present by filtering the most important information based on the data provided by a user and other factors that take care of the user’s preference and interest. It finds out the right match between user and item and imputes the similarities between users and items for recommendation.\n",
    "\n",
    "The organization of the jupyter notebook as presented below: \n",
    "\n",
    "#### Table of Contents:\n",
    "* [What are Music Recommendation Systems?](#first-bullet)\n",
    "* [Business Problem and Problem Statement for the project](#second-bullet)\n",
    "* [Exploratory Data Analysis ](#third-bullet)\n",
    "* [Data Processing & Feature Engineering](#fourth-bullet)\n",
    "* [Building Models](#fifth-bullet)\n",
    "* [Discussion on Results](#sixth-bullet)\n",
    "* [Way-forward](#seventh-bullet)\n",
    "* [References](#eigth-bullet)"
   ]
  },
  {
   "cell_type": "markdown",
   "metadata": {},
   "source": [
    "## What are Music Recommendation Systems? <a class=\"anchor\" id=\"first-bullet\"></a>\n",
    "\n",
    "\n",
    "Music Recommendation Systems are a type of Recommendation Systems which based on the the predicted user preferences recommend songs subject to multitude of factors. This systems in the past have become popular as the number of songs available exceeds the search and listening capacity of an individual and with jukebox and radio becoming obselete there is a good chance on missing out on songs that an individual would like to listen. \n",
    "\n",
    "Thus, Music service providers need an efficient way to manage songs and help their customers to discover music by giving a quality recommendation. For building this recommendation system, they deploy machine learning algorithms to process data from a million sources and present the listener with the most relevant songs.\n",
    "\n",
    "There are mainly three types of recommendation system: **content-based**, **collaborative** and **popularity**. \n",
    "\n",
    "The **content-based** algorithms are given user preferences for items and recommend similar items based on a domain-specific notion of item content. This approach also extends naturally to cases where item metadata is available (e.g., movie stars, book authors, and music genres). \n",
    "\n",
    "The **collaborative-based** system perhaps the most well-known approach to recommendation, to the point that it’s sometimes seen as synonymous with the field. The main idea is that you’re given a matrix of preferences by users for items, and these are used to predict missing preferences and recommend items with high predictions.\n",
    "\n",
    "The **popularity-based** system predicts based on the most popular songs amongst the users, however personalization in such a system is not possible. \n",
    "\n",
    "In this case study, we will be looking towards some good techniques to recommend music to brand new as well as existing users. By building this system, we aim to provide a better user experience for the app users."
   ]
  },
  {
   "cell_type": "markdown",
   "metadata": {},
   "source": [
    "## Business Problem and Problem Statement <a class=\"anchor\" id=\"second-bullet\"></a>\n",
    "\n",
    "\n",
    "The 11th ACM International Conference on Web Search and Data Mining (WSDM 2018) challenged to build a better music recommendation system using a donated dataset from KKBOX. WSDM (pronounced “wisdom”) is one of the premier conferences on web inspired research involving search and data mining.\n",
    "\n",
    "The glory days of Radio DJs have passed, and musical gatekeepers have been replaced with personalizing algorithms and unlimited streaming services. With easy access to various kinds of music across the globe, public is now listening to all kinds of music. Existing algorithms, however, struggle in key areas. Without enough historical data, how would an algorithm know if listeners will like a new song or a new artist? And how would it know what songs to recommend brand new users?\n",
    "\n",
    "The dataset is from KKBOX, Asia’s leading music streaming service, holding the world’s most comprehensive Asia-Pop music library with over 30 million tracks. The input contains text data only, and no audio features. They currently use a collaborative filtering based algorithm with matrix factorization and word embedding in their recommendation system but believe new techniques could lead to better results.\n",
    "\n",
    "## Problem Statement \n",
    "\n",
    "* Predict the changes of a user re-listening to a song. Basically understand what factors effect the users changes of listening to songs\n",
    "\n",
    "* What are the top five songs that are members more likely to listen to?"
   ]
  },
  {
   "cell_type": "markdown",
   "metadata": {},
   "source": [
    "## Exploratory Data Analysis <a class=\"anchor\" id=\"third-bullet\"></a>"
   ]
  },
  {
   "cell_type": "markdown",
   "metadata": {},
   "source": [
    "The data was made available by [kakkle](https://www.kaggle.com/c/kkbox-music-recommendation-challenge/data). \n",
    "\n",
    "Data files:\n",
    "* members.csv: User profile data such as age, gender, city etc. \n",
    "* songs.csv: Information on the listed songs such as name, language, length, genre\n",
    "* extra_song.csv: Extra information on the listed songs based on ISCR codes\n",
    "* train.csv: member and source event information \n",
    "\n",
    "This is an important stage as we can dive deep into the data in this stage and derive useful insights which will then prove vital during Feature Engineering and Building Machine Learning Mode"
   ]
  },
  {
   "cell_type": "code",
   "execution_count": 1,
   "metadata": {},
   "outputs": [],
   "source": [
    "%matplotlib inline\n",
    "import re\n",
    "import numpy as np # linear algebra\n",
    "import pandas as pd # data processing, CSV file I/O (e.g. pd.read_csv)\n",
    "import matplotlib.pyplot as plt \n",
    "import seaborn as sns \n",
    "\n",
    "from scipy.stats import norm\n",
    "from scipy import stats\n",
    "from collections import Counter\n",
    "from sklearn import preprocessing\n",
    "from langdetect import detect\n",
    "\n",
    "from sklearn.linear_model import LogisticRegression\n",
    "from sklearn.metrics import confusion_matrix\n",
    "from sklearn import metrics\n",
    "from sklearn.metrics import classification_report\n",
    "\n",
    "import warnings\n",
    "warnings.filterwarnings(\"ignore\")\n",
    "color = sns.color_palette()"
   ]
  },
  {
   "cell_type": "code",
   "execution_count": 2,
   "metadata": {},
   "outputs": [],
   "source": [
    "col_pals = ['ch:2.5,-.2,dark=.4',\n",
    "            \"ch:12,-.2,dark=.4\",\n",
    "            \"ch:.12,0,dark=.4\",\n",
    "            \"ch:7,-.2,dark=.4\",\n",
    "            \"ch:2,0.3,dark=.4\",\n",
    "            \"ch:23,0.3,dark=.4\",\n",
    "            \"ch:10,-0.1,dark=.4\"]"
   ]
  },
  {
   "cell_type": "code",
   "execution_count": 162,
   "metadata": {},
   "outputs": [],
   "source": [
    "fp = \"data/\"\n",
    "train = pd.read_csv(fp+\"train.csv\")\n",
    "test=pd.read_csv(fp+\"test.csv\")\n",
    "members=pd.read_csv(fp+\"members.csv\",parse_dates=['registration_init_time','expiration_date']) #reading the date format\n",
    "songs=pd.read_csv(fp+\"songs.csv\")\n",
    "extra_songs = pd.read_csv(fp+\"song_extra_info.csv\")"
   ]
  },
  {
   "cell_type": "code",
   "execution_count": 4,
   "metadata": {},
   "outputs": [],
   "source": [
    "def summary(df):\n",
    "    for i in df.columns:\n",
    "        print(\"Distinct features in dataframe:{}\".format(len(np.unique(df[i].astype('str')))))\n",
    "        \n",
    "def count_na(df):\n",
    "    for i in df.columns:\n",
    "        na_counted = df[i].isnull().sum()\n",
    "        na_percentage = na_counted*100/df.shape[0]\n",
    "        print(i,\"....{} ....{:.2f}%\".format(na_counted,na_percentage))\n",
    "\n",
    "def genres_separate(genre_ids):\n",
    "    \n",
    "    genre_dictionary = {}\n",
    "    for genre_id in genre_ids:\n",
    "        if type(genre_id) != str:\n",
    "            continue\n",
    "        genre_list = genre_id.split('|')\n",
    "        for genre in genre_list:\n",
    "            if genre not in genre_dictionary:\n",
    "                genre_dictionary[genre] = 1\n",
    "            else:\n",
    "                genre_dictionary[genre] += 1\n",
    "    \n",
    "    return genre_dictionary  \n",
    "\n",
    "def sns_bar(df,x_name,y_name,title,pal, axis_rot=0):\n",
    "    plt.figure(figsize=(15,8))\n",
    "    ax = sns.barplot(x=x_name, y=y_name, \n",
    "                     data=df, palette=pal)\n",
    "    ax.set_title(title, fontsize=15)\n",
    "    \n",
    "    if axis_rot ==1:\n",
    "        ax.set_xticklabels(ax.get_xticklabels(),rotation=90)\n",
    "            \n",
    "    plt.show()"
   ]
  },
  {
   "cell_type": "markdown",
   "metadata": {},
   "source": [
    "Train Data Exploration"
   ]
  },
  {
   "cell_type": "code",
   "execution_count": 5,
   "metadata": {},
   "outputs": [
    {
     "data": {
      "text/html": [
       "<div>\n",
       "<style scoped>\n",
       "    .dataframe tbody tr th:only-of-type {\n",
       "        vertical-align: middle;\n",
       "    }\n",
       "\n",
       "    .dataframe tbody tr th {\n",
       "        vertical-align: top;\n",
       "    }\n",
       "\n",
       "    .dataframe thead th {\n",
       "        text-align: right;\n",
       "    }\n",
       "</style>\n",
       "<table border=\"1\" class=\"dataframe\">\n",
       "  <thead>\n",
       "    <tr style=\"text-align: right;\">\n",
       "      <th></th>\n",
       "      <th>msno</th>\n",
       "      <th>song_id</th>\n",
       "      <th>source_system_tab</th>\n",
       "      <th>source_screen_name</th>\n",
       "      <th>source_type</th>\n",
       "      <th>target</th>\n",
       "    </tr>\n",
       "  </thead>\n",
       "  <tbody>\n",
       "    <tr>\n",
       "      <th>0</th>\n",
       "      <td>FGtllVqz18RPiwJj/edr2gV78zirAiY/9SmYvia+kCg=</td>\n",
       "      <td>BBzumQNXUHKdEBOB7mAJuzok+IJA1c2Ryg/yzTF6tik=</td>\n",
       "      <td>explore</td>\n",
       "      <td>Explore</td>\n",
       "      <td>online-playlist</td>\n",
       "      <td>1</td>\n",
       "    </tr>\n",
       "    <tr>\n",
       "      <th>1</th>\n",
       "      <td>Xumu+NIjS6QYVxDS4/t3SawvJ7viT9hPKXmf0RtLNx8=</td>\n",
       "      <td>bhp/MpSNoqoxOIB+/l8WPqu6jldth4DIpCm3ayXnJqM=</td>\n",
       "      <td>my library</td>\n",
       "      <td>Local playlist more</td>\n",
       "      <td>local-playlist</td>\n",
       "      <td>1</td>\n",
       "    </tr>\n",
       "    <tr>\n",
       "      <th>2</th>\n",
       "      <td>Xumu+NIjS6QYVxDS4/t3SawvJ7viT9hPKXmf0RtLNx8=</td>\n",
       "      <td>JNWfrrC7zNN7BdMpsISKa4Mw+xVJYNnxXh3/Epw7QgY=</td>\n",
       "      <td>my library</td>\n",
       "      <td>Local playlist more</td>\n",
       "      <td>local-playlist</td>\n",
       "      <td>1</td>\n",
       "    </tr>\n",
       "    <tr>\n",
       "      <th>3</th>\n",
       "      <td>Xumu+NIjS6QYVxDS4/t3SawvJ7viT9hPKXmf0RtLNx8=</td>\n",
       "      <td>2A87tzfnJTSWqD7gIZHisolhe4DMdzkbd6LzO1KHjNs=</td>\n",
       "      <td>my library</td>\n",
       "      <td>Local playlist more</td>\n",
       "      <td>local-playlist</td>\n",
       "      <td>1</td>\n",
       "    </tr>\n",
       "    <tr>\n",
       "      <th>4</th>\n",
       "      <td>FGtllVqz18RPiwJj/edr2gV78zirAiY/9SmYvia+kCg=</td>\n",
       "      <td>3qm6XTZ6MOCU11x8FIVbAGH5l5uMkT3/ZalWG1oo2Gc=</td>\n",
       "      <td>explore</td>\n",
       "      <td>Explore</td>\n",
       "      <td>online-playlist</td>\n",
       "      <td>1</td>\n",
       "    </tr>\n",
       "  </tbody>\n",
       "</table>\n",
       "</div>"
      ],
      "text/plain": [
       "                                           msno  \\\n",
       "0  FGtllVqz18RPiwJj/edr2gV78zirAiY/9SmYvia+kCg=   \n",
       "1  Xumu+NIjS6QYVxDS4/t3SawvJ7viT9hPKXmf0RtLNx8=   \n",
       "2  Xumu+NIjS6QYVxDS4/t3SawvJ7viT9hPKXmf0RtLNx8=   \n",
       "3  Xumu+NIjS6QYVxDS4/t3SawvJ7viT9hPKXmf0RtLNx8=   \n",
       "4  FGtllVqz18RPiwJj/edr2gV78zirAiY/9SmYvia+kCg=   \n",
       "\n",
       "                                        song_id source_system_tab  \\\n",
       "0  BBzumQNXUHKdEBOB7mAJuzok+IJA1c2Ryg/yzTF6tik=           explore   \n",
       "1  bhp/MpSNoqoxOIB+/l8WPqu6jldth4DIpCm3ayXnJqM=        my library   \n",
       "2  JNWfrrC7zNN7BdMpsISKa4Mw+xVJYNnxXh3/Epw7QgY=        my library   \n",
       "3  2A87tzfnJTSWqD7gIZHisolhe4DMdzkbd6LzO1KHjNs=        my library   \n",
       "4  3qm6XTZ6MOCU11x8FIVbAGH5l5uMkT3/ZalWG1oo2Gc=           explore   \n",
       "\n",
       "    source_screen_name      source_type  target  \n",
       "0              Explore  online-playlist       1  \n",
       "1  Local playlist more   local-playlist       1  \n",
       "2  Local playlist more   local-playlist       1  \n",
       "3  Local playlist more   local-playlist       1  \n",
       "4              Explore  online-playlist       1  "
      ]
     },
     "execution_count": 5,
     "metadata": {},
     "output_type": "execute_result"
    }
   ],
   "source": [
    "train.head(5)"
   ]
  },
  {
   "cell_type": "code",
   "execution_count": 6,
   "metadata": {},
   "outputs": [
    {
     "name": "stdout",
     "output_type": "stream",
     "text": [
      "Distinct features in dataframe:30755\n",
      "Distinct features in dataframe:359966\n",
      "Distinct features in dataframe:9\n",
      "Distinct features in dataframe:21\n",
      "Distinct features in dataframe:13\n",
      "Distinct features in dataframe:2\n"
     ]
    }
   ],
   "source": [
    "summary(train)"
   ]
  },
  {
   "cell_type": "code",
   "execution_count": 7,
   "metadata": {},
   "outputs": [
    {
     "name": "stdout",
     "output_type": "stream",
     "text": [
      "msno ....0 ....0.00%\n",
      "song_id ....0 ....0.00%\n",
      "source_system_tab ....24849 ....0.34%\n",
      "source_screen_name ....414804 ....5.62%\n",
      "source_type ....21539 ....0.29%\n",
      "target ....0 ....0.00%\n"
     ]
    }
   ],
   "source": [
    "count_na(train) "
   ]
  },
  {
   "cell_type": "code",
   "execution_count": 8,
   "metadata": {},
   "outputs": [
    {
     "data": {
      "image/png": "[encoded data removed]",
      "text/plain": [
       "<Figure size 1080x576 with 1 Axes>"
      ]
     },
     "metadata": {
      "needs_background": "light"
     },
     "output_type": "display_data"
    }
   ],
   "source": [
    "a = pd.DataFrame(train.groupby('source_system_tab').size()).reset_index(level=0)\n",
    "a.columns = ['Source System Tab', 'Count']\n",
    "a = a.sort_values(by='Count', ascending=False)\n",
    "\n",
    "sns_bar(a,'Source System Tab', 'Count','Distribution of Source System Tab',col_pals[1])"
   ]
  },
  {
   "cell_type": "markdown",
   "metadata": {},
   "source": [
    "the above plot shows that certain types of source system tabs such as **\"my-library\"** or **\"discover\"** have higher frequency of song events. This also looks intutive as we mostly use our libraries to listen to songs. Let us explore the same relation in respect of the repeat percentage to see which level of source system tab contributes maximum to repeat events"
   ]
  },
  {
   "cell_type": "code",
   "execution_count": 9,
   "metadata": {},
   "outputs": [
    {
     "data": {
      "image/png": "[encoded data removed]",
      "text/plain": [
       "<Figure size 1080x576 with 1 Axes>"
      ]
     },
     "metadata": {
      "needs_background": "light"
     },
     "output_type": "display_data"
    }
   ],
   "source": [
    "repeat_df = train.groupby(['source_system_tab']).mean().sort_values(by='target', ascending=False).reset_index(level=0)\n",
    "repeat_df.columns = ['Source System Tab', 'Target']\n",
    "\n",
    "sns_bar(repeat_df,'Source System Tab', 'Target','Source System Tab v/s Target',col_pals[0])"
   ]
  },
  {
   "cell_type": "markdown",
   "metadata": {},
   "source": [
    "\n",
    "As suspected, my library has maxmium repeat percentage followed by settings, explore, serach and discover. Note that settings and explore have less events yet have high conversions."
   ]
  },
  {
   "cell_type": "code",
   "execution_count": 10,
   "metadata": {},
   "outputs": [
    {
     "data": {
      "image/png": "[encoded data removed]",
      "text/plain": [
       "<Figure size 1080x576 with 1 Axes>"
      ]
     },
     "metadata": {
      "needs_background": "light"
     },
     "output_type": "display_data"
    }
   ],
   "source": [
    "source_type = train.groupby(['source_type']).mean().sort_values(by='target', ascending=False).reset_index(level=0)\n",
    "source_type.columns = ['Source Type', 'Target']\n",
    "\n",
    "sns_bar(source_type,'Source Type', 'Target','Source Type v/s Target',col_pals[3],axis_rot=1)"
   ]
  },
  {
   "cell_type": "markdown",
   "metadata": {},
   "source": [
    "Similar to previous observation, \"My library\" and \"Local playlist\" more has high events and repeat percentage as compared to others. Therefore it might be worth looking at the source type as well. "
   ]
  },
  {
   "cell_type": "markdown",
   "metadata": {},
   "source": [
    "Member data exploration"
   ]
  },
  {
   "cell_type": "code",
   "execution_count": 11,
   "metadata": {},
   "outputs": [
    {
     "name": "stdout",
     "output_type": "stream",
     "text": [
      "Distinct features in dataframe:34403\n",
      "Distinct features in dataframe:21\n",
      "Distinct features in dataframe:95\n",
      "Distinct features in dataframe:3\n",
      "Distinct features in dataframe:6\n",
      "Distinct features in dataframe:3862\n",
      "Distinct features in dataframe:1484\n"
     ]
    }
   ],
   "source": [
    "summary(members)"
   ]
  },
  {
   "cell_type": "code",
   "execution_count": 12,
   "metadata": {},
   "outputs": [
    {
     "name": "stdout",
     "output_type": "stream",
     "text": [
      "msno ....0 ....0.00%\n",
      "city ....0 ....0.00%\n",
      "bd ....0 ....0.00%\n",
      "gender ....19902 ....57.85%\n",
      "registered_via ....0 ....0.00%\n",
      "registration_init_time ....0 ....0.00%\n",
      "expiration_date ....0 ....0.00%\n"
     ]
    }
   ],
   "source": [
    "count_na(members)"
   ]
  },
  {
   "cell_type": "code",
   "execution_count": 13,
   "metadata": {},
   "outputs": [
    {
     "data": {
      "image/png": "[encoded data removed]",
      "text/plain": [
       "<Figure size 1080x576 with 1 Axes>"
      ]
     },
     "metadata": {
      "needs_background": "light"
     },
     "output_type": "display_data"
    }
   ],
   "source": [
    "cities = pd.DataFrame(members.groupby(['city']).size()).reset_index(level=0)\n",
    "cities.columns = ['City_ID', 'Count']\n",
    "\n",
    "sns_bar(cities,'City_ID', 'Count','Member Characteristics: Cities',col_pals[4])"
   ]
  },
  {
   "cell_type": "markdown",
   "metadata": {},
   "source": [
    "The data has more members for City code #1 as compared to the other places. Some cities have very few people who prefer listening music via this music app."
   ]
  },
  {
   "cell_type": "code",
   "execution_count": 14,
   "metadata": {},
   "outputs": [
    {
     "data": {
      "image/png": "[encoded data removed]",
      "text/plain": [
       "<Figure size 1080x576 with 1 Axes>"
      ]
     },
     "metadata": {
      "needs_background": "light"
     },
     "output_type": "display_data"
    }
   ],
   "source": [
    "gender = pd.DataFrame(members.gender).replace(np.nan,'NA')\n",
    "gender = pd.DataFrame(gender.groupby('gender').size()).reset_index(level=0)\n",
    "gender.columns = ['Gender','Count']\n",
    "sns_bar(gender,'Gender','Count','Gender Characteristics of Members',col_pals[0])"
   ]
  },
  {
   "cell_type": "markdown",
   "metadata": {},
   "source": [
    "The above plot shows that the majority of the members have no information on the gender and for the ones available, the sex ratio of male to femaile is close to 1. "
   ]
  },
  {
   "cell_type": "code",
   "execution_count": 27,
   "metadata": {},
   "outputs": [
    {
     "data": {
      "text/html": [
       "<div>\n",
       "<style scoped>\n",
       "    .dataframe tbody tr th:only-of-type {\n",
       "        vertical-align: middle;\n",
       "    }\n",
       "\n",
       "    .dataframe tbody tr th {\n",
       "        vertical-align: top;\n",
       "    }\n",
       "\n",
       "    .dataframe thead th {\n",
       "        text-align: right;\n",
       "    }\n",
       "</style>\n",
       "<table border=\"1\" class=\"dataframe\">\n",
       "  <thead>\n",
       "    <tr style=\"text-align: right;\">\n",
       "      <th></th>\n",
       "      <th>msno</th>\n",
       "      <th>city</th>\n",
       "      <th>bd</th>\n",
       "      <th>gender</th>\n",
       "      <th>registered_via</th>\n",
       "      <th>registration_init_time</th>\n",
       "      <th>expiration_date</th>\n",
       "      <th>membership_days</th>\n",
       "    </tr>\n",
       "  </thead>\n",
       "  <tbody>\n",
       "    <tr>\n",
       "      <th>0</th>\n",
       "      <td>XQxgAYj3klVKjR3oxPPXYYFp4soD4TuBghkhMTD4oTw=</td>\n",
       "      <td>1</td>\n",
       "      <td>0</td>\n",
       "      <td>NaN</td>\n",
       "      <td>7</td>\n",
       "      <td>2011-08-20</td>\n",
       "      <td>2017-09-20</td>\n",
       "      <td>11</td>\n",
       "    </tr>\n",
       "    <tr>\n",
       "      <th>1</th>\n",
       "      <td>UizsfmJb9mV54qE9hCYyU07Va97c0lCRLEQX3ae+ztM=</td>\n",
       "      <td>1</td>\n",
       "      <td>0</td>\n",
       "      <td>NaN</td>\n",
       "      <td>7</td>\n",
       "      <td>2015-06-28</td>\n",
       "      <td>2017-06-22</td>\n",
       "      <td>3</td>\n",
       "    </tr>\n",
       "    <tr>\n",
       "      <th>2</th>\n",
       "      <td>D8nEhsIOBSoE6VthTaqDX8U6lqjJ7dLdr72mOyLya2A=</td>\n",
       "      <td>1</td>\n",
       "      <td>0</td>\n",
       "      <td>NaN</td>\n",
       "      <td>4</td>\n",
       "      <td>2016-04-11</td>\n",
       "      <td>2017-07-12</td>\n",
       "      <td>2</td>\n",
       "    </tr>\n",
       "    <tr>\n",
       "      <th>3</th>\n",
       "      <td>mCuD+tZ1hERA/o5GPqk38e041J8ZsBaLcu7nGoIIvhI=</td>\n",
       "      <td>1</td>\n",
       "      <td>0</td>\n",
       "      <td>NaN</td>\n",
       "      <td>9</td>\n",
       "      <td>2015-09-06</td>\n",
       "      <td>2015-09-07</td>\n",
       "      <td>0</td>\n",
       "    </tr>\n",
       "    <tr>\n",
       "      <th>4</th>\n",
       "      <td>q4HRBfVSssAFS9iRfxWrohxuk9kCYMKjHOEagUMV6rQ=</td>\n",
       "      <td>1</td>\n",
       "      <td>0</td>\n",
       "      <td>NaN</td>\n",
       "      <td>4</td>\n",
       "      <td>2017-01-26</td>\n",
       "      <td>2017-06-13</td>\n",
       "      <td>0</td>\n",
       "    </tr>\n",
       "  </tbody>\n",
       "</table>\n",
       "</div>"
      ],
      "text/plain": [
       "                                           msno  city  bd gender  \\\n",
       "0  XQxgAYj3klVKjR3oxPPXYYFp4soD4TuBghkhMTD4oTw=     1   0    NaN   \n",
       "1  UizsfmJb9mV54qE9hCYyU07Va97c0lCRLEQX3ae+ztM=     1   0    NaN   \n",
       "2  D8nEhsIOBSoE6VthTaqDX8U6lqjJ7dLdr72mOyLya2A=     1   0    NaN   \n",
       "3  mCuD+tZ1hERA/o5GPqk38e041J8ZsBaLcu7nGoIIvhI=     1   0    NaN   \n",
       "4  q4HRBfVSssAFS9iRfxWrohxuk9kCYMKjHOEagUMV6rQ=     1   0    NaN   \n",
       "\n",
       "   registered_via registration_init_time expiration_date membership_days  \n",
       "0               7             2011-08-20      2017-09-20              11  \n",
       "1               7             2015-06-28      2017-06-22               3  \n",
       "2               4             2016-04-11      2017-07-12               2  \n",
       "3               9             2015-09-06      2015-09-07               0  \n",
       "4               4             2017-01-26      2017-06-13               0  "
      ]
     },
     "execution_count": 27,
     "metadata": {},
     "output_type": "execute_result"
    }
   ],
   "source": [
    "members.head()"
   ]
  },
  {
   "cell_type": "code",
   "execution_count": 32,
   "metadata": {
    "scrolled": false
   },
   "outputs": [
    {
     "data": {
      "image/png": "[encoded data removed]",
      "text/plain": [
       "<Figure size 1080x576 with 1 Axes>"
      ]
     },
     "metadata": {
      "needs_background": "light"
     },
     "output_type": "display_data"
    }
   ],
   "source": [
    "age = pd.DataFrame(members.groupby(['bd']).size()).reset_index(level=0)\n",
    "age.columns = ['Age','Count']\n",
    "\n",
    "sns_bar(age,'Age','Count','Age Distribution of members',col_pals[6],axis_rot=1)\n",
    "\n",
    "# plt.figure(figsize=(15,8))\n",
    "# ax = sns.histplot()\n",
    "\n",
    "# plt.figure(figsize=(15,4))\n",
    "# ax = sns.lineplot(data=resgistrations, color='#596657')\n",
    "# ax.set(xlabel='Registration Date', ylabel='Count')\n",
    "# ax.set_title('Distribution of Registration Date', fontsize=15)\n",
    "# plt.show()"
   ]
  },
  {
   "cell_type": "markdown",
   "metadata": {},
   "source": [
    "The age distribution plot above shows the outliers in member's age such as very small age(age =0) and extremly large age numbers (age>130)"
   ]
  },
  {
   "cell_type": "code",
   "execution_count": 40,
   "metadata": {},
   "outputs": [
    {
     "data": {
      "image/png": "[encoded data removed]",
      "text/plain": [
       "<Figure size 1080x576 with 1 Axes>"
      ]
     },
     "metadata": {
      "needs_background": "light"
     },
     "output_type": "display_data"
    }
   ],
   "source": [
    "age_filtered = pd.DataFrame(members.groupby(['bd']).size()).reset_index(level=0)\n",
    "age_filtered.columns = ['Age','Count']\n",
    "age_filtered = age_filtered.loc[(age_filtered['Age'] > 0) & (age_filtered['Age'] < 70)]\n",
    "sns_bar(age_filtered,'Age','Count','Age Distribution of members',col_pals[6],axis_rot=1)"
   ]
  },
  {
   "cell_type": "markdown",
   "metadata": {},
   "source": [
    "if one sees the age distribution of member ages between 2 - 70 years, the distribution seems normal. "
   ]
  },
  {
   "cell_type": "code",
   "execution_count": 15,
   "metadata": {},
   "outputs": [
    {
     "data": {
      "image/png": "[encoded data removed]",
      "text/plain": [
       "<Figure size 1080x288 with 1 Axes>"
      ]
     },
     "metadata": {
      "needs_background": "light"
     },
     "output_type": "display_data"
    }
   ],
   "source": [
    "resgistrations = members['registration_init_time'].value_counts()\n",
    "resgistrations.columns = ['Registration Date', 'Count']\n",
    "\n",
    "plt.figure(figsize=(15,4))\n",
    "ax = sns.lineplot(data=resgistrations, color='#596657')\n",
    "ax.set(xlabel='Registration Date', ylabel='Count')\n",
    "ax.set_title('Distribution of Registration Date', fontsize=15)\n",
    "plt.show()"
   ]
  },
  {
   "cell_type": "markdown",
   "metadata": {},
   "source": [
    "We can a spike in music app membership registration post 2015. The advent of music streaming technology can be one of the reason behind rise of application such as Kkbox or spotify making music available to masses."
   ]
  },
  {
   "cell_type": "code",
   "execution_count": 16,
   "metadata": {},
   "outputs": [
    {
     "data": {
      "image/png": "[encoded data removed]",
      "text/plain": [
       "<Figure size 1080x288 with 1 Axes>"
      ]
     },
     "metadata": {
      "needs_background": "light"
     },
     "output_type": "display_data"
    }
   ],
   "source": [
    "def add_days_left(train):\n",
    "    train['membership_days'] = (train.expiration_date - train.registration_init_time).dt.days.astype('int')\n",
    "    train['membership_days'] = train['membership_days']//200\n",
    "    train['membership_days'] = train['membership_days'].astype('category')\n",
    "    return train\n",
    "\n",
    "membership = add_days_left(members)\n",
    "\n",
    "\n",
    "plt.figure(figsize=(15,4))\n",
    "ax = sns.distplot(membership.membership_days, color='#596657')\n",
    "ax.set_title('Distribution of Membership days left', fontsize=15)\n",
    "plt.show()"
   ]
  },
  {
   "cell_type": "code",
   "execution_count": 17,
   "metadata": {},
   "outputs": [
    {
     "data": {
      "text/html": [
       "<div>\n",
       "<style scoped>\n",
       "    .dataframe tbody tr th:only-of-type {\n",
       "        vertical-align: middle;\n",
       "    }\n",
       "\n",
       "    .dataframe tbody tr th {\n",
       "        vertical-align: top;\n",
       "    }\n",
       "\n",
       "    .dataframe thead th {\n",
       "        text-align: right;\n",
       "    }\n",
       "</style>\n",
       "<table border=\"1\" class=\"dataframe\">\n",
       "  <thead>\n",
       "    <tr style=\"text-align: right;\">\n",
       "      <th></th>\n",
       "      <th>song_id</th>\n",
       "      <th>song_length</th>\n",
       "      <th>genre_ids</th>\n",
       "      <th>artist_name</th>\n",
       "      <th>composer</th>\n",
       "      <th>lyricist</th>\n",
       "      <th>language</th>\n",
       "    </tr>\n",
       "  </thead>\n",
       "  <tbody>\n",
       "    <tr>\n",
       "      <th>0</th>\n",
       "      <td>CXoTN1eb7AI+DntdU1vbcwGRV4SCIDxZu+YD8JP8r4E=</td>\n",
       "      <td>247640</td>\n",
       "      <td>465</td>\n",
       "      <td>張信哲 (Jeff Chang)</td>\n",
       "      <td>董貞</td>\n",
       "      <td>何啟弘</td>\n",
       "      <td>3.0</td>\n",
       "    </tr>\n",
       "    <tr>\n",
       "      <th>1</th>\n",
       "      <td>o0kFgae9QtnYgRkVPqLJwa05zIhRlUjfF7O1tDw0ZDU=</td>\n",
       "      <td>197328</td>\n",
       "      <td>444</td>\n",
       "      <td>BLACKPINK</td>\n",
       "      <td>TEDDY|  FUTURE BOUNCE|  Bekuh BOOM</td>\n",
       "      <td>TEDDY</td>\n",
       "      <td>31.0</td>\n",
       "    </tr>\n",
       "    <tr>\n",
       "      <th>2</th>\n",
       "      <td>DwVvVurfpuz+XPuFvucclVQEyPqcpUkHR0ne1RQzPs0=</td>\n",
       "      <td>231781</td>\n",
       "      <td>465</td>\n",
       "      <td>SUPER JUNIOR</td>\n",
       "      <td>NaN</td>\n",
       "      <td>NaN</td>\n",
       "      <td>31.0</td>\n",
       "    </tr>\n",
       "    <tr>\n",
       "      <th>3</th>\n",
       "      <td>dKMBWoZyScdxSkihKG+Vf47nc18N9q4m58+b4e7dSSE=</td>\n",
       "      <td>273554</td>\n",
       "      <td>465</td>\n",
       "      <td>S.H.E</td>\n",
       "      <td>湯小康</td>\n",
       "      <td>徐世珍</td>\n",
       "      <td>3.0</td>\n",
       "    </tr>\n",
       "    <tr>\n",
       "      <th>4</th>\n",
       "      <td>W3bqWd3T+VeHFzHAUfARgW9AvVRaF4N5Yzm4Mr6Eo/o=</td>\n",
       "      <td>140329</td>\n",
       "      <td>726</td>\n",
       "      <td>貴族精選</td>\n",
       "      <td>Traditional</td>\n",
       "      <td>Traditional</td>\n",
       "      <td>52.0</td>\n",
       "    </tr>\n",
       "  </tbody>\n",
       "</table>\n",
       "</div>"
      ],
      "text/plain": [
       "                                        song_id  song_length genre_ids  \\\n",
       "0  CXoTN1eb7AI+DntdU1vbcwGRV4SCIDxZu+YD8JP8r4E=       247640       465   \n",
       "1  o0kFgae9QtnYgRkVPqLJwa05zIhRlUjfF7O1tDw0ZDU=       197328       444   \n",
       "2  DwVvVurfpuz+XPuFvucclVQEyPqcpUkHR0ne1RQzPs0=       231781       465   \n",
       "3  dKMBWoZyScdxSkihKG+Vf47nc18N9q4m58+b4e7dSSE=       273554       465   \n",
       "4  W3bqWd3T+VeHFzHAUfARgW9AvVRaF4N5Yzm4Mr6Eo/o=       140329       726   \n",
       "\n",
       "        artist_name                            composer     lyricist  language  \n",
       "0  張信哲 (Jeff Chang)                                  董貞          何啟弘       3.0  \n",
       "1         BLACKPINK  TEDDY|  FUTURE BOUNCE|  Bekuh BOOM        TEDDY      31.0  \n",
       "2      SUPER JUNIOR                                 NaN          NaN      31.0  \n",
       "3             S.H.E                                 湯小康          徐世珍       3.0  \n",
       "4              貴族精選                         Traditional  Traditional      52.0  "
      ]
     },
     "execution_count": 17,
     "metadata": {},
     "output_type": "execute_result"
    }
   ],
   "source": [
    "songs.head(5)"
   ]
  },
  {
   "cell_type": "code",
   "execution_count": 18,
   "metadata": {},
   "outputs": [
    {
     "name": "stdout",
     "output_type": "stream",
     "text": [
      "Distinct features in dataframe:2296320\n",
      "Distinct features in dataframe:146534\n",
      "Distinct features in dataframe:1046\n",
      "Distinct features in dataframe:222363\n",
      "Distinct features in dataframe:329824\n",
      "Distinct features in dataframe:110926\n",
      "Distinct features in dataframe:11\n"
     ]
    }
   ],
   "source": [
    "summary(songs)"
   ]
  },
  {
   "cell_type": "code",
   "execution_count": 19,
   "metadata": {},
   "outputs": [
    {
     "name": "stdout",
     "output_type": "stream",
     "text": [
      "song_id ....0 ....0.00%\n",
      "song_length ....0 ....0.00%\n",
      "genre_ids ....94116 ....4.10%\n",
      "artist_name ....0 ....0.00%\n",
      "composer ....1071354 ....46.66%\n",
      "lyricist ....1945268 ....84.71%\n",
      "language ....1 ....0.00%\n"
     ]
    }
   ],
   "source": [
    "count_na(songs)"
   ]
  },
  {
   "cell_type": "markdown",
   "metadata": {},
   "source": [
    "The songs data has many higher missing values for columns composer and lyricist. "
   ]
  },
  {
   "cell_type": "code",
   "execution_count": 20,
   "metadata": {},
   "outputs": [
    {
     "data": {
      "text/plain": [
       "Text(0.5, 1.0, 'What language songs do people listen')"
      ]
     },
     "execution_count": 20,
     "metadata": {},
     "output_type": "execute_result"
    },
    {
     "data": {
      "image/png": "[encoded data removed]",
      "text/plain": [
       "<Figure size 1080x576 with 1 Axes>"
      ]
     },
     "metadata": {
      "needs_background": "light"
     },
     "output_type": "display_data"
    }
   ],
   "source": [
    "language = pd.DataFrame(songs.groupby(['language']).size()).reset_index(level=0)\n",
    "language.columns = ['Language', 'Count']\n",
    "language = language.sort_values(by='Count', ascending=False)\n",
    "language['Language']=language['Language'].astype('str')\n",
    "\n",
    "plt.figure(figsize=(15,8))\n",
    "ax = sns.barplot(x='Language', y='Count', order=language['Language'],\n",
    "                 data=language, palette=col_pals[6])\n",
    "ax.set_title('What language songs do people listen', fontsize=15)"
   ]
  },
  {
   "cell_type": "code",
   "execution_count": 21,
   "metadata": {},
   "outputs": [
    {
     "name": "stdout",
     "output_type": "stream",
     "text": [
      "Mean song length in minutes: 4.12 mins\n",
      "Number of songs which have length greater than 10 minutes:37274\n"
     ]
    },
    {
     "data": {
      "image/png": "[encoded data removed]",
      "text/plain": [
       "<Figure size 1080x576 with 1 Axes>"
      ]
     },
     "metadata": {
      "needs_background": "light"
     },
     "output_type": "display_data"
    }
   ],
   "source": [
    "print(\"Mean song length in minutes: {} mins\".format(round((songs.song_length/6e4).describe()[1],2)))\n",
    "#print(\"\\n\")\n",
    "print(\"Number of songs which have length greater than 10 minutes:{}\".format(songs.query('song_length/6e4>10').shape[0]))\n",
    "plt.subplots(figsize=(15, 8))\n",
    "#x = ((songs.query('song_length/6e4<10')).song_length/6e4)\n",
    "x = songs.song_length/6e4\n",
    "ax = sns.distplot(x, color='black')\n",
    "ax.set_title('Distribution of Song Length', fontsize=15)\n",
    "ax.set(xlabel='Song Length', ylabel='Count')\n",
    "plt.show()\n",
    "# ax.savefig('song_length_wo_outliers.png')"
   ]
  },
  {
   "cell_type": "code",
   "execution_count": 22,
   "metadata": {},
   "outputs": [
    {
     "data": {
      "image/png": "[encoded data removed]",
      "text/plain": [
       "<Figure size 1080x576 with 1 Axes>"
      ]
     },
     "metadata": {
      "needs_background": "light"
     },
     "output_type": "display_data"
    }
   ],
   "source": [
    "plt.subplots(figsize=(15, 8))\n",
    "x = ((songs.query('song_length/6e4<10')).song_length/6e4)\n",
    "#x = songs.song_length/6e4\n",
    "ax = sns.distplot(x, color='black')\n",
    "ax.set_title('Distribution of Song Length', fontsize=15)\n",
    "ax.set(xlabel='Song Length', ylabel='Count')\n",
    "plt.show()"
   ]
  },
  {
   "cell_type": "code",
   "execution_count": 31,
   "metadata": {},
   "outputs": [],
   "source": [
    "# row=[]\n",
    "# all=[]\n",
    "# for i in range(len(extra_songs.name)):\n",
    "#     try:\n",
    "#         language = detect(extra_songs.name[i])\n",
    "#     except:\n",
    "#         language = \"error\"\n",
    "#     row.append(language)\n",
    "#     all.append(i)"
   ]
  },
  {
   "cell_type": "code",
   "execution_count": 25,
   "metadata": {},
   "outputs": [
    {
     "data": {
      "text/html": [
       "<div>\n",
       "<style scoped>\n",
       "    .dataframe tbody tr th:only-of-type {\n",
       "        vertical-align: middle;\n",
       "    }\n",
       "\n",
       "    .dataframe tbody tr th {\n",
       "        vertical-align: top;\n",
       "    }\n",
       "\n",
       "    .dataframe thead th {\n",
       "        text-align: right;\n",
       "    }\n",
       "</style>\n",
       "<table border=\"1\" class=\"dataframe\">\n",
       "  <thead>\n",
       "    <tr style=\"text-align: right;\">\n",
       "      <th></th>\n",
       "      <th>song_id</th>\n",
       "      <th>name</th>\n",
       "      <th>isrc</th>\n",
       "      <th>language</th>\n",
       "    </tr>\n",
       "  </thead>\n",
       "  <tbody>\n",
       "    <tr>\n",
       "      <th>0</th>\n",
       "      <td>LP7pLJoJFBvyuUwvu+oLzjT+bI+UeBPURCecJsX1jjs=</td>\n",
       "      <td>我們</td>\n",
       "      <td>TWUM71200043</td>\n",
       "      <td>error</td>\n",
       "    </tr>\n",
       "    <tr>\n",
       "      <th>1</th>\n",
       "      <td>ClazTFnk6r0Bnuie44bocdNMM3rdlrq0bCGAsGUWcHE=</td>\n",
       "      <td>Let Me Love You</td>\n",
       "      <td>QMZSY1600015</td>\n",
       "      <td>error</td>\n",
       "    </tr>\n",
       "    <tr>\n",
       "      <th>2</th>\n",
       "      <td>u2ja/bZE3zhCGxvbbOB3zOoUjx27u40cf5g09UXMoKQ=</td>\n",
       "      <td>原諒我</td>\n",
       "      <td>TWA530887303</td>\n",
       "      <td>error</td>\n",
       "    </tr>\n",
       "    <tr>\n",
       "      <th>3</th>\n",
       "      <td>92Fqsy0+p6+RHe2EoLKjHahORHR1Kq1TBJoClW9v+Ts=</td>\n",
       "      <td>Classic</td>\n",
       "      <td>USSM11301446</td>\n",
       "      <td>error</td>\n",
       "    </tr>\n",
       "    <tr>\n",
       "      <th>4</th>\n",
       "      <td>0QFmz/+rJy1Q56C1DuYqT9hKKqi5TUqx0sN0IwvoHrw=</td>\n",
       "      <td>愛投羅網</td>\n",
       "      <td>TWA471306001</td>\n",
       "      <td>error</td>\n",
       "    </tr>\n",
       "  </tbody>\n",
       "</table>\n",
       "</div>"
      ],
      "text/plain": [
       "                                        song_id             name  \\\n",
       "0  LP7pLJoJFBvyuUwvu+oLzjT+bI+UeBPURCecJsX1jjs=               我們   \n",
       "1  ClazTFnk6r0Bnuie44bocdNMM3rdlrq0bCGAsGUWcHE=  Let Me Love You   \n",
       "2  u2ja/bZE3zhCGxvbbOB3zOoUjx27u40cf5g09UXMoKQ=              原諒我   \n",
       "3  92Fqsy0+p6+RHe2EoLKjHahORHR1Kq1TBJoClW9v+Ts=          Classic   \n",
       "4  0QFmz/+rJy1Q56C1DuYqT9hKKqi5TUqx0sN0IwvoHrw=             愛投羅網   \n",
       "\n",
       "           isrc language  \n",
       "0  TWUM71200043    error  \n",
       "1  QMZSY1600015    error  \n",
       "2  TWA530887303    error  \n",
       "3  USSM11301446    error  \n",
       "4  TWA471306001    error  "
      ]
     },
     "execution_count": 25,
     "metadata": {},
     "output_type": "execute_result"
    }
   ],
   "source": [
    "def detect_language(p):\n",
    "    try: \n",
    "        c = detec(p)\n",
    "    except:\n",
    "        c =\"error\"\n",
    "        \n",
    "    return c\n",
    "\n",
    "extra_example = extra_songs.copy()\n",
    "    \n",
    "extra_example['language']= extra_songs['name'].apply(detect_language)\n",
    "        \n",
    "extra_example.head()"
   ]
  },
  {
   "cell_type": "code",
   "execution_count": 23,
   "metadata": {},
   "outputs": [
    {
     "data": {
      "image/png": "[encoded data removed]",
      "text/plain": [
       "<Figure size 1080x576 with 1 Axes>"
      ]
     },
     "metadata": {
      "needs_background": "light"
     },
     "output_type": "display_data"
    }
   ],
   "source": [
    "genre_df = pd.DataFrame.from_dict(genres_separate(songs.genre_ids),\n",
    "                                     orient='index',\n",
    "                                     columns=['Counts']).reset_index(level=0)\n",
    "genre_df = genre_df.sort_values(by='Counts', ascending=False)\n",
    "genre_df = genre_df[0:50]\n",
    "genre_df.columns = ['Genre', 'Count']\n",
    "genre_df['Genre']= genre_df['Genre'].astype('str')\n",
    "\n",
    "\n",
    "plt.figure(figsize=(15,8))\n",
    "ax = sns.barplot(x='Genre', y='Count', order=genre_df['Genre'],\n",
    "                 data=genre_df, palette = \"ch:7,-0.8,dark=.4\")\n",
    "ax.set_title('Distribution of first 50 Genre of the songs', fontsize=15)\n",
    "ax.set_xticklabels(ax.get_xticklabels(),rotation=90)\n",
    "\n",
    "plt.show()"
   ]
  },
  {
   "cell_type": "code",
   "execution_count": 24,
   "metadata": {},
   "outputs": [],
   "source": [
    "listen_log = train[['msno',\n",
    "                    'song_id',\n",
    "                    'target']].merge(songs[['song_id',\n",
    "                                            'artist_name',\n",
    "                                            'genre_ids',\n",
    "                                            'language']],\n",
    "                                             on='song_id')"
   ]
  },
  {
   "cell_type": "code",
   "execution_count": 25,
   "metadata": {},
   "outputs": [
    {
     "name": "stdout",
     "output_type": "stream",
     "text": [
      "10 Most repeated artists:\n"
     ]
    },
    {
     "data": {
      "text/html": [
       "<div>\n",
       "<style scoped>\n",
       "    .dataframe tbody tr th:only-of-type {\n",
       "        vertical-align: middle;\n",
       "    }\n",
       "\n",
       "    .dataframe tbody tr th {\n",
       "        vertical-align: top;\n",
       "    }\n",
       "\n",
       "    .dataframe thead th {\n",
       "        text-align: right;\n",
       "    }\n",
       "</style>\n",
       "<table border=\"1\" class=\"dataframe\">\n",
       "  <thead>\n",
       "    <tr style=\"text-align: right;\">\n",
       "      <th></th>\n",
       "      <th>artist_name</th>\n",
       "      <th>count</th>\n",
       "    </tr>\n",
       "  </thead>\n",
       "  <tbody>\n",
       "    <tr>\n",
       "      <th>0</th>\n",
       "      <td>Various Artists</td>\n",
       "      <td>154799</td>\n",
       "    </tr>\n",
       "    <tr>\n",
       "      <th>1</th>\n",
       "      <td>周杰倫 (Jay Chou)</td>\n",
       "      <td>112227</td>\n",
       "    </tr>\n",
       "    <tr>\n",
       "      <th>2</th>\n",
       "      <td>五月天 (Mayday)</td>\n",
       "      <td>101027</td>\n",
       "    </tr>\n",
       "    <tr>\n",
       "      <th>3</th>\n",
       "      <td>林俊傑 (JJ Lin)</td>\n",
       "      <td>67621</td>\n",
       "    </tr>\n",
       "    <tr>\n",
       "      <th>4</th>\n",
       "      <td>田馥甄 (Hebe)</td>\n",
       "      <td>60481</td>\n",
       "    </tr>\n",
       "    <tr>\n",
       "      <th>5</th>\n",
       "      <td>玖壹壹</td>\n",
       "      <td>43964</td>\n",
       "    </tr>\n",
       "    <tr>\n",
       "      <th>6</th>\n",
       "      <td>陳奕迅 (Eason Chan)</td>\n",
       "      <td>43895</td>\n",
       "    </tr>\n",
       "    <tr>\n",
       "      <th>7</th>\n",
       "      <td>aMEI (張惠妹)</td>\n",
       "      <td>41498</td>\n",
       "    </tr>\n",
       "    <tr>\n",
       "      <th>8</th>\n",
       "      <td>G.E.M.鄧紫棋</td>\n",
       "      <td>41423</td>\n",
       "    </tr>\n",
       "    <tr>\n",
       "      <th>9</th>\n",
       "      <td>謝和弦 (R-chord)</td>\n",
       "      <td>36423</td>\n",
       "    </tr>\n",
       "  </tbody>\n",
       "</table>\n",
       "</div>"
      ],
      "text/plain": [
       "        artist_name   count\n",
       "0   Various Artists  154799\n",
       "1    周杰倫 (Jay Chou)  112227\n",
       "2      五月天 (Mayday)  101027\n",
       "3      林俊傑 (JJ Lin)   67621\n",
       "4        田馥甄 (Hebe)   60481\n",
       "5               玖壹壹   43964\n",
       "6  陳奕迅 (Eason Chan)   43895\n",
       "7        aMEI (張惠妹)   41498\n",
       "8         G.E.M.鄧紫棋   41423\n",
       "9     謝和弦 (R-chord)   36423"
      ]
     },
     "execution_count": 25,
     "metadata": {},
     "output_type": "execute_result"
    }
   ],
   "source": [
    "print('10 Most repeated artists:')\n",
    "listen_log[listen_log.target==1].groupby('artist_name').size().nlargest(10).reset_index(name='count')"
   ]
  },
  {
   "cell_type": "code",
   "execution_count": 26,
   "metadata": {},
   "outputs": [
    {
     "name": "stdout",
     "output_type": "stream",
     "text": [
      "10 Most skipped artists:\n"
     ]
    },
    {
     "data": {
      "text/html": [
       "<div>\n",
       "<style scoped>\n",
       "    .dataframe tbody tr th:only-of-type {\n",
       "        vertical-align: middle;\n",
       "    }\n",
       "\n",
       "    .dataframe tbody tr th {\n",
       "        vertical-align: top;\n",
       "    }\n",
       "\n",
       "    .dataframe thead th {\n",
       "        text-align: right;\n",
       "    }\n",
       "</style>\n",
       "<table border=\"1\" class=\"dataframe\">\n",
       "  <thead>\n",
       "    <tr style=\"text-align: right;\">\n",
       "      <th></th>\n",
       "      <th>artist_name</th>\n",
       "      <th>count</th>\n",
       "    </tr>\n",
       "  </thead>\n",
       "  <tbody>\n",
       "    <tr>\n",
       "      <th>0</th>\n",
       "      <td>Various Artists</td>\n",
       "      <td>148817</td>\n",
       "    </tr>\n",
       "    <tr>\n",
       "      <th>1</th>\n",
       "      <td>五月天 (Mayday)</td>\n",
       "      <td>81061</td>\n",
       "    </tr>\n",
       "    <tr>\n",
       "      <th>2</th>\n",
       "      <td>周杰倫 (Jay Chou)</td>\n",
       "      <td>74549</td>\n",
       "    </tr>\n",
       "    <tr>\n",
       "      <th>3</th>\n",
       "      <td>林俊傑 (JJ Lin)</td>\n",
       "      <td>47704</td>\n",
       "    </tr>\n",
       "    <tr>\n",
       "      <th>4</th>\n",
       "      <td>田馥甄 (Hebe)</td>\n",
       "      <td>44465</td>\n",
       "    </tr>\n",
       "    <tr>\n",
       "      <th>5</th>\n",
       "      <td>aMEI (張惠妹)</td>\n",
       "      <td>41301</td>\n",
       "    </tr>\n",
       "    <tr>\n",
       "      <th>6</th>\n",
       "      <td>陳奕迅 (Eason Chan)</td>\n",
       "      <td>32140</td>\n",
       "    </tr>\n",
       "    <tr>\n",
       "      <th>7</th>\n",
       "      <td>BIGBANG</td>\n",
       "      <td>26610</td>\n",
       "    </tr>\n",
       "    <tr>\n",
       "      <th>8</th>\n",
       "      <td>玖壹壹</td>\n",
       "      <td>26481</td>\n",
       "    </tr>\n",
       "    <tr>\n",
       "      <th>9</th>\n",
       "      <td>G.E.M.鄧紫棋</td>\n",
       "      <td>25873</td>\n",
       "    </tr>\n",
       "  </tbody>\n",
       "</table>\n",
       "</div>"
      ],
      "text/plain": [
       "        artist_name   count\n",
       "0   Various Artists  148817\n",
       "1      五月天 (Mayday)   81061\n",
       "2    周杰倫 (Jay Chou)   74549\n",
       "3      林俊傑 (JJ Lin)   47704\n",
       "4        田馥甄 (Hebe)   44465\n",
       "5        aMEI (張惠妹)   41301\n",
       "6  陳奕迅 (Eason Chan)   32140\n",
       "7           BIGBANG   26610\n",
       "8               玖壹壹   26481\n",
       "9         G.E.M.鄧紫棋   25873"
      ]
     },
     "execution_count": 26,
     "metadata": {},
     "output_type": "execute_result"
    }
   ],
   "source": [
    "print('10 Most skipped artists:')\n",
    "listen_log[listen_log.target==0].groupby('artist_name').size().nlargest(10).reset_index(name='count')"
   ]
  },
  {
   "cell_type": "markdown",
   "metadata": {},
   "source": [
    "## Data Processing and Feature Engineering  <a class=\"anchor\" id=\"fourth-bullet\"></a>"
   ]
  },
  {
   "cell_type": "markdown",
   "metadata": {},
   "source": [
    "Merging all the dataframes to create a training data. "
   ]
  },
  {
   "cell_type": "markdown",
   "metadata": {},
   "source": [
    "Re-classification of the data type in the dataframe"
   ]
  },
  {
   "cell_type": "code",
   "execution_count": 163,
   "metadata": {},
   "outputs": [],
   "source": [
    "# Correction in column type\n",
    "members.city = members.city.astype('category')\n",
    "members.registered_via = members.registered_via.astype('category')\n",
    "songs.language = songs.language.astype('category')"
   ]
  },
  {
   "cell_type": "code",
   "execution_count": 249,
   "metadata": {},
   "outputs": [],
   "source": [
    "#song_cols = ['song_id', 'artist_name', 'genre_ids', 'song_length', 'language']\n",
    "# Merge all data files\n",
    "train_df = train.merge(songs, how='left', on='song_id')\n",
    "train_df = train_df.merge(members, how='left', on='msno')\n",
    "train_df = train_df.merge(extra_songs, how='left', on='song_id')"
   ]
  },
  {
   "cell_type": "code",
   "execution_count": 250,
   "metadata": {
    "scrolled": false
   },
   "outputs": [
    {
     "data": {
      "text/html": [
       "<div>\n",
       "<style scoped>\n",
       "    .dataframe tbody tr th:only-of-type {\n",
       "        vertical-align: middle;\n",
       "    }\n",
       "\n",
       "    .dataframe tbody tr th {\n",
       "        vertical-align: top;\n",
       "    }\n",
       "\n",
       "    .dataframe thead th {\n",
       "        text-align: right;\n",
       "    }\n",
       "</style>\n",
       "<table border=\"1\" class=\"dataframe\">\n",
       "  <thead>\n",
       "    <tr style=\"text-align: right;\">\n",
       "      <th></th>\n",
       "      <th>msno</th>\n",
       "      <th>song_id</th>\n",
       "      <th>source_system_tab</th>\n",
       "      <th>source_screen_name</th>\n",
       "      <th>source_type</th>\n",
       "      <th>target</th>\n",
       "      <th>song_length</th>\n",
       "      <th>genre_ids</th>\n",
       "      <th>artist_name</th>\n",
       "      <th>composer</th>\n",
       "      <th>lyricist</th>\n",
       "      <th>language</th>\n",
       "      <th>city</th>\n",
       "      <th>bd</th>\n",
       "      <th>gender</th>\n",
       "      <th>registered_via</th>\n",
       "      <th>registration_init_time</th>\n",
       "      <th>expiration_date</th>\n",
       "      <th>name</th>\n",
       "      <th>isrc</th>\n",
       "    </tr>\n",
       "  </thead>\n",
       "  <tbody>\n",
       "    <tr>\n",
       "      <th>0</th>\n",
       "      <td>FGtllVqz18RPiwJj/edr2gV78zirAiY/9SmYvia+kCg=</td>\n",
       "      <td>BBzumQNXUHKdEBOB7mAJuzok+IJA1c2Ryg/yzTF6tik=</td>\n",
       "      <td>explore</td>\n",
       "      <td>Explore</td>\n",
       "      <td>online-playlist</td>\n",
       "      <td>1</td>\n",
       "      <td>206471.0</td>\n",
       "      <td>359</td>\n",
       "      <td>Bastille</td>\n",
       "      <td>Dan Smith| Mark Crew</td>\n",
       "      <td>NaN</td>\n",
       "      <td>52.0</td>\n",
       "      <td>1</td>\n",
       "      <td>0</td>\n",
       "      <td>NaN</td>\n",
       "      <td>7</td>\n",
       "      <td>2012-01-02</td>\n",
       "      <td>2017-10-05</td>\n",
       "      <td>Good Grief</td>\n",
       "      <td>GBUM71602854</td>\n",
       "    </tr>\n",
       "    <tr>\n",
       "      <th>1</th>\n",
       "      <td>Xumu+NIjS6QYVxDS4/t3SawvJ7viT9hPKXmf0RtLNx8=</td>\n",
       "      <td>bhp/MpSNoqoxOIB+/l8WPqu6jldth4DIpCm3ayXnJqM=</td>\n",
       "      <td>my library</td>\n",
       "      <td>Local playlist more</td>\n",
       "      <td>local-playlist</td>\n",
       "      <td>1</td>\n",
       "      <td>284584.0</td>\n",
       "      <td>1259</td>\n",
       "      <td>Various Artists</td>\n",
       "      <td>NaN</td>\n",
       "      <td>NaN</td>\n",
       "      <td>52.0</td>\n",
       "      <td>13</td>\n",
       "      <td>24</td>\n",
       "      <td>female</td>\n",
       "      <td>9</td>\n",
       "      <td>2011-05-25</td>\n",
       "      <td>2017-09-11</td>\n",
       "      <td>Lords of Cardboard</td>\n",
       "      <td>US3C69910183</td>\n",
       "    </tr>\n",
       "    <tr>\n",
       "      <th>2</th>\n",
       "      <td>Xumu+NIjS6QYVxDS4/t3SawvJ7viT9hPKXmf0RtLNx8=</td>\n",
       "      <td>JNWfrrC7zNN7BdMpsISKa4Mw+xVJYNnxXh3/Epw7QgY=</td>\n",
       "      <td>my library</td>\n",
       "      <td>Local playlist more</td>\n",
       "      <td>local-playlist</td>\n",
       "      <td>1</td>\n",
       "      <td>225396.0</td>\n",
       "      <td>1259</td>\n",
       "      <td>Nas</td>\n",
       "      <td>N. Jones、W. Adams、J. Lordan、D. Ingle</td>\n",
       "      <td>NaN</td>\n",
       "      <td>52.0</td>\n",
       "      <td>13</td>\n",
       "      <td>24</td>\n",
       "      <td>female</td>\n",
       "      <td>9</td>\n",
       "      <td>2011-05-25</td>\n",
       "      <td>2017-09-11</td>\n",
       "      <td>Hip Hop Is Dead(Album Version (Edited))</td>\n",
       "      <td>USUM70618761</td>\n",
       "    </tr>\n",
       "    <tr>\n",
       "      <th>3</th>\n",
       "      <td>Xumu+NIjS6QYVxDS4/t3SawvJ7viT9hPKXmf0RtLNx8=</td>\n",
       "      <td>2A87tzfnJTSWqD7gIZHisolhe4DMdzkbd6LzO1KHjNs=</td>\n",
       "      <td>my library</td>\n",
       "      <td>Local playlist more</td>\n",
       "      <td>local-playlist</td>\n",
       "      <td>1</td>\n",
       "      <td>255512.0</td>\n",
       "      <td>1019</td>\n",
       "      <td>Soundway</td>\n",
       "      <td>Kwadwo Donkoh</td>\n",
       "      <td>NaN</td>\n",
       "      <td>-1.0</td>\n",
       "      <td>13</td>\n",
       "      <td>24</td>\n",
       "      <td>female</td>\n",
       "      <td>9</td>\n",
       "      <td>2011-05-25</td>\n",
       "      <td>2017-09-11</td>\n",
       "      <td>Disco Africa</td>\n",
       "      <td>GBUQH1000063</td>\n",
       "    </tr>\n",
       "    <tr>\n",
       "      <th>4</th>\n",
       "      <td>FGtllVqz18RPiwJj/edr2gV78zirAiY/9SmYvia+kCg=</td>\n",
       "      <td>3qm6XTZ6MOCU11x8FIVbAGH5l5uMkT3/ZalWG1oo2Gc=</td>\n",
       "      <td>explore</td>\n",
       "      <td>Explore</td>\n",
       "      <td>online-playlist</td>\n",
       "      <td>1</td>\n",
       "      <td>187802.0</td>\n",
       "      <td>1011</td>\n",
       "      <td>Brett Young</td>\n",
       "      <td>Brett Young| Kelly Archer| Justin Ebach</td>\n",
       "      <td>NaN</td>\n",
       "      <td>52.0</td>\n",
       "      <td>1</td>\n",
       "      <td>0</td>\n",
       "      <td>NaN</td>\n",
       "      <td>7</td>\n",
       "      <td>2012-01-02</td>\n",
       "      <td>2017-10-05</td>\n",
       "      <td>Sleep Without You</td>\n",
       "      <td>QM3E21606003</td>\n",
       "    </tr>\n",
       "  </tbody>\n",
       "</table>\n",
       "</div>"
      ],
      "text/plain": [
       "                                           msno  \\\n",
       "0  FGtllVqz18RPiwJj/edr2gV78zirAiY/9SmYvia+kCg=   \n",
       "1  Xumu+NIjS6QYVxDS4/t3SawvJ7viT9hPKXmf0RtLNx8=   \n",
       "2  Xumu+NIjS6QYVxDS4/t3SawvJ7viT9hPKXmf0RtLNx8=   \n",
       "3  Xumu+NIjS6QYVxDS4/t3SawvJ7viT9hPKXmf0RtLNx8=   \n",
       "4  FGtllVqz18RPiwJj/edr2gV78zirAiY/9SmYvia+kCg=   \n",
       "\n",
       "                                        song_id source_system_tab  \\\n",
       "0  BBzumQNXUHKdEBOB7mAJuzok+IJA1c2Ryg/yzTF6tik=           explore   \n",
       "1  bhp/MpSNoqoxOIB+/l8WPqu6jldth4DIpCm3ayXnJqM=        my library   \n",
       "2  JNWfrrC7zNN7BdMpsISKa4Mw+xVJYNnxXh3/Epw7QgY=        my library   \n",
       "3  2A87tzfnJTSWqD7gIZHisolhe4DMdzkbd6LzO1KHjNs=        my library   \n",
       "4  3qm6XTZ6MOCU11x8FIVbAGH5l5uMkT3/ZalWG1oo2Gc=           explore   \n",
       "\n",
       "    source_screen_name      source_type  target  song_length genre_ids  \\\n",
       "0              Explore  online-playlist       1     206471.0       359   \n",
       "1  Local playlist more   local-playlist       1     284584.0      1259   \n",
       "2  Local playlist more   local-playlist       1     225396.0      1259   \n",
       "3  Local playlist more   local-playlist       1     255512.0      1019   \n",
       "4              Explore  online-playlist       1     187802.0      1011   \n",
       "\n",
       "       artist_name                                 composer lyricist language  \\\n",
       "0         Bastille                     Dan Smith| Mark Crew      NaN     52.0   \n",
       "1  Various Artists                                      NaN      NaN     52.0   \n",
       "2              Nas     N. Jones、W. Adams、J. Lordan、D. Ingle      NaN     52.0   \n",
       "3         Soundway                            Kwadwo Donkoh      NaN     -1.0   \n",
       "4      Brett Young  Brett Young| Kelly Archer| Justin Ebach      NaN     52.0   \n",
       "\n",
       "  city  bd  gender registered_via registration_init_time expiration_date  \\\n",
       "0    1   0     NaN              7             2012-01-02      2017-10-05   \n",
       "1   13  24  female              9             2011-05-25      2017-09-11   \n",
       "2   13  24  female              9             2011-05-25      2017-09-11   \n",
       "3   13  24  female              9             2011-05-25      2017-09-11   \n",
       "4    1   0     NaN              7             2012-01-02      2017-10-05   \n",
       "\n",
       "                                      name          isrc  \n",
       "0                               Good Grief  GBUM71602854  \n",
       "1                       Lords of Cardboard  US3C69910183  \n",
       "2  Hip Hop Is Dead(Album Version (Edited))  USUM70618761  \n",
       "3                             Disco Africa  GBUQH1000063  \n",
       "4                        Sleep Without You  QM3E21606003  "
      ]
     },
     "execution_count": 250,
     "metadata": {},
     "output_type": "execute_result"
    }
   ],
   "source": [
    "train_df.head()"
   ]
  },
  {
   "cell_type": "code",
   "execution_count": null,
   "metadata": {},
   "outputs": [],
   "source": [
    "Converting "
   ]
  },
  {
   "cell_type": "code",
   "execution_count": 251,
   "metadata": {},
   "outputs": [],
   "source": [
    "train_df['song_length']=train_df['song_length']/6e4\n",
    "#train['genre_ids'] = train['genre_ids'].str.split('|').str[0]"
   ]
  },
  {
   "cell_type": "code",
   "execution_count": 252,
   "metadata": {},
   "outputs": [
    {
     "data": {
      "text/html": [
       "<div>\n",
       "<style scoped>\n",
       "    .dataframe tbody tr th:only-of-type {\n",
       "        vertical-align: middle;\n",
       "    }\n",
       "\n",
       "    .dataframe tbody tr th {\n",
       "        vertical-align: top;\n",
       "    }\n",
       "\n",
       "    .dataframe thead th {\n",
       "        text-align: right;\n",
       "    }\n",
       "</style>\n",
       "<table border=\"1\" class=\"dataframe\">\n",
       "  <thead>\n",
       "    <tr style=\"text-align: right;\">\n",
       "      <th></th>\n",
       "      <th>msno</th>\n",
       "      <th>song_id</th>\n",
       "      <th>source_system_tab</th>\n",
       "      <th>source_screen_name</th>\n",
       "      <th>source_type</th>\n",
       "      <th>target</th>\n",
       "      <th>song_length</th>\n",
       "      <th>genre_ids</th>\n",
       "      <th>artist_name</th>\n",
       "      <th>composer</th>\n",
       "      <th>...</th>\n",
       "      <th>language</th>\n",
       "      <th>city</th>\n",
       "      <th>bd</th>\n",
       "      <th>gender</th>\n",
       "      <th>registered_via</th>\n",
       "      <th>registration_init_time</th>\n",
       "      <th>expiration_date</th>\n",
       "      <th>name</th>\n",
       "      <th>isrc</th>\n",
       "      <th>last_date</th>\n",
       "    </tr>\n",
       "  </thead>\n",
       "  <tbody>\n",
       "    <tr>\n",
       "      <th>0</th>\n",
       "      <td>FGtllVqz18RPiwJj/edr2gV78zirAiY/9SmYvia+kCg=</td>\n",
       "      <td>BBzumQNXUHKdEBOB7mAJuzok+IJA1c2Ryg/yzTF6tik=</td>\n",
       "      <td>explore</td>\n",
       "      <td>Explore</td>\n",
       "      <td>online-playlist</td>\n",
       "      <td>1</td>\n",
       "      <td>3.441183</td>\n",
       "      <td>359</td>\n",
       "      <td>Bastille</td>\n",
       "      <td>Dan Smith| Mark Crew</td>\n",
       "      <td>...</td>\n",
       "      <td>52.0</td>\n",
       "      <td>1</td>\n",
       "      <td>0</td>\n",
       "      <td>NaN</td>\n",
       "      <td>7</td>\n",
       "      <td>2012-01-02</td>\n",
       "      <td>2017-10-05</td>\n",
       "      <td>Good Grief</td>\n",
       "      <td>GBUM71602854</td>\n",
       "      <td>2017-01-31</td>\n",
       "    </tr>\n",
       "    <tr>\n",
       "      <th>1</th>\n",
       "      <td>Xumu+NIjS6QYVxDS4/t3SawvJ7viT9hPKXmf0RtLNx8=</td>\n",
       "      <td>bhp/MpSNoqoxOIB+/l8WPqu6jldth4DIpCm3ayXnJqM=</td>\n",
       "      <td>my library</td>\n",
       "      <td>Local playlist more</td>\n",
       "      <td>local-playlist</td>\n",
       "      <td>1</td>\n",
       "      <td>4.743067</td>\n",
       "      <td>1259</td>\n",
       "      <td>Various Artists</td>\n",
       "      <td>NaN</td>\n",
       "      <td>...</td>\n",
       "      <td>52.0</td>\n",
       "      <td>13</td>\n",
       "      <td>24</td>\n",
       "      <td>female</td>\n",
       "      <td>9</td>\n",
       "      <td>2011-05-25</td>\n",
       "      <td>2017-09-11</td>\n",
       "      <td>Lords of Cardboard</td>\n",
       "      <td>US3C69910183</td>\n",
       "      <td>2017-01-31</td>\n",
       "    </tr>\n",
       "    <tr>\n",
       "      <th>2</th>\n",
       "      <td>Xumu+NIjS6QYVxDS4/t3SawvJ7viT9hPKXmf0RtLNx8=</td>\n",
       "      <td>JNWfrrC7zNN7BdMpsISKa4Mw+xVJYNnxXh3/Epw7QgY=</td>\n",
       "      <td>my library</td>\n",
       "      <td>Local playlist more</td>\n",
       "      <td>local-playlist</td>\n",
       "      <td>1</td>\n",
       "      <td>3.756600</td>\n",
       "      <td>1259</td>\n",
       "      <td>Nas</td>\n",
       "      <td>N. Jones、W. Adams、J. Lordan、D. Ingle</td>\n",
       "      <td>...</td>\n",
       "      <td>52.0</td>\n",
       "      <td>13</td>\n",
       "      <td>24</td>\n",
       "      <td>female</td>\n",
       "      <td>9</td>\n",
       "      <td>2011-05-25</td>\n",
       "      <td>2017-09-11</td>\n",
       "      <td>Hip Hop Is Dead(Album Version (Edited))</td>\n",
       "      <td>USUM70618761</td>\n",
       "      <td>2017-01-31</td>\n",
       "    </tr>\n",
       "    <tr>\n",
       "      <th>3</th>\n",
       "      <td>Xumu+NIjS6QYVxDS4/t3SawvJ7viT9hPKXmf0RtLNx8=</td>\n",
       "      <td>2A87tzfnJTSWqD7gIZHisolhe4DMdzkbd6LzO1KHjNs=</td>\n",
       "      <td>my library</td>\n",
       "      <td>Local playlist more</td>\n",
       "      <td>local-playlist</td>\n",
       "      <td>1</td>\n",
       "      <td>4.258533</td>\n",
       "      <td>1019</td>\n",
       "      <td>Soundway</td>\n",
       "      <td>Kwadwo Donkoh</td>\n",
       "      <td>...</td>\n",
       "      <td>-1.0</td>\n",
       "      <td>13</td>\n",
       "      <td>24</td>\n",
       "      <td>female</td>\n",
       "      <td>9</td>\n",
       "      <td>2011-05-25</td>\n",
       "      <td>2017-09-11</td>\n",
       "      <td>Disco Africa</td>\n",
       "      <td>GBUQH1000063</td>\n",
       "      <td>2017-01-31</td>\n",
       "    </tr>\n",
       "    <tr>\n",
       "      <th>4</th>\n",
       "      <td>FGtllVqz18RPiwJj/edr2gV78zirAiY/9SmYvia+kCg=</td>\n",
       "      <td>3qm6XTZ6MOCU11x8FIVbAGH5l5uMkT3/ZalWG1oo2Gc=</td>\n",
       "      <td>explore</td>\n",
       "      <td>Explore</td>\n",
       "      <td>online-playlist</td>\n",
       "      <td>1</td>\n",
       "      <td>3.130033</td>\n",
       "      <td>1011</td>\n",
       "      <td>Brett Young</td>\n",
       "      <td>Brett Young| Kelly Archer| Justin Ebach</td>\n",
       "      <td>...</td>\n",
       "      <td>52.0</td>\n",
       "      <td>1</td>\n",
       "      <td>0</td>\n",
       "      <td>NaN</td>\n",
       "      <td>7</td>\n",
       "      <td>2012-01-02</td>\n",
       "      <td>2017-10-05</td>\n",
       "      <td>Sleep Without You</td>\n",
       "      <td>QM3E21606003</td>\n",
       "      <td>2017-01-31</td>\n",
       "    </tr>\n",
       "  </tbody>\n",
       "</table>\n",
       "<p>5 rows × 21 columns</p>\n",
       "</div>"
      ],
      "text/plain": [
       "                                           msno  \\\n",
       "0  FGtllVqz18RPiwJj/edr2gV78zirAiY/9SmYvia+kCg=   \n",
       "1  Xumu+NIjS6QYVxDS4/t3SawvJ7viT9hPKXmf0RtLNx8=   \n",
       "2  Xumu+NIjS6QYVxDS4/t3SawvJ7viT9hPKXmf0RtLNx8=   \n",
       "3  Xumu+NIjS6QYVxDS4/t3SawvJ7viT9hPKXmf0RtLNx8=   \n",
       "4  FGtllVqz18RPiwJj/edr2gV78zirAiY/9SmYvia+kCg=   \n",
       "\n",
       "                                        song_id source_system_tab  \\\n",
       "0  BBzumQNXUHKdEBOB7mAJuzok+IJA1c2Ryg/yzTF6tik=           explore   \n",
       "1  bhp/MpSNoqoxOIB+/l8WPqu6jldth4DIpCm3ayXnJqM=        my library   \n",
       "2  JNWfrrC7zNN7BdMpsISKa4Mw+xVJYNnxXh3/Epw7QgY=        my library   \n",
       "3  2A87tzfnJTSWqD7gIZHisolhe4DMdzkbd6LzO1KHjNs=        my library   \n",
       "4  3qm6XTZ6MOCU11x8FIVbAGH5l5uMkT3/ZalWG1oo2Gc=           explore   \n",
       "\n",
       "    source_screen_name      source_type  target  song_length genre_ids  \\\n",
       "0              Explore  online-playlist       1     3.441183       359   \n",
       "1  Local playlist more   local-playlist       1     4.743067      1259   \n",
       "2  Local playlist more   local-playlist       1     3.756600      1259   \n",
       "3  Local playlist more   local-playlist       1     4.258533      1019   \n",
       "4              Explore  online-playlist       1     3.130033      1011   \n",
       "\n",
       "       artist_name                                 composer  ... language  \\\n",
       "0         Bastille                     Dan Smith| Mark Crew  ...     52.0   \n",
       "1  Various Artists                                      NaN  ...     52.0   \n",
       "2              Nas     N. Jones、W. Adams、J. Lordan、D. Ingle  ...     52.0   \n",
       "3         Soundway                            Kwadwo Donkoh  ...     -1.0   \n",
       "4      Brett Young  Brett Young| Kelly Archer| Justin Ebach  ...     52.0   \n",
       "\n",
       "  city  bd  gender registered_via registration_init_time expiration_date  \\\n",
       "0    1   0     NaN              7             2012-01-02      2017-10-05   \n",
       "1   13  24  female              9             2011-05-25      2017-09-11   \n",
       "2   13  24  female              9             2011-05-25      2017-09-11   \n",
       "3   13  24  female              9             2011-05-25      2017-09-11   \n",
       "4    1   0     NaN              7             2012-01-02      2017-10-05   \n",
       "\n",
       "                                      name          isrc  last_date  \n",
       "0                               Good Grief  GBUM71602854 2017-01-31  \n",
       "1                       Lords of Cardboard  US3C69910183 2017-01-31  \n",
       "2  Hip Hop Is Dead(Album Version (Edited))  USUM70618761 2017-01-31  \n",
       "3                             Disco Africa  GBUQH1000063 2017-01-31  \n",
       "4                        Sleep Without You  QM3E21606003 2017-01-31  \n",
       "\n",
       "[5 rows x 21 columns]"
      ]
     },
     "execution_count": 252,
     "metadata": {},
     "output_type": "execute_result"
    }
   ],
   "source": [
    "train_df['last_date'] = pd.to_datetime(train_df.registration_init_time.max(),format='%Y-%m-%d')\n",
    "train_df.head()"
   ]
  },
  {
   "cell_type": "code",
   "execution_count": 253,
   "metadata": {},
   "outputs": [],
   "source": [
    "def add_datepart(x,fldname):\n",
    "    df = x.copy()\n",
    "    \n",
    "    if fldname =='registration_init_time':\n",
    "        fldname_ = 'registration'\n",
    "    else:\n",
    "        fldname_ = fldname\n",
    "    \n",
    "    df[fldname_+\"_year\"] = df[fldname].apply(lambda x:int(str(x)[0:4]))\n",
    "    df[fldname_+\"_month\"] = df[fldname].apply(lambda x:int(str(x)[5:7]))\n",
    "    df[fldname_+\"_date\"] = df[fldname].apply(lambda x:int(str(x)[8:10]))\n",
    "    \n",
    "    return df\n",
    "\n",
    "# Using isrc to extract years\n",
    "def isrc_to_country(isrc):\n",
    "    if type(isrc) == str:\n",
    "        return isrc[0:2]\n",
    "    else:\n",
    "        return np.nan\n",
    "    \n",
    "def isrc_to_year(isrc):\n",
    "    if type(isrc) == str:\n",
    "        if int(isrc[5:7]) > 17:\n",
    "            return 1900 + int(isrc[5:7])\n",
    "        else:\n",
    "            return 2000 + int(isrc[5:7])\n",
    "    else:\n",
    "        return np.nan\n",
    "\n",
    "# Counted features\n",
    "def genre_id_count(x):\n",
    "    #https://www.kaggle.com/asmitavikas/feature-engineered-0-68310\n",
    "    if pd.isnull(x):\n",
    "        return -1\n",
    "    else:\n",
    "        return x.count('|')+1  \n",
    "\n",
    "def artist_count(x):\n",
    "    #https://www.kaggle.com/asmitavikas/feature-engineered-0-68310\n",
    "    if pd.isnull(x):\n",
    "        return -1\n",
    "    else:\n",
    "        return sum(map(x.count, ['|', '/', '\\\\', ';'])) + 1\n",
    "\n",
    "\n",
    "def song_play_times(song_ids):\n",
    "    #https://www.kaggle.com/asmitavikas/feature-engineered-0-68310\n",
    "    song_play_dict = {}\n",
    "\n",
    "    for song_id in song_ids:\n",
    "        if song_id not in song_play_dict:\n",
    "            song_play_dict[song_id] = 1\n",
    "        else:\n",
    "            song_play_dict[song_id] += 1\n",
    "    \n",
    "    return song_play_dict"
   ]
  },
  {
   "cell_type": "code",
   "execution_count": 254,
   "metadata": {},
   "outputs": [],
   "source": [
    "# Fetaure addition \n",
    "def days_left(train):\n",
    "    train['membership_days'] = (train.expiration_date - train.registration_init_time).dt.days.astype('int')\n",
    "    train['membership_days'] = train['membership_days']//200\n",
    "    train['membership_days'] = train['membership_days'].astype('category')\n",
    "    train['registration_user'] = (train['last_date'] - train['registration_init_time']).dt.days.astype('int')\n",
    "    train['expiration_user'] = (train['last_date'] - train['expiration_date']).dt.days.astype('int')\n",
    "    return train\n",
    "\n",
    "def genre_count(train):\n",
    "    train['genre_count'] = train['genre_ids'].apply(genre_id_count).astype(np.int8)\n",
    "    return train\n",
    "\n",
    "\n",
    "def add_artist_count(train):\n",
    "    train['artist_count'] = train['artist_name'].apply(artist_count).astype(np.int8)\n",
    "    return train\n",
    "\n",
    "def song_country(train):\n",
    "    train['song_country'] = train['isrc'].apply(isrc_to_country)\n",
    "    return train\n",
    "\n",
    "def song_year(train):\n",
    "    train['song_year'] = train['isrc'].apply(isrc_to_year)\n",
    "    train.drop(['isrc', 'name'], axis = 1, inplace = True)\n",
    "    return train\n",
    "\n",
    "\n",
    "def song_play_count(train):\n",
    "\n",
    "    songcount = train.groupby('song_id')[['msno']].count().reset_index()\n",
    "    songcount.rename(columns={'msno': 'mnso_count'}, inplace=True)\n",
    "    train=train.merge(songcount, on='song_id', how='left')\n",
    "    return train\n",
    "\n",
    "def artist_played_count(train):\n",
    "    #https://github.com/AditiSharmaUSFCA/WSDS-KKBOX-s-Music-Recommendation-System\n",
    "    artist_count = pd.DataFrame.from_dict(song_play_times(train['artist_name']),\n",
    "                                      orient='index',columns=['artist_song_count']).reset_index()\n",
    "    artist_count = artist_count.rename(columns={'index':'artist_name'})\n",
    "    train = train.merge(artist_count,how='left',on='artist_name')\n",
    "    return train  \n",
    "\n",
    "def msno_appear_count(train):\n",
    "    #https://github.com/AditiSharmaUSFCA/WSDS-KKBOX-s-Music-Recommendation-System\n",
    "    usercount = train_df.groupby('msno')[['song_id']].count().reset_index()\n",
    "    usercount.rename(columns={'song_id': 'song_count'}, inplace=True)\n",
    "    train = train.merge(usercount,how='left',on='msno')\n",
    "    return train  \n",
    "    \n",
    "    \n",
    "def datepart_reg(train):\n",
    "    train = add_datepart(train, 'registration_init_time')\n",
    "    train = train.drop(['registration_init_time'], axis=1)\n",
    "    return train\n",
    "\n",
    "def datepart_exp(train):\n",
    "    train = add_datepart(train,'expiration_date')\n",
    "    train = train.drop(['expiration_date'], axis=1)\n",
    "    return train\n",
    "\n",
    "\n",
    "def split_genre_columns(train):\n",
    "    df = train.copy()\n",
    "    df['genre_ids'] = df['genre_ids'].astype(str)\n",
    "    df = pd.concat([df,df['genre_ids'].str.split('|',expand=True)],axis=1)\n",
    "    df = df.drop(columns='genre_ids',axis= 1)\n",
    "    return df"
   ]
  },
  {
   "cell_type": "code",
   "execution_count": 255,
   "metadata": {},
   "outputs": [],
   "source": [
    "# Apply features form pipeline\n",
    "def apply_features(train, feature_list):\n",
    "    #https://github.com/AditiSharmaUSFCA/WSDS-KKBOX-s-Music-Recommendation-System\n",
    "    for i in feature_list:\n",
    "        train = i(train)\n",
    "    return train"
   ]
  },
  {
   "cell_type": "code",
   "execution_count": 256,
   "metadata": {},
   "outputs": [],
   "source": [
    "def fillna_nan(df, cat_list, contlist):\n",
    "    #https://github.com/AditiSharmaUSFCA/WSDS-KKBOX-s-Music-Recommendation-System\n",
    "    train = df.copy()\n",
    "    for col in cat_list:\n",
    "        train[col] = train[col].fillna('nan')\n",
    "    for col in contlist:\n",
    "        train[col] = train[col].fillna(-1)\n",
    "    return train"
   ]
  },
  {
   "cell_type": "code",
   "execution_count": 258,
   "metadata": {},
   "outputs": [],
   "source": [
    "features_pipeline = [days_left, \n",
    "                     datepart_reg, \n",
    "                     datepart_exp, \n",
    "                     genre_count, \n",
    "                     add_artist_count,\n",
    "                     song_country,\n",
    "                     song_year,\n",
    "                     msno_appear_count,\n",
    "                     song_play_count, \n",
    "                     artist_played_count]\n",
    "\n",
    "x = apply_features(train_df, features_pipeline)\n",
    "x = split_genre_columns(x)"
   ]
  },
  {
   "cell_type": "code",
   "execution_count": 259,
   "metadata": {},
   "outputs": [
    {
     "data": {
      "text/html": [
       "<div>\n",
       "<style scoped>\n",
       "    .dataframe tbody tr th:only-of-type {\n",
       "        vertical-align: middle;\n",
       "    }\n",
       "\n",
       "    .dataframe tbody tr th {\n",
       "        vertical-align: top;\n",
       "    }\n",
       "\n",
       "    .dataframe thead th {\n",
       "        text-align: right;\n",
       "    }\n",
       "</style>\n",
       "<table border=\"1\" class=\"dataframe\">\n",
       "  <thead>\n",
       "    <tr style=\"text-align: right;\">\n",
       "      <th></th>\n",
       "      <th>0</th>\n",
       "      <th>1</th>\n",
       "    </tr>\n",
       "  </thead>\n",
       "  <tbody>\n",
       "    <tr>\n",
       "      <th>msno</th>\n",
       "      <td>FGtllVqz18RPiwJj/edr2gV78zirAiY/9SmYvia+kCg=</td>\n",
       "      <td>Xumu+NIjS6QYVxDS4/t3SawvJ7viT9hPKXmf0RtLNx8=</td>\n",
       "    </tr>\n",
       "    <tr>\n",
       "      <th>song_id</th>\n",
       "      <td>BBzumQNXUHKdEBOB7mAJuzok+IJA1c2Ryg/yzTF6tik=</td>\n",
       "      <td>bhp/MpSNoqoxOIB+/l8WPqu6jldth4DIpCm3ayXnJqM=</td>\n",
       "    </tr>\n",
       "    <tr>\n",
       "      <th>source_system_tab</th>\n",
       "      <td>explore</td>\n",
       "      <td>my library</td>\n",
       "    </tr>\n",
       "    <tr>\n",
       "      <th>source_screen_name</th>\n",
       "      <td>Explore</td>\n",
       "      <td>Local playlist more</td>\n",
       "    </tr>\n",
       "    <tr>\n",
       "      <th>source_type</th>\n",
       "      <td>online-playlist</td>\n",
       "      <td>local-playlist</td>\n",
       "    </tr>\n",
       "    <tr>\n",
       "      <th>target</th>\n",
       "      <td>1</td>\n",
       "      <td>1</td>\n",
       "    </tr>\n",
       "    <tr>\n",
       "      <th>song_length</th>\n",
       "      <td>3.44118</td>\n",
       "      <td>4.74307</td>\n",
       "    </tr>\n",
       "    <tr>\n",
       "      <th>artist_name</th>\n",
       "      <td>Bastille</td>\n",
       "      <td>Various Artists</td>\n",
       "    </tr>\n",
       "    <tr>\n",
       "      <th>composer</th>\n",
       "      <td>Dan Smith| Mark Crew</td>\n",
       "      <td>NaN</td>\n",
       "    </tr>\n",
       "    <tr>\n",
       "      <th>lyricist</th>\n",
       "      <td>NaN</td>\n",
       "      <td>NaN</td>\n",
       "    </tr>\n",
       "    <tr>\n",
       "      <th>language</th>\n",
       "      <td>52</td>\n",
       "      <td>52</td>\n",
       "    </tr>\n",
       "    <tr>\n",
       "      <th>city</th>\n",
       "      <td>1</td>\n",
       "      <td>13</td>\n",
       "    </tr>\n",
       "    <tr>\n",
       "      <th>bd</th>\n",
       "      <td>0</td>\n",
       "      <td>24</td>\n",
       "    </tr>\n",
       "    <tr>\n",
       "      <th>gender</th>\n",
       "      <td>NaN</td>\n",
       "      <td>female</td>\n",
       "    </tr>\n",
       "    <tr>\n",
       "      <th>registered_via</th>\n",
       "      <td>7</td>\n",
       "      <td>9</td>\n",
       "    </tr>\n",
       "    <tr>\n",
       "      <th>last_date</th>\n",
       "      <td>2017-01-31 00:00:00</td>\n",
       "      <td>2017-01-31 00:00:00</td>\n",
       "    </tr>\n",
       "    <tr>\n",
       "      <th>membership_days</th>\n",
       "      <td>10</td>\n",
       "      <td>11</td>\n",
       "    </tr>\n",
       "    <tr>\n",
       "      <th>registration_user</th>\n",
       "      <td>1856</td>\n",
       "      <td>2078</td>\n",
       "    </tr>\n",
       "    <tr>\n",
       "      <th>expiration_user</th>\n",
       "      <td>-247</td>\n",
       "      <td>-223</td>\n",
       "    </tr>\n",
       "    <tr>\n",
       "      <th>registration_year</th>\n",
       "      <td>2012</td>\n",
       "      <td>2011</td>\n",
       "    </tr>\n",
       "    <tr>\n",
       "      <th>registration_month</th>\n",
       "      <td>1</td>\n",
       "      <td>5</td>\n",
       "    </tr>\n",
       "    <tr>\n",
       "      <th>registration_date</th>\n",
       "      <td>2</td>\n",
       "      <td>25</td>\n",
       "    </tr>\n",
       "    <tr>\n",
       "      <th>expiration_date_year</th>\n",
       "      <td>2017</td>\n",
       "      <td>2017</td>\n",
       "    </tr>\n",
       "    <tr>\n",
       "      <th>expiration_date_month</th>\n",
       "      <td>10</td>\n",
       "      <td>9</td>\n",
       "    </tr>\n",
       "    <tr>\n",
       "      <th>expiration_date_date</th>\n",
       "      <td>5</td>\n",
       "      <td>11</td>\n",
       "    </tr>\n",
       "    <tr>\n",
       "      <th>genre_count</th>\n",
       "      <td>1</td>\n",
       "      <td>1</td>\n",
       "    </tr>\n",
       "    <tr>\n",
       "      <th>song_country</th>\n",
       "      <td>GB</td>\n",
       "      <td>US</td>\n",
       "    </tr>\n",
       "    <tr>\n",
       "      <th>song_year</th>\n",
       "      <td>2016</td>\n",
       "      <td>1999</td>\n",
       "    </tr>\n",
       "    <tr>\n",
       "      <th>song_count</th>\n",
       "      <td>5511</td>\n",
       "      <td>622</td>\n",
       "    </tr>\n",
       "    <tr>\n",
       "      <th>mnso_count</th>\n",
       "      <td>215</td>\n",
       "      <td>1</td>\n",
       "    </tr>\n",
       "    <tr>\n",
       "      <th>artist_song_count</th>\n",
       "      <td>1140</td>\n",
       "      <td>303616</td>\n",
       "    </tr>\n",
       "    <tr>\n",
       "      <th>0</th>\n",
       "      <td>359</td>\n",
       "      <td>1259</td>\n",
       "    </tr>\n",
       "    <tr>\n",
       "      <th>1</th>\n",
       "      <td>None</td>\n",
       "      <td>None</td>\n",
       "    </tr>\n",
       "    <tr>\n",
       "      <th>2</th>\n",
       "      <td>None</td>\n",
       "      <td>None</td>\n",
       "    </tr>\n",
       "    <tr>\n",
       "      <th>3</th>\n",
       "      <td>None</td>\n",
       "      <td>None</td>\n",
       "    </tr>\n",
       "    <tr>\n",
       "      <th>4</th>\n",
       "      <td>None</td>\n",
       "      <td>None</td>\n",
       "    </tr>\n",
       "    <tr>\n",
       "      <th>5</th>\n",
       "      <td>None</td>\n",
       "      <td>None</td>\n",
       "    </tr>\n",
       "    <tr>\n",
       "      <th>6</th>\n",
       "      <td>None</td>\n",
       "      <td>None</td>\n",
       "    </tr>\n",
       "    <tr>\n",
       "      <th>7</th>\n",
       "      <td>None</td>\n",
       "      <td>None</td>\n",
       "    </tr>\n",
       "  </tbody>\n",
       "</table>\n",
       "</div>"
      ],
      "text/plain": [
       "                                                                  0  \\\n",
       "msno                   FGtllVqz18RPiwJj/edr2gV78zirAiY/9SmYvia+kCg=   \n",
       "song_id                BBzumQNXUHKdEBOB7mAJuzok+IJA1c2Ryg/yzTF6tik=   \n",
       "source_system_tab                                           explore   \n",
       "source_screen_name                                          Explore   \n",
       "source_type                                         online-playlist   \n",
       "target                                                            1   \n",
       "song_length                                                 3.44118   \n",
       "artist_name                                                Bastille   \n",
       "composer                                       Dan Smith| Mark Crew   \n",
       "lyricist                                                        NaN   \n",
       "language                                                         52   \n",
       "city                                                              1   \n",
       "bd                                                                0   \n",
       "gender                                                          NaN   \n",
       "registered_via                                                    7   \n",
       "last_date                                       2017-01-31 00:00:00   \n",
       "membership_days                                                  10   \n",
       "registration_user                                              1856   \n",
       "expiration_user                                                -247   \n",
       "registration_year                                              2012   \n",
       "registration_month                                                1   \n",
       "registration_date                                                 2   \n",
       "expiration_date_year                                           2017   \n",
       "expiration_date_month                                            10   \n",
       "expiration_date_date                                              5   \n",
       "genre_count                                                       1   \n",
       "song_country                                                     GB   \n",
       "song_year                                                      2016   \n",
       "song_count                                                     5511   \n",
       "mnso_count                                                      215   \n",
       "artist_song_count                                              1140   \n",
       "0                                                               359   \n",
       "1                                                              None   \n",
       "2                                                              None   \n",
       "3                                                              None   \n",
       "4                                                              None   \n",
       "5                                                              None   \n",
       "6                                                              None   \n",
       "7                                                              None   \n",
       "\n",
       "                                                                  1  \n",
       "msno                   Xumu+NIjS6QYVxDS4/t3SawvJ7viT9hPKXmf0RtLNx8=  \n",
       "song_id                bhp/MpSNoqoxOIB+/l8WPqu6jldth4DIpCm3ayXnJqM=  \n",
       "source_system_tab                                        my library  \n",
       "source_screen_name                              Local playlist more  \n",
       "source_type                                          local-playlist  \n",
       "target                                                            1  \n",
       "song_length                                                 4.74307  \n",
       "artist_name                                         Various Artists  \n",
       "composer                                                        NaN  \n",
       "lyricist                                                        NaN  \n",
       "language                                                         52  \n",
       "city                                                             13  \n",
       "bd                                                               24  \n",
       "gender                                                       female  \n",
       "registered_via                                                    9  \n",
       "last_date                                       2017-01-31 00:00:00  \n",
       "membership_days                                                  11  \n",
       "registration_user                                              2078  \n",
       "expiration_user                                                -223  \n",
       "registration_year                                              2011  \n",
       "registration_month                                                5  \n",
       "registration_date                                                25  \n",
       "expiration_date_year                                           2017  \n",
       "expiration_date_month                                             9  \n",
       "expiration_date_date                                             11  \n",
       "genre_count                                                       1  \n",
       "song_country                                                     US  \n",
       "song_year                                                      1999  \n",
       "song_count                                                      622  \n",
       "mnso_count                                                        1  \n",
       "artist_song_count                                            303616  \n",
       "0                                                              1259  \n",
       "1                                                              None  \n",
       "2                                                              None  \n",
       "3                                                              None  \n",
       "4                                                              None  \n",
       "5                                                              None  \n",
       "6                                                              None  \n",
       "7                                                              None  "
      ]
     },
     "execution_count": 259,
     "metadata": {},
     "output_type": "execute_result"
    }
   ],
   "source": [
    "x.head(2).T"
   ]
  },
  {
   "cell_type": "code",
   "execution_count": 134,
   "metadata": {},
   "outputs": [],
   "source": [
    "df =x.copy()"
   ]
  },
  {
   "cell_type": "code",
   "execution_count": 135,
   "metadata": {},
   "outputs": [],
   "source": [
    "# Data imputation block\n",
    "\n",
    "cat_nan_list = ['msno', 'song_id', 'source_screen_name', \n",
    "    'source_system_tab', 'source_type', \n",
    "    'artist_name', 'gender']\n",
    "cont_nan_list = ['song_length','language', 'song_year']\n",
    "\n",
    "df = fillna_nan(df, cat_nan_list, cont_nan_list)"
   ]
  },
  {
   "cell_type": "code",
   "execution_count": 136,
   "metadata": {},
   "outputs": [],
   "source": [
    "df['language']=df['language'].astype('int64')\n",
    "df['song_year']=df['song_year'].astype('int64')\n",
    "df['membership_days']=df['membership_days'].astype('int64')\n",
    "\n",
    "df = df.iloc[:,:-8]"
   ]
  },
  {
   "cell_type": "code",
   "execution_count": 137,
   "metadata": {},
   "outputs": [],
   "source": [
    "col_list = ['msno','song_id','source_system_tab','source_screen_name','source_type','artist_name','gender']\n",
    "\n",
    "# Label encoding for the categorical varaibles \n",
    "\n",
    "def encoder(ls,data):\n",
    "    le = preprocessing.LabelEncoder()\n",
    "    for column_name in ls:\n",
    "            if data[column_name].dtype.name in ['category','object']:\n",
    "                data[column_name] = le.fit_transform(data[column_name].astype(str))\n",
    "\n",
    "# Encode the data\n",
    "encoder(col_list,df)"
   ]
  },
  {
   "cell_type": "code",
   "execution_count": 138,
   "metadata": {},
   "outputs": [],
   "source": [
    "df = df.drop(columns=['source_system_tab_user_lev_c',\n",
    "                      'source_screen_name_user_lev_c',\n",
    "                      'source_type_user_lev_c',\n",
    "                      'artist_name_user_lev_c'],axis=1)\n",
    "df = df.fillna(-1)"
   ]
  },
  {
   "cell_type": "code",
   "execution_count": 139,
   "metadata": {},
   "outputs": [
    {
     "data": {
      "text/html": [
       "<div>\n",
       "<style scoped>\n",
       "    .dataframe tbody tr th:only-of-type {\n",
       "        vertical-align: middle;\n",
       "    }\n",
       "\n",
       "    .dataframe tbody tr th {\n",
       "        vertical-align: top;\n",
       "    }\n",
       "\n",
       "    .dataframe thead th {\n",
       "        text-align: right;\n",
       "    }\n",
       "</style>\n",
       "<table border=\"1\" class=\"dataframe\">\n",
       "  <thead>\n",
       "    <tr style=\"text-align: right;\">\n",
       "      <th></th>\n",
       "      <th>msno</th>\n",
       "      <th>song_id</th>\n",
       "      <th>source_system_tab</th>\n",
       "      <th>source_screen_name</th>\n",
       "      <th>source_type</th>\n",
       "      <th>target</th>\n",
       "      <th>artist_name</th>\n",
       "      <th>song_length</th>\n",
       "      <th>language</th>\n",
       "      <th>city</th>\n",
       "      <th>...</th>\n",
       "      <th>genre_count</th>\n",
       "      <th>artist_count</th>\n",
       "      <th>song_year</th>\n",
       "      <th>msno_appear_count</th>\n",
       "      <th>song_play_counts</th>\n",
       "      <th>artist_song_count</th>\n",
       "      <th>source_system_tab_count</th>\n",
       "      <th>source_screen_name_count</th>\n",
       "      <th>source_type_count</th>\n",
       "      <th>artist_name_count</th>\n",
       "    </tr>\n",
       "  </thead>\n",
       "  <tbody>\n",
       "    <tr>\n",
       "      <th>0</th>\n",
       "      <td>8158</td>\n",
       "      <td>74679</td>\n",
       "      <td>1</td>\n",
       "      <td>7</td>\n",
       "      <td>7</td>\n",
       "      <td>1</td>\n",
       "      <td>3277</td>\n",
       "      <td>3.441183</td>\n",
       "      <td>52</td>\n",
       "      <td>1</td>\n",
       "      <td>...</td>\n",
       "      <td>1</td>\n",
       "      <td>1</td>\n",
       "      <td>2016</td>\n",
       "      <td>5511</td>\n",
       "      <td>215</td>\n",
       "      <td>1140</td>\n",
       "      <td>167949</td>\n",
       "      <td>72342</td>\n",
       "      <td>1967924</td>\n",
       "      <td>1140</td>\n",
       "    </tr>\n",
       "    <tr>\n",
       "      <th>1</th>\n",
       "      <td>17259</td>\n",
       "      <td>223479</td>\n",
       "      <td>3</td>\n",
       "      <td>8</td>\n",
       "      <td>4</td>\n",
       "      <td>1</td>\n",
       "      <td>31960</td>\n",
       "      <td>4.743067</td>\n",
       "      <td>52</td>\n",
       "      <td>13</td>\n",
       "      <td>...</td>\n",
       "      <td>1</td>\n",
       "      <td>1</td>\n",
       "      <td>1999</td>\n",
       "      <td>622</td>\n",
       "      <td>1</td>\n",
       "      <td>303616</td>\n",
       "      <td>3684730</td>\n",
       "      <td>3228202</td>\n",
       "      <td>1079503</td>\n",
       "      <td>303616</td>\n",
       "    </tr>\n",
       "    <tr>\n",
       "      <th>2</th>\n",
       "      <td>17259</td>\n",
       "      <td>120758</td>\n",
       "      <td>3</td>\n",
       "      <td>8</td>\n",
       "      <td>4</td>\n",
       "      <td>1</td>\n",
       "      <td>21372</td>\n",
       "      <td>3.756600</td>\n",
       "      <td>52</td>\n",
       "      <td>13</td>\n",
       "      <td>...</td>\n",
       "      <td>1</td>\n",
       "      <td>1</td>\n",
       "      <td>2006</td>\n",
       "      <td>622</td>\n",
       "      <td>4</td>\n",
       "      <td>289</td>\n",
       "      <td>3684730</td>\n",
       "      <td>3228202</td>\n",
       "      <td>1079503</td>\n",
       "      <td>289</td>\n",
       "    </tr>\n",
       "    <tr>\n",
       "      <th>3</th>\n",
       "      <td>17259</td>\n",
       "      <td>23707</td>\n",
       "      <td>3</td>\n",
       "      <td>8</td>\n",
       "      <td>4</td>\n",
       "      <td>1</td>\n",
       "      <td>27439</td>\n",
       "      <td>4.258533</td>\n",
       "      <td>-1</td>\n",
       "      <td>13</td>\n",
       "      <td>...</td>\n",
       "      <td>1</td>\n",
       "      <td>1</td>\n",
       "      <td>2010</td>\n",
       "      <td>622</td>\n",
       "      <td>1</td>\n",
       "      <td>1</td>\n",
       "      <td>3684730</td>\n",
       "      <td>3228202</td>\n",
       "      <td>1079503</td>\n",
       "      <td>1</td>\n",
       "    </tr>\n",
       "    <tr>\n",
       "      <th>4</th>\n",
       "      <td>8158</td>\n",
       "      <td>33308</td>\n",
       "      <td>1</td>\n",
       "      <td>7</td>\n",
       "      <td>7</td>\n",
       "      <td>1</td>\n",
       "      <td>4472</td>\n",
       "      <td>3.130033</td>\n",
       "      <td>52</td>\n",
       "      <td>1</td>\n",
       "      <td>...</td>\n",
       "      <td>1</td>\n",
       "      <td>1</td>\n",
       "      <td>2016</td>\n",
       "      <td>5511</td>\n",
       "      <td>412</td>\n",
       "      <td>427</td>\n",
       "      <td>167949</td>\n",
       "      <td>72342</td>\n",
       "      <td>1967924</td>\n",
       "      <td>427</td>\n",
       "    </tr>\n",
       "  </tbody>\n",
       "</table>\n",
       "<p>5 rows × 38 columns</p>\n",
       "</div>"
      ],
      "text/plain": [
       "    msno  song_id  source_system_tab  source_screen_name  source_type  target  \\\n",
       "0   8158    74679                  1                   7            7       1   \n",
       "1  17259   223479                  3                   8            4       1   \n",
       "2  17259   120758                  3                   8            4       1   \n",
       "3  17259    23707                  3                   8            4       1   \n",
       "4   8158    33308                  1                   7            7       1   \n",
       "\n",
       "   artist_name  song_length  language  city  ...  genre_count  artist_count  \\\n",
       "0         3277     3.441183        52     1  ...            1             1   \n",
       "1        31960     4.743067        52    13  ...            1             1   \n",
       "2        21372     3.756600        52    13  ...            1             1   \n",
       "3        27439     4.258533        -1    13  ...            1             1   \n",
       "4         4472     3.130033        52     1  ...            1             1   \n",
       "\n",
       "   song_year  msno_appear_count  song_play_counts  artist_song_count  \\\n",
       "0       2016               5511               215               1140   \n",
       "1       1999                622                 1             303616   \n",
       "2       2006                622                 4                289   \n",
       "3       2010                622                 1                  1   \n",
       "4       2016               5511               412                427   \n",
       "\n",
       "   source_system_tab_count  source_screen_name_count  source_type_count  \\\n",
       "0                   167949                     72342            1967924   \n",
       "1                  3684730                   3228202            1079503   \n",
       "2                  3684730                   3228202            1079503   \n",
       "3                  3684730                   3228202            1079503   \n",
       "4                   167949                     72342            1967924   \n",
       "\n",
       "   artist_name_count  \n",
       "0               1140  \n",
       "1             303616  \n",
       "2                289  \n",
       "3                  1  \n",
       "4                427  \n",
       "\n",
       "[5 rows x 38 columns]"
      ]
     },
     "execution_count": 139,
     "metadata": {},
     "output_type": "execute_result"
    }
   ],
   "source": [
    "df.head()"
   ]
  },
  {
   "cell_type": "code",
   "execution_count": 140,
   "metadata": {},
   "outputs": [],
   "source": [
    "from sklearn.model_selection import train_test_split\n",
    "import random\n",
    "\n",
    "# Features and target varaibles\n",
    "X = df.drop(columns='target',axis=1)\n",
    "y = df['target']\n",
    "\n",
    "# Train and test split\n",
    "X_train_all, X_test, y_train_all, y_test = train_test_split(X, y, test_size=0.2)\n",
    "\n",
    "# Train and validation split\n",
    "X_train, X_val, y_train, y_val = train_test_split(\n",
    "    X_train_all, y_train_all, test_size=0.2)\n",
    "\n",
    "# Sampled data\n",
    "idx = random.sample(range(0,X_train.shape[0]), 100000)\n",
    "X_train_sampled = X_train.iloc[idx]\n",
    "y_train_sampled = y_train.iloc[idx]"
   ]
  },
  {
   "cell_type": "code",
   "execution_count": 141,
   "metadata": {},
   "outputs": [
    {
     "name": "stdout",
     "output_type": "stream",
     "text": [
      "Mean accuracy score validation: 0.614\n"
     ]
    }
   ],
   "source": [
    "from sklearn.metrics import accuracy_score\n",
    "m = LogisticRegression()\n",
    "m.fit(X_train_sampled, y_train_sampled )\n",
    "predicted = m.predict(X_val)\n",
    "accuracy = accuracy_score(y_val, predicted)\n",
    "print(f'Mean accuracy score validation: {accuracy:.3}')"
   ]
  },
  {
   "cell_type": "code",
   "execution_count": 142,
   "metadata": {},
   "outputs": [
    {
     "data": {
      "text/plain": [
       "LGBMClassifier(bagging_freq=1, boosting='gbdt', boosting_type='gbdt',\n",
       "               class_weight=None, colsample_bytree=1.0,\n",
       "               eval_metric='binary_logloss', feature_fraction=0.9,\n",
       "               importance_type='split', learning_rate=0.3, max_bin=256,\n",
       "               max_depth=300, min_child_samples=20, min_child_weight=0.001,\n",
       "               min_split_gain=0.0, n_estimators=100, n_jobs=-1, num_leaves=600,\n",
       "               num_rounds=200, objective='binary', random_state=None,\n",
       "               reg_alpha=0.0, reg_lambda=0.0, silent=True, subsample=1.0,\n",
       "               subsample_for_bin=200000, subsample_freq=0, verbose=0)"
      ]
     },
     "execution_count": 142,
     "metadata": {},
     "output_type": "execute_result"
    }
   ],
   "source": [
    "import lightgbm as lgb\n",
    "from sklearn.pipeline import Pipeline\n",
    "from sklearn.model_selection import GridSearchCV\n",
    "from sklearn.metrics import accuracy_score\n",
    "\n",
    "#Fitting a model on sampled data\n",
    "sk_reg = lgb.sklearn.LGBMClassifier(\n",
    "         objective='binary',\n",
    "         eval_metric='binary_logloss',\n",
    "         boosting='gbdt',\n",
    "         learning_rate=0.3 ,\n",
    "         verbose=0,\n",
    "         num_leaves=600,\n",
    "         bagging_freq= 1,\n",
    "         feature_fraction= 0.9,\n",
    "         max_bin= 256,\n",
    "         max_depth= 300,\n",
    "         num_rounds= 200,\n",
    ")\n",
    "\n",
    "\n",
    "sk_reg.fit(X_train_sampled, y_train_sampled)"
   ]
  },
  {
   "cell_type": "code",
   "execution_count": 143,
   "metadata": {},
   "outputs": [
    {
     "name": "stdout",
     "output_type": "stream",
     "text": [
      "Mean accuracy score: 0.645\n"
     ]
    }
   ],
   "source": [
    "predicted = sk_reg.predict(X_val)\n",
    "accuracy = accuracy_score(y_val, predicted)\n",
    "print(f'Mean accuracy score: {accuracy:.3}')"
   ]
  },
  {
   "cell_type": "code",
   "execution_count": 144,
   "metadata": {},
   "outputs": [
    {
     "name": "stdout",
     "output_type": "stream",
     "text": [
      "                               cols   imp\n",
      "1                           song_id  9134\n",
      "6                       song_length  8937\n",
      "31                 song_play_counts  8374\n",
      "0                              msno  8152\n",
      "30                msno_appear_count  7951\n",
      "5                       artist_name  7522\n",
      "32                artist_song_count  7226\n",
      "19    registration_init_timeElapsed  5700\n",
      "16        registration_init_timeDay  5434\n",
      "18  registration_init_timeDayofyear  4515\n"
     ]
    },
    {
     "data": {
      "image/png": "[encoded data removed]",
      "text/plain": [
       "<Figure size 864x504 with 1 Axes>"
      ]
     },
     "metadata": {
      "needs_background": "light"
     },
     "output_type": "display_data"
    }
   ],
   "source": [
    "### Feature selection\n",
    "\n",
    "def lgb_feat_importance(m, df):\n",
    "    return pd.DataFrame({'cols':df.columns, 'imp':m.feature_importances_}\n",
    "                       ).sort_values('imp', ascending=False)\n",
    "\n",
    "fi = lgb_feat_importance(sk_reg, X_train_sampled ); \n",
    "print(fi[:10])\n",
    "\n",
    "def plot_fi(fi):return fi.plot('cols', 'imp', 'barh',\n",
    "                               figsize=(12,7), legend=False)\n",
    "plot_fi(fi[:30])\n",
    "plt.show()"
   ]
  },
  {
   "cell_type": "code",
   "execution_count": 145,
   "metadata": {},
   "outputs": [
    {
     "data": {
      "text/plain": [
       "'0.6405'"
      ]
     },
     "execution_count": 145,
     "metadata": {},
     "output_type": "execute_result"
    }
   ],
   "source": [
    "# Pipeline and grid search\n",
    "pipe_dt = Pipeline([('clf', lgb.sklearn.LGBMClassifier())]) # Estimator: ML algorithm\n",
    "\n",
    "grid_params = dict(\n",
    "         clf__objective=['binary'],\n",
    "         clf__eval_metric=['binary_logloss'],\n",
    "         clf__boosting_type=['gbdt'],\n",
    "         clf__learning_rate=[0.3] ,\n",
    "         clf__verbose=[0],\n",
    "         clf__num_leaves=[300, 350, 250],\n",
    "         clf__feature_fraction= [0.9],\n",
    "         clf__max_bin= [256],\n",
    "         clf__max_depth= [200, 150, 250],\n",
    "         clf__num_rounds= [200])\n",
    "gs = GridSearchCV(estimator=pipe_dt,  \n",
    "                  param_grid=grid_params,\n",
    "                  scoring='accuracy',\n",
    "                  cv=5)\n",
    "\n",
    "gs.fit(X_train_sampled, y_train_sampled)\n",
    "f\"{gs.score(X_test, y_test):.4f}\""
   ]
  },
  {
   "cell_type": "code",
   "execution_count": 146,
   "metadata": {},
   "outputs": [
    {
     "name": "stdout",
     "output_type": "stream",
     "text": [
      "Pipeline(memory=None,\n",
      "         steps=[('clf',\n",
      "                 LGBMClassifier(boosting_type='gbdt', class_weight=None,\n",
      "                                colsample_bytree=1.0,\n",
      "                                eval_metric='binary_logloss',\n",
      "                                feature_fraction=0.9, importance_type='split',\n",
      "                                learning_rate=0.3, max_bin=256, max_depth=200,\n",
      "                                min_child_samples=20, min_child_weight=0.001,\n",
      "                                min_split_gain=0.0, n_estimators=100, n_jobs=-1,\n",
      "                                num_leaves=300, num_rounds=200,\n",
      "                                objective='binary', random_state=None,\n",
      "                                reg_alpha=0.0, reg_lambda=0.0, silent=True,\n",
      "                                subsample=1.0, subsample_for_bin=200000,\n",
      "                                subsample_freq=0, verbose=0))],\n",
      "         verbose=False)\n"
     ]
    },
    {
     "data": {
      "text/plain": [
       "LGBMClassifier(boosting_type='gbdt', class_weight=None, colsample_bytree=1.0,\n",
       "               eval_metric='binary_logloss', feature_fraction=0.9,\n",
       "               importance_type='split', learning_rate=0.3, max_bin=256,\n",
       "               max_depth=200, min_child_samples=20, min_child_weight=0.001,\n",
       "               min_split_gain=0.0, n_estimators=100, n_jobs=-1, num_leaves=300,\n",
       "               num_rounds=200, objective='binary', random_state=None,\n",
       "               reg_alpha=0.0, reg_lambda=0.0, silent=True, subsample=1.0,\n",
       "               subsample_for_bin=200000, subsample_freq=0, verbose=0)"
      ]
     },
     "execution_count": 146,
     "metadata": {},
     "output_type": "execute_result"
    }
   ],
   "source": [
    "# Best algorithm with best hyperparameters \n",
    "# (need to fit it to find specific model parameters)\n",
    "print(gs.best_estimator_)\n",
    "\n",
    "# Best model with specific model parameters\n",
    "gs.best_estimator_.get_params()['clf']"
   ]
  },
  {
   "cell_type": "code",
   "execution_count": 147,
   "metadata": {},
   "outputs": [],
   "source": [
    "#Fitting the best model on all the data\n",
    "Final_model = lgb.sklearn.LGBMClassifier(objective='binary',\n",
    "                                         eval_metric='binary_logloss',\n",
    "                                         boosting='gbdt',\n",
    "                                         learning_rate=0.3 ,\n",
    "                                         verbose=0,\n",
    "                                         num_leaves=600,\n",
    "                                         bagging_freq= 1,\n",
    "                                         feature_fraction= 0.9,\n",
    "                                         max_bin= 256,\n",
    "                                         max_depth= 300,\n",
    "                                         num_rounds= 200)"
   ]
  },
  {
   "cell_type": "code",
   "execution_count": 148,
   "metadata": {},
   "outputs": [
    {
     "name": "stdout",
     "output_type": "stream",
     "text": [
      "Mean accuracy score on validation: 0.734\n"
     ]
    }
   ],
   "source": [
    "#Validation accuracy\n",
    "Final_model.fit(X_train, y_train)\n",
    "predicted = Final_model.predict(X_val)\n",
    "accuracy = accuracy_score(y_val, predicted)\n",
    "print(f'Mean accuracy score on validation: {accuracy:.3}')"
   ]
  },
  {
   "cell_type": "code",
   "execution_count": 149,
   "metadata": {},
   "outputs": [],
   "source": [
    "# Predict probability for ROC curve\n",
    "predicted = Final_model.predict_proba(X_test)"
   ]
  },
  {
   "cell_type": "code",
   "execution_count": 150,
   "metadata": {},
   "outputs": [
    {
     "data": {
      "image/png": "[encoded data removed]",
      "text/plain": [
       "<Figure size 432x288 with 1 Axes>"
      ]
     },
     "metadata": {
      "needs_background": "light"
     },
     "output_type": "display_data"
    }
   ],
   "source": [
    "from sklearn.metrics import roc_curve, auc\n",
    "import matplotlib.pyplot as plt\n",
    "\n",
    "false_positive_rate, true_positive_rate, thresholds = roc_curve(\n",
    "    y_test, [i[1]for i in predicted])\n",
    "roc_auc = auc(false_positive_rate, true_positive_rate)\n",
    "\n",
    "plt.title('Receiver Operating Characteristic')\n",
    "plt.plot(false_positive_rate, true_positive_rate,\n",
    "         'b',label='AUC = %0.2f'% roc_auc)\n",
    "plt.legend(loc='lower right')\n",
    "plt.plot([0,1],[0,1],'r--')\n",
    "plt.xlim([0,1])\n",
    "plt.ylim([0,1])\n",
    "plt.ylabel('True Positive Rate')\n",
    "plt.xlabel('False Positive Rate')\n",
    "plt.show()"
   ]
  },
  {
   "cell_type": "code",
   "execution_count": null,
   "metadata": {},
   "outputs": [],
   "source": []
  }
 ],
 "metadata": {
  "kernelspec": {
   "display_name": "Python 3",
   "language": "python",
   "name": "python3"
  },
  "language_info": {
   "codemirror_mode": {
    "name": "ipython",
    "version": 3
   },
   "file_extension": ".py",
   "mimetype": "text/x-python",
   "name": "python",
   "nbconvert_exporter": "python",
   "pygments_lexer": "ipython3",
   "version": "3.7.2"
  }
 },
 "nbformat": 4,
 "nbformat_minor": 2
}
