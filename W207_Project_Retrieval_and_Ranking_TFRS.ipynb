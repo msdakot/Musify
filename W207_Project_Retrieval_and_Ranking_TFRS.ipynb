{
  "nbformat": 4,
  "nbformat_minor": 0,
  "metadata": {
    "colab": {
      "name": "W207 Project Retrieval and Ranking TFRS.ipynb",
      "provenance": [],
      "collapsed_sections": []
    },
    "kernelspec": {
      "display_name": "Python 3",
      "name": "python3"
    }
  },
  "cells": [
    {
      "cell_type": "markdown",
      "metadata": {
        "id": "X80i_girFR2o"
      },
      "source": [
        "# W207 Project - Phillip Ng\n",
        "\n",
        "This code utilizes Tensorflow's recommendation systems library. First, the implementation below includes matrix factorization, which includes taking representative embeddings (or imaginary features) for each member and song and taking the dot product of the two. This will produce a (member)x(song) matrics. The highest ranked song for each member is then recommended. Second, the implementation includes a ranking system, where the rating is just the target value (if they listened to a song repeatedly, then they must have a higher rating of the song). \n",
        "\n"
      ]
    },
    {
      "cell_type": "markdown",
      "metadata": {
        "id": "ZwrcZeK7x7xI"
      },
      "source": [
        "## Imports\n",
        "\n",
        "\n",
        "Let's first get our imports out of the way.\n"
      ]
    },
    {
      "cell_type": "code",
      "metadata": {
        "id": "izzoRqkGb2Zc",
        "colab": {
          "base_uri": "https://localhost:8080/"
        },
        "outputId": "72fdac46-a0f4-49c9-bb17-50414232e685"
      },
      "source": [
        "!pip install -q tensorflow-recommenders\n"
      ],
      "execution_count": 1,
      "outputs": [
        {
          "output_type": "stream",
          "text": [
            "\u001b[K     |████████████████████████████████| 61kB 2.7MB/s \n",
            "\u001b[K     |████████████████████████████████| 394.7MB 35kB/s \n",
            "\u001b[K     |████████████████████████████████| 3.7MB 5.7MB/s \n",
            "\u001b[?25h"
          ],
          "name": "stdout"
        }
      ]
    },
    {
      "cell_type": "code",
      "metadata": {
        "id": "SZGYDaF-m5wZ"
      },
      "source": [
        "import os\n",
        "import pprint\n",
        "import tempfile\n",
        "\n",
        "from typing import Dict, Text\n",
        "\n",
        "import pandas as pd\n",
        "import numpy as np\n",
        "import tensorflow as tf\n",
        "import tensorflow_datasets as tfds"
      ],
      "execution_count": 2,
      "outputs": []
    },
    {
      "cell_type": "code",
      "metadata": {
        "id": "BxQ_hy7xPH3N"
      },
      "source": [
        "import tensorflow_recommenders as tfrs"
      ],
      "execution_count": 3,
      "outputs": []
    },
    {
      "cell_type": "markdown",
      "metadata": {
        "id": "5PAqjR4a1RR4"
      },
      "source": [
        "## Preparing the dataset\n",
        "\n",
        "We're going to use the Movielens 100K dataset."
      ]
    },
    {
      "cell_type": "code",
      "metadata": {
        "id": "-ySWtibjm_6a",
        "colab": {
          "base_uri": "https://localhost:8080/"
        },
        "outputId": "36eb4162-f575-4abb-9d76-716a750dff97"
      },
      "source": [
        "!mkdir .kaggle\n",
        "!mv kaggle.json .kaggle\n",
        "!mv .kaggle /root\n",
        "!kaggle competitions download -c kkbox-music-recommendation-challenge\n",
        "!7za -y x \"*.7z\" "
      ],
      "execution_count": 4,
      "outputs": [
        {
          "output_type": "stream",
          "text": [
            "Warning: Your Kaggle API key is readable by other users on this system! To fix this, you can run 'chmod 600 /root/.kaggle/kaggle.json'\n",
            "Warning: Looks like you're using an outdated API Version, please consider updating (server 1.5.12 / client 1.5.4)\n",
            "Downloading song_extra_info.csv.7z to /content\n",
            " 93% 92.0M/98.8M [00:00<00:00, 121MB/s] \n",
            "100% 98.8M/98.8M [00:00<00:00, 183MB/s]\n",
            "Downloading train.csv.7z to /content\n",
            " 92% 93.0M/101M [00:00<00:00, 132MB/s]\n",
            "100% 101M/101M [00:00<00:00, 141MB/s] \n",
            "Downloading sample_submission.csv.7z to /content\n",
            "  0% 0.00/453k [00:00<?, ?B/s]\n",
            "100% 453k/453k [00:00<00:00, 101MB/s]\n",
            "Downloading test.csv.7z to /content\n",
            " 67% 28.0M/41.9M [00:00<00:00, 83.3MB/s]\n",
            "100% 41.9M/41.9M [00:00<00:00, 139MB/s] \n",
            "Downloading members.csv.7z to /content\n",
            "  0% 0.00/1.29M [00:00<?, ?B/s]\n",
            "100% 1.29M/1.29M [00:00<00:00, 104MB/s]\n",
            "Downloading songs.csv.7z to /content\n",
            " 91% 92.0M/101M [00:00<00:00, 121MB/s]\n",
            "100% 101M/101M [00:00<00:00, 122MB/s] \n",
            "\n",
            "7-Zip (a) [64] 16.02 : Copyright (c) 1999-2016 Igor Pavlov : 2016-05-21\n",
            "p7zip Version 16.02 (locale=en_US.UTF-8,Utf16=on,HugeFiles=on,64 bits,2 CPUs Intel(R) Xeon(R) CPU @ 2.30GHz (306F0),ASM,AES-NI)\n",
            "\n",
            "Scanning the drive for archives:\n",
            "  0M Scan\b\b\b\b\b\b\b\b\b         \b\b\b\b\b\b\b\b\b6 files, 361577170 bytes (345 MiB)\n",
            "  0%\b\b\b\b    \b\b\b\b\n",
            "Extracting archive: members.csv.7z\n",
            "--\n",
            "Path = members.csv.7z\n",
            "Type = 7z\n",
            "Physical Size = 1349856\n",
            "Headers Size = 130\n",
            "Method = LZMA2:3m\n",
            "Solid = -\n",
            "Blocks = 1\n",
            "\n",
            "  0%\b\b\b\b    \b\b\b\bEverything is Ok\n",
            "\n",
            "Extracting archive: sample_submission.csv.7z\n",
            "--\n",
            "Path = sample_submission.csv.7z\n",
            "Type = 7z\n",
            "Physical Size = 463688\n",
            "Headers Size = 146\n",
            "Method = LZMA2:24\n",
            "Solid = -\n",
            "Blocks = 1\n",
            "\n",
            "  0%\b\b\b\b    \b\b\b\bEverything is Ok\n",
            "\n",
            "Extracting archive: song_extra_info.csv.7z\n",
            "--\n",
            "Path = song_extra_info.csv.7z\n",
            "Type = 7z\n",
            "Physical Size = 103608205\n",
            "Headers Size = 140\n",
            "Method = LZMA:25\n",
            "Solid = -\n",
            "Blocks = 1\n",
            "\n",
            "  0%\b\b\b\b    \b\b\b\b  1% - song_extra_info.csv\b\b\b\b\b\b\b\b\b\b\b\b\b\b\b\b\b\b\b\b\b\b\b\b\b\b                          \b\b\b\b\b\b\b\b\b\b\b\b\b\b\b\b\b\b\b\b\b\b\b\b\b\b  2% - song_extra_info.csv\b\b\b\b\b\b\b\b\b\b\b\b\b\b\b\b\b\b\b\b\b\b\b\b\b\b                          \b\b\b\b\b\b\b\b\b\b\b\b\b\b\b\b\b\b\b\b\b\b\b\b\b\b  3% - song_extra_info.csv\b\b\b\b\b\b\b\b\b\b\b\b\b\b\b\b\b\b\b\b\b\b\b\b\b\b                          \b\b\b\b\b\b\b\b\b\b\b\b\b\b\b\b\b\b\b\b\b\b\b\b\b\b  4% - song_extra_info.csv\b\b\b\b\b\b\b\b\b\b\b\b\b\b\b\b\b\b\b\b\b\b\b\b\b\b                          \b\b\b\b\b\b\b\b\b\b\b\b\b\b\b\b\b\b\b\b\b\b\b\b\b\b  5% - song_extra_info.csv\b\b\b\b\b\b\b\b\b\b\b\b\b\b\b\b\b\b\b\b\b\b\b\b\b\b                          \b\b\b\b\b\b\b\b\b\b\b\b\b\b\b\b\b\b\b\b\b\b\b\b\b\b  6% - song_extra_info.csv\b\b\b\b\b\b\b\b\b\b\b\b\b\b\b\b\b\b\b\b\b\b\b\b\b\b                          \b\b\b\b\b\b\b\b\b\b\b\b\b\b\b\b\b\b\b\b\b\b\b\b\b\b  7% - song_extra_info.csv\b\b\b\b\b\b\b\b\b\b\b\b\b\b\b\b\b\b\b\b\b\b\b\b\b\b                          \b\b\b\b\b\b\b\b\b\b\b\b\b\b\b\b\b\b\b\b\b\b\b\b\b\b  8% - song_extra_info.csv\b\b\b\b\b\b\b\b\b\b\b\b\b\b\b\b\b\b\b\b\b\b\b\b\b\b                          \b\b\b\b\b\b\b\b\b\b\b\b\b\b\b\b\b\b\b\b\b\b\b\b\b\b  9% - song_extra_info.csv\b\b\b\b\b\b\b\b\b\b\b\b\b\b\b\b\b\b\b\b\b\b\b\b\b\b                          \b\b\b\b\b\b\b\b\b\b\b\b\b\b\b\b\b\b\b\b\b\b\b\b\b\b 10% - song_extra_info.csv\b\b\b\b\b\b\b\b\b\b\b\b\b\b\b\b\b\b\b\b\b\b\b\b\b\b                          \b\b\b\b\b\b\b\b\b\b\b\b\b\b\b\b\b\b\b\b\b\b\b\b\b\b 11% - song_extra_info.csv\b\b\b\b\b\b\b\b\b\b\b\b\b\b\b\b\b\b\b\b\b\b\b\b\b\b                          \b\b\b\b\b\b\b\b\b\b\b\b\b\b\b\b\b\b\b\b\b\b\b\b\b\b 12% - song_extra_info.csv\b\b\b\b\b\b\b\b\b\b\b\b\b\b\b\b\b\b\b\b\b\b\b\b\b\b                          \b\b\b\b\b\b\b\b\b\b\b\b\b\b\b\b\b\b\b\b\b\b\b\b\b\b 13% - song_extra_info.csv\b\b\b\b\b\b\b\b\b\b\b\b\b\b\b\b\b\b\b\b\b\b\b\b\b\b                          \b\b\b\b\b\b\b\b\b\b\b\b\b\b\b\b\b\b\b\b\b\b\b\b\b\b 14% - song_extra_info.csv\b\b\b\b\b\b\b\b\b\b\b\b\b\b\b\b\b\b\b\b\b\b\b\b\b\b                          \b\b\b\b\b\b\b\b\b\b\b\b\b\b\b\b\b\b\b\b\b\b\b\b\b\b 15% - song_extra_info.csv\b\b\b\b\b\b\b\b\b\b\b\b\b\b\b\b\b\b\b\b\b\b\b\b\b\b                          \b\b\b\b\b\b\b\b\b\b\b\b\b\b\b\b\b\b\b\b\b\b\b\b\b\b 16% - song_extra_info.csv\b\b\b\b\b\b\b\b\b\b\b\b\b\b\b\b\b\b\b\b\b\b\b\b\b\b                          \b\b\b\b\b\b\b\b\b\b\b\b\b\b\b\b\b\b\b\b\b\b\b\b\b\b 17% - song_extra_info.csv\b\b\b\b\b\b\b\b\b\b\b\b\b\b\b\b\b\b\b\b\b\b\b\b\b\b                          \b\b\b\b\b\b\b\b\b\b\b\b\b\b\b\b\b\b\b\b\b\b\b\b\b\b 18% - song_extra_info.csv\b\b\b\b\b\b\b\b\b\b\b\b\b\b\b\b\b\b\b\b\b\b\b\b\b\b                          \b\b\b\b\b\b\b\b\b\b\b\b\b\b\b\b\b\b\b\b\b\b\b\b\b\b 19% - song_extra_info.csv\b\b\b\b\b\b\b\b\b\b\b\b\b\b\b\b\b\b\b\b\b\b\b\b\b\b                          \b\b\b\b\b\b\b\b\b\b\b\b\b\b\b\b\b\b\b\b\b\b\b\b\b\b 20% - song_extra_info.csv\b\b\b\b\b\b\b\b\b\b\b\b\b\b\b\b\b\b\b\b\b\b\b\b\b\b                          \b\b\b\b\b\b\b\b\b\b\b\b\b\b\b\b\b\b\b\b\b\b\b\b\b\b 21% - song_extra_info.csv\b\b\b\b\b\b\b\b\b\b\b\b\b\b\b\b\b\b\b\b\b\b\b\b\b\b                          \b\b\b\b\b\b\b\b\b\b\b\b\b\b\b\b\b\b\b\b\b\b\b\b\b\b 22% - song_extra_info.csv\b\b\b\b\b\b\b\b\b\b\b\b\b\b\b\b\b\b\b\b\b\b\b\b\b\b                          \b\b\b\b\b\b\b\b\b\b\b\b\b\b\b\b\b\b\b\b\b\b\b\b\b\b 23% - song_extra_info.csv\b\b\b\b\b\b\b\b\b\b\b\b\b\b\b\b\b\b\b\b\b\b\b\b\b\b                          \b\b\b\b\b\b\b\b\b\b\b\b\b\b\b\b\b\b\b\b\b\b\b\b\b\b 24% - song_extra_info.csv\b\b\b\b\b\b\b\b\b\b\b\b\b\b\b\b\b\b\b\b\b\b\b\b\b\b                          \b\b\b\b\b\b\b\b\b\b\b\b\b\b\b\b\b\b\b\b\b\b\b\b\b\b 25% - song_extra_info.csv\b\b\b\b\b\b\b\b\b\b\b\b\b\b\b\b\b\b\b\b\b\b\b\b\b\b                          \b\b\b\b\b\b\b\b\b\b\b\b\b\b\b\b\b\b\b\b\b\b\b\b\b\b 26% - song_extra_info.csv\b\b\b\b\b\b\b\b\b\b\b\b\b\b\b\b\b\b\b\b\b\b\b\b\b\b                          \b\b\b\b\b\b\b\b\b\b\b\b\b\b\b\b\b\b\b\b\b\b\b\b\b\b 27% - song_extra_info.csv\b\b\b\b\b\b\b\b\b\b\b\b\b\b\b\b\b\b\b\b\b\b\b\b\b\b                          \b\b\b\b\b\b\b\b\b\b\b\b\b\b\b\b\b\b\b\b\b\b\b\b\b\b 28% - song_extra_info.csv\b\b\b\b\b\b\b\b\b\b\b\b\b\b\b\b\b\b\b\b\b\b\b\b\b\b                          \b\b\b\b\b\b\b\b\b\b\b\b\b\b\b\b\b\b\b\b\b\b\b\b\b\b 29% - song_extra_info.csv\b\b\b\b\b\b\b\b\b\b\b\b\b\b\b\b\b\b\b\b\b\b\b\b\b\b                          \b\b\b\b\b\b\b\b\b\b\b\b\b\b\b\b\b\b\b\b\b\b\b\b\b\bEverything is Ok\n",
            "\n",
            "Extracting archive: songs.csv.7z\n",
            "--\n",
            "Path = songs.csv.7z\n",
            "Type = 7z\n",
            "Physical Size = 105809525\n",
            "Headers Size = 122\n",
            "Method = LZMA2:24\n",
            "Solid = -\n",
            "Blocks = 1\n",
            "\n",
            " 29%\b\b\b\b    \b\b\b\b 30% - songs.csv\b\b\b\b\b\b\b\b\b\b\b\b\b\b\b\b                \b\b\b\b\b\b\b\b\b\b\b\b\b\b\b\b 31% - songs.csv\b\b\b\b\b\b\b\b\b\b\b\b\b\b\b\b                \b\b\b\b\b\b\b\b\b\b\b\b\b\b\b\b 32% - songs.csv\b\b\b\b\b\b\b\b\b\b\b\b\b\b\b\b                \b\b\b\b\b\b\b\b\b\b\b\b\b\b\b\b 33% - songs.csv\b\b\b\b\b\b\b\b\b\b\b\b\b\b\b\b                \b\b\b\b\b\b\b\b\b\b\b\b\b\b\b\b 34% - songs.csv\b\b\b\b\b\b\b\b\b\b\b\b\b\b\b\b                \b\b\b\b\b\b\b\b\b\b\b\b\b\b\b\b 35% - songs.csv\b\b\b\b\b\b\b\b\b\b\b\b\b\b\b\b                \b\b\b\b\b\b\b\b\b\b\b\b\b\b\b\b 36% - songs.csv\b\b\b\b\b\b\b\b\b\b\b\b\b\b\b\b                \b\b\b\b\b\b\b\b\b\b\b\b\b\b\b\b 37% - songs.csv\b\b\b\b\b\b\b\b\b\b\b\b\b\b\b\b                \b\b\b\b\b\b\b\b\b\b\b\b\b\b\b\b 38% - songs.csv\b\b\b\b\b\b\b\b\b\b\b\b\b\b\b\b                \b\b\b\b\b\b\b\b\b\b\b\b\b\b\b\b 39% - songs.csv\b\b\b\b\b\b\b\b\b\b\b\b\b\b\b\b                \b\b\b\b\b\b\b\b\b\b\b\b\b\b\b\b 40% - songs.csv\b\b\b\b\b\b\b\b\b\b\b\b\b\b\b\b                \b\b\b\b\b\b\b\b\b\b\b\b\b\b\b\b 41% - songs.csv\b\b\b\b\b\b\b\b\b\b\b\b\b\b\b\b                \b\b\b\b\b\b\b\b\b\b\b\b\b\b\b\b 42% - songs.csv\b\b\b\b\b\b\b\b\b\b\b\b\b\b\b\b                \b\b\b\b\b\b\b\b\b\b\b\b\b\b\b\b 43% - songs.csv\b\b\b\b\b\b\b\b\b\b\b\b\b\b\b\b                \b\b\b\b\b\b\b\b\b\b\b\b\b\b\b\b 44% - songs.csv\b\b\b\b\b\b\b\b\b\b\b\b\b\b\b\b                \b\b\b\b\b\b\b\b\b\b\b\b\b\b\b\b 45% - songs.csv\b\b\b\b\b\b\b\b\b\b\b\b\b\b\b\b                \b\b\b\b\b\b\b\b\b\b\b\b\b\b\b\b 46% - songs.csv\b\b\b\b\b\b\b\b\b\b\b\b\b\b\b\b                \b\b\b\b\b\b\b\b\b\b\b\b\b\b\b\b 47% - songs.csv\b\b\b\b\b\b\b\b\b\b\b\b\b\b\b\b                \b\b\b\b\b\b\b\b\b\b\b\b\b\b\b\b 48% - songs.csv\b\b\b\b\b\b\b\b\b\b\b\b\b\b\b\b                \b\b\b\b\b\b\b\b\b\b\b\b\b\b\b\b 49% - songs.csv\b\b\b\b\b\b\b\b\b\b\b\b\b\b\b\b                \b\b\b\b\b\b\b\b\b\b\b\b\b\b\b\b 50% - songs.csv\b\b\b\b\b\b\b\b\b\b\b\b\b\b\b\b                \b\b\b\b\b\b\b\b\b\b\b\b\b\b\b\b 51% - songs.csv\b\b\b\b\b\b\b\b\b\b\b\b\b\b\b\b                \b\b\b\b\b\b\b\b\b\b\b\b\b\b\b\b 52% - songs.csv\b\b\b\b\b\b\b\b\b\b\b\b\b\b\b\b                \b\b\b\b\b\b\b\b\b\b\b\b\b\b\b\b 53% - songs.csv\b\b\b\b\b\b\b\b\b\b\b\b\b\b\b\b                \b\b\b\b\b\b\b\b\b\b\b\b\b\b\b\b 54% - songs.csv\b\b\b\b\b\b\b\b\b\b\b\b\b\b\b\b                \b\b\b\b\b\b\b\b\b\b\b\b\b\b\b\b 55% - songs.csv\b\b\b\b\b\b\b\b\b\b\b\b\b\b\b\b                \b\b\b\b\b\b\b\b\b\b\b\b\b\b\b\b 56% - songs.csv\b\b\b\b\b\b\b\b\b\b\b\b\b\b\b\b                \b\b\b\b\b\b\b\b\b\b\b\b\b\b\b\b 57% - songs.csv\b\b\b\b\b\b\b\b\b\b\b\b\b\b\b\b                \b\b\b\b\b\b\b\b\b\b\b\b\b\b\b\b 58% - songs.csv\b\b\b\b\b\b\b\b\b\b\b\b\b\b\b\b                \b\b\b\b\b\b\b\b\b\b\b\b\b\b\b\bEverything is Ok\n",
            "\n",
            "Extracting archive: test.csv.7z\n",
            "--\n",
            "Path = test.csv.7z\n",
            "Type = 7z\n",
            "Physical Size = 43925208\n",
            "Headers Size = 122\n",
            "Method = LZMA2:24\n",
            "Solid = -\n",
            "Blocks = 1\n",
            "\n",
            " 58%\b\b\b\b    \b\b\b\b 59% - test.csv\b\b\b\b\b\b\b\b\b\b\b\b\b\b\b               \b\b\b\b\b\b\b\b\b\b\b\b\b\b\b 60% - test.csv\b\b\b\b\b\b\b\b\b\b\b\b\b\b\b               \b\b\b\b\b\b\b\b\b\b\b\b\b\b\b 61% - test.csv\b\b\b\b\b\b\b\b\b\b\b\b\b\b\b               \b\b\b\b\b\b\b\b\b\b\b\b\b\b\b 62% - test.csv\b\b\b\b\b\b\b\b\b\b\b\b\b\b\b               \b\b\b\b\b\b\b\b\b\b\b\b\b\b\b 63% - test.csv\b\b\b\b\b\b\b\b\b\b\b\b\b\b\b               \b\b\b\b\b\b\b\b\b\b\b\b\b\b\b 64% - test.csv\b\b\b\b\b\b\b\b\b\b\b\b\b\b\b               \b\b\b\b\b\b\b\b\b\b\b\b\b\b\b 65% - test.csv\b\b\b\b\b\b\b\b\b\b\b\b\b\b\b               \b\b\b\b\b\b\b\b\b\b\b\b\b\b\b 66% - test.csv\b\b\b\b\b\b\b\b\b\b\b\b\b\b\b               \b\b\b\b\b\b\b\b\b\b\b\b\b\b\b 67% - test.csv\b\b\b\b\b\b\b\b\b\b\b\b\b\b\b               \b\b\b\b\b\b\b\b\b\b\b\b\b\b\b 68% - test.csv\b\b\b\b\b\b\b\b\b\b\b\b\b\b\b               \b\b\b\b\b\b\b\b\b\b\b\b\b\b\b 69% - test.csv\b\b\b\b\b\b\b\b\b\b\b\b\b\b\b               \b\b\b\b\b\b\b\b\b\b\b\b\b\b\b 70% - test.csv\b\b\b\b\b\b\b\b\b\b\b\b\b\b\b               \b\b\b\b\b\b\b\b\b\b\b\b\b\b\bEverything is Ok\n",
            "\n",
            "Extracting archive: train.csv.7z\n",
            "--\n",
            "Path = train.csv.7z\n",
            "Type = 7z\n",
            "Physical Size = 106420688\n",
            "Headers Size = 122\n",
            "Method = LZMA2:24\n",
            "Solid = -\n",
            "Blocks = 1\n",
            "\n",
            " 70%\b\b\b\b    \b\b\b\b 71% - train.csv\b\b\b\b\b\b\b\b\b\b\b\b\b\b\b\b                \b\b\b\b\b\b\b\b\b\b\b\b\b\b\b\b 72% - train.csv\b\b\b\b\b\b\b\b\b\b\b\b\b\b\b\b                \b\b\b\b\b\b\b\b\b\b\b\b\b\b\b\b 73% - train.csv\b\b\b\b\b\b\b\b\b\b\b\b\b\b\b\b                \b\b\b\b\b\b\b\b\b\b\b\b\b\b\b\b 74% - train.csv\b\b\b\b\b\b\b\b\b\b\b\b\b\b\b\b                \b\b\b\b\b\b\b\b\b\b\b\b\b\b\b\b 75% - train.csv\b\b\b\b\b\b\b\b\b\b\b\b\b\b\b\b                \b\b\b\b\b\b\b\b\b\b\b\b\b\b\b\b 76% - train.csv\b\b\b\b\b\b\b\b\b\b\b\b\b\b\b\b                \b\b\b\b\b\b\b\b\b\b\b\b\b\b\b\b 77% - train.csv\b\b\b\b\b\b\b\b\b\b\b\b\b\b\b\b                \b\b\b\b\b\b\b\b\b\b\b\b\b\b\b\b 78% - train.csv\b\b\b\b\b\b\b\b\b\b\b\b\b\b\b\b                \b\b\b\b\b\b\b\b\b\b\b\b\b\b\b\b 79% - train.csv\b\b\b\b\b\b\b\b\b\b\b\b\b\b\b\b                \b\b\b\b\b\b\b\b\b\b\b\b\b\b\b\b 80% - train.csv\b\b\b\b\b\b\b\b\b\b\b\b\b\b\b\b                \b\b\b\b\b\b\b\b\b\b\b\b\b\b\b\b 81% - train.csv\b\b\b\b\b\b\b\b\b\b\b\b\b\b\b\b                \b\b\b\b\b\b\b\b\b\b\b\b\b\b\b\b 82% - train.csv\b\b\b\b\b\b\b\b\b\b\b\b\b\b\b\b                \b\b\b\b\b\b\b\b\b\b\b\b\b\b\b\b 83% - train.csv\b\b\b\b\b\b\b\b\b\b\b\b\b\b\b\b                \b\b\b\b\b\b\b\b\b\b\b\b\b\b\b\b 84% - train.csv\b\b\b\b\b\b\b\b\b\b\b\b\b\b\b\b                \b\b\b\b\b\b\b\b\b\b\b\b\b\b\b\b 85% - train.csv\b\b\b\b\b\b\b\b\b\b\b\b\b\b\b\b                \b\b\b\b\b\b\b\b\b\b\b\b\b\b\b\b 86% - train.csv\b\b\b\b\b\b\b\b\b\b\b\b\b\b\b\b                \b\b\b\b\b\b\b\b\b\b\b\b\b\b\b\b 87% - train.csv\b\b\b\b\b\b\b\b\b\b\b\b\b\b\b\b                \b\b\b\b\b\b\b\b\b\b\b\b\b\b\b\b 88% - train.csv\b\b\b\b\b\b\b\b\b\b\b\b\b\b\b\b                \b\b\b\b\b\b\b\b\b\b\b\b\b\b\b\b 89% - train.csv\b\b\b\b\b\b\b\b\b\b\b\b\b\b\b\b                \b\b\b\b\b\b\b\b\b\b\b\b\b\b\b\b 90% - train.csv\b\b\b\b\b\b\b\b\b\b\b\b\b\b\b\b                \b\b\b\b\b\b\b\b\b\b\b\b\b\b\b\b 91% - train.csv\b\b\b\b\b\b\b\b\b\b\b\b\b\b\b\b                \b\b\b\b\b\b\b\b\b\b\b\b\b\b\b\b 92% - train.csv\b\b\b\b\b\b\b\b\b\b\b\b\b\b\b\b                \b\b\b\b\b\b\b\b\b\b\b\b\b\b\b\b 93% - train.csv\b\b\b\b\b\b\b\b\b\b\b\b\b\b\b\b                \b\b\b\b\b\b\b\b\b\b\b\b\b\b\b\b 94% - train.csv\b\b\b\b\b\b\b\b\b\b\b\b\b\b\b\b                \b\b\b\b\b\b\b\b\b\b\b\b\b\b\b\b 95% - train.csv\b\b\b\b\b\b\b\b\b\b\b\b\b\b\b\b                \b\b\b\b\b\b\b\b\b\b\b\b\b\b\b\b 96% - train.csv\b\b\b\b\b\b\b\b\b\b\b\b\b\b\b\b                \b\b\b\b\b\b\b\b\b\b\b\b\b\b\b\b 97% - train.csv\b\b\b\b\b\b\b\b\b\b\b\b\b\b\b\b                \b\b\b\b\b\b\b\b\b\b\b\b\b\b\b\b 98% - train.csv\b\b\b\b\b\b\b\b\b\b\b\b\b\b\b\b                \b\b\b\b\b\b\b\b\b\b\b\b\b\b\b\b 99% - train.csv\b\b\b\b\b\b\b\b\b\b\b\b\b\b\b\b                \b\b\b\b\b\b\b\b\b\b\b\b\b\b\b\b100% 1\b\b\b\b\b\b      \b\b\b\b\b\bEverything is Ok\n",
            "100% 1\b\b\b\b\b\b      \b\b\b\b\b\b\n",
            "Archives: 6\n",
            "OK archives: 6\n",
            "Files: 6\n",
            "Size:       1754378940\n",
            "Compressed: 361577170\n"
          ],
          "name": "stdout"
        }
      ]
    },
    {
      "cell_type": "code",
      "metadata": {
        "id": "PFVSbO5rEcI7"
      },
      "source": [
        "train_df = pd.read_csv('train.csv')\n",
        "# test_df = pd.read_csv('test.csv')\n",
        "members_df = pd.read_csv('members.csv')\n",
        "songs_df = pd.read_csv('songs.csv')\n",
        "extra_df = pd.read_csv('song_extra_info.csv')\n",
        "# sample_df = pd.read_csv('sample_submission.csv')"
      ],
      "execution_count": 5,
      "outputs": []
    },
    {
      "cell_type": "markdown",
      "metadata": {
        "id": "P2cGVxiiKGQk"
      },
      "source": [
        "Although the origional dataset has over 7M rows, we just use rows applicable to a certain amount of high usage users. Why? Beause the cold start problem in the dataset is a big problem. For a majority of the users, there are only a few songs listened to out of over 2M songs. Therefore, for most of the users, they'll have approximately the same recommendations since they have little listening history. In fact, there may be users without any data entries at all. To save on memory and computation, we'll just take into account 5 of the top listening users, as well as the songs that they have listened to. "
      ]
    },
    {
      "cell_type": "code",
      "metadata": {
        "id": "7jJFCrN4EcL9",
        "colab": {
          "base_uri": "https://localhost:8080/",
          "height": 584
        },
        "outputId": "3a4a2264-d5b4-4395-a303-7de35ac5c9ac"
      },
      "source": [
        "top_plays_df = train_df['msno'].value_counts()\n",
        "ax = top_plays_df.head(5).plot.bar(rot=90)\n",
        "ax.set_title('Top 5 Members Who Play the Most Songs')\n",
        "ax.set_ylabel('# of Songs')\n",
        "ax.set_xlabel('msno ID')"
      ],
      "execution_count": 6,
      "outputs": [
        {
          "output_type": "execute_result",
          "data": {
            "text/plain": [
              "Text(0.5, 0, 'msno ID')"
            ]
          },
          "metadata": {
            "tags": []
          },
          "execution_count": 6
        },
        {
          "output_type": "display_data",
          "data": {
            "image/png": "[encoded data removed]",
            "text/plain": [
              "<Figure size 432x288 with 1 Axes>"
            ]
          },
          "metadata": {
            "tags": [],
            "needs_background": "light"
          }
        }
      ]
    },
    {
      "cell_type": "code",
      "metadata": {
        "id": "l5LKDkofEfso",
        "colab": {
          "base_uri": "https://localhost:8080/",
          "height": 407
        },
        "outputId": "78bfadc8-c37c-46f8-bc8c-dce6d8728aca"
      },
      "source": [
        "n_msno = 5\n",
        "unique_members_list = top_plays_df.head(n_msno).index.values\n",
        "train_df = train_df[train_df['msno'].isin(unique_members_list)]\n",
        "train_df"
      ],
      "execution_count": 7,
      "outputs": [
        {
          "output_type": "execute_result",
          "data": {
            "text/html": [
              "<div>\n",
              "<style scoped>\n",
              "    .dataframe tbody tr th:only-of-type {\n",
              "        vertical-align: middle;\n",
              "    }\n",
              "\n",
              "    .dataframe tbody tr th {\n",
              "        vertical-align: top;\n",
              "    }\n",
              "\n",
              "    .dataframe thead th {\n",
              "        text-align: right;\n",
              "    }\n",
              "</style>\n",
              "<table border=\"1\" class=\"dataframe\">\n",
              "  <thead>\n",
              "    <tr style=\"text-align: right;\">\n",
              "      <th></th>\n",
              "      <th>msno</th>\n",
              "      <th>song_id</th>\n",
              "      <th>source_system_tab</th>\n",
              "      <th>source_screen_name</th>\n",
              "      <th>source_type</th>\n",
              "      <th>target</th>\n",
              "    </tr>\n",
              "  </thead>\n",
              "  <tbody>\n",
              "    <tr>\n",
              "      <th>0</th>\n",
              "      <td>FGtllVqz18RPiwJj/edr2gV78zirAiY/9SmYvia+kCg=</td>\n",
              "      <td>BBzumQNXUHKdEBOB7mAJuzok+IJA1c2Ryg/yzTF6tik=</td>\n",
              "      <td>explore</td>\n",
              "      <td>Explore</td>\n",
              "      <td>online-playlist</td>\n",
              "      <td>1</td>\n",
              "    </tr>\n",
              "    <tr>\n",
              "      <th>4</th>\n",
              "      <td>FGtllVqz18RPiwJj/edr2gV78zirAiY/9SmYvia+kCg=</td>\n",
              "      <td>3qm6XTZ6MOCU11x8FIVbAGH5l5uMkT3/ZalWG1oo2Gc=</td>\n",
              "      <td>explore</td>\n",
              "      <td>Explore</td>\n",
              "      <td>online-playlist</td>\n",
              "      <td>1</td>\n",
              "    </tr>\n",
              "    <tr>\n",
              "      <th>5</th>\n",
              "      <td>FGtllVqz18RPiwJj/edr2gV78zirAiY/9SmYvia+kCg=</td>\n",
              "      <td>3Hg5kugV1S0wzEVLAEfqjIV5UHzb7bCrdBRQlGygLvU=</td>\n",
              "      <td>explore</td>\n",
              "      <td>Explore</td>\n",
              "      <td>online-playlist</td>\n",
              "      <td>1</td>\n",
              "    </tr>\n",
              "    <tr>\n",
              "      <th>7</th>\n",
              "      <td>FGtllVqz18RPiwJj/edr2gV78zirAiY/9SmYvia+kCg=</td>\n",
              "      <td>bPIvRTzfHxH5LgHrStll+tYwSQNVV8PySgA3M1PfTgc=</td>\n",
              "      <td>explore</td>\n",
              "      <td>Explore</td>\n",
              "      <td>online-playlist</td>\n",
              "      <td>1</td>\n",
              "    </tr>\n",
              "    <tr>\n",
              "      <th>1785</th>\n",
              "      <td>cqjRBV/jWN2ujhc+z/4tz+Mj6xEfflAAt6qBXCqxKvw=</td>\n",
              "      <td>DvHKv+E/ddqTfv7qcaWi9a9pQ1V/iViKK48l8y9+sjo=</td>\n",
              "      <td>my library</td>\n",
              "      <td>Local playlist more</td>\n",
              "      <td>local-playlist</td>\n",
              "      <td>1</td>\n",
              "    </tr>\n",
              "    <tr>\n",
              "      <th>...</th>\n",
              "      <td>...</td>\n",
              "      <td>...</td>\n",
              "      <td>...</td>\n",
              "      <td>...</td>\n",
              "      <td>...</td>\n",
              "      <td>...</td>\n",
              "    </tr>\n",
              "    <tr>\n",
              "      <th>7376988</th>\n",
              "      <td>o+5RNlSWrzvrphgBNGIo1FLkGxBgyICns6qXj3nS7Pk=</td>\n",
              "      <td>0HdxIGn+du6j5RTDdqm5JmnqZIzfpI2FkWSzrk0AXfU=</td>\n",
              "      <td>my library</td>\n",
              "      <td>Local playlist more</td>\n",
              "      <td>local-library</td>\n",
              "      <td>0</td>\n",
              "    </tr>\n",
              "    <tr>\n",
              "      <th>7376989</th>\n",
              "      <td>o+5RNlSWrzvrphgBNGIo1FLkGxBgyICns6qXj3nS7Pk=</td>\n",
              "      <td>QCHnuAqzhrcTCQ/ho879hnlRkfOrrntXQ6eopSKg/ok=</td>\n",
              "      <td>my library</td>\n",
              "      <td>Local playlist more</td>\n",
              "      <td>local-library</td>\n",
              "      <td>1</td>\n",
              "    </tr>\n",
              "    <tr>\n",
              "      <th>7377027</th>\n",
              "      <td>cqjRBV/jWN2ujhc+z/4tz+Mj6xEfflAAt6qBXCqxKvw=</td>\n",
              "      <td>kSO0XhJ+l5BPCeNw1wJT8ffdaO3RfOHc/DuqjfWoAxg=</td>\n",
              "      <td>my library</td>\n",
              "      <td>Album more</td>\n",
              "      <td>album</td>\n",
              "      <td>1</td>\n",
              "    </tr>\n",
              "    <tr>\n",
              "      <th>7377028</th>\n",
              "      <td>cqjRBV/jWN2ujhc+z/4tz+Mj6xEfflAAt6qBXCqxKvw=</td>\n",
              "      <td>EIDG9lVWQv4KzvyL+/baNq5ix2ZRy9kUdznUB6HZIxI=</td>\n",
              "      <td>my library</td>\n",
              "      <td>Album more</td>\n",
              "      <td>album</td>\n",
              "      <td>1</td>\n",
              "    </tr>\n",
              "    <tr>\n",
              "      <th>7377286</th>\n",
              "      <td>cqjRBV/jWN2ujhc+z/4tz+Mj6xEfflAAt6qBXCqxKvw=</td>\n",
              "      <td>4Q9Eu0sUt6eQO+9neIacaPO/0ZbQB+tepSkKvBdHXQ0=</td>\n",
              "      <td>my library</td>\n",
              "      <td>Album more</td>\n",
              "      <td>album</td>\n",
              "      <td>1</td>\n",
              "    </tr>\n",
              "  </tbody>\n",
              "</table>\n",
              "<p>25092 rows × 6 columns</p>\n",
              "</div>"
            ],
            "text/plain": [
              "                                                 msno  ... target\n",
              "0        FGtllVqz18RPiwJj/edr2gV78zirAiY/9SmYvia+kCg=  ...      1\n",
              "4        FGtllVqz18RPiwJj/edr2gV78zirAiY/9SmYvia+kCg=  ...      1\n",
              "5        FGtllVqz18RPiwJj/edr2gV78zirAiY/9SmYvia+kCg=  ...      1\n",
              "7        FGtllVqz18RPiwJj/edr2gV78zirAiY/9SmYvia+kCg=  ...      1\n",
              "1785     cqjRBV/jWN2ujhc+z/4tz+Mj6xEfflAAt6qBXCqxKvw=  ...      1\n",
              "...                                               ...  ...    ...\n",
              "7376988  o+5RNlSWrzvrphgBNGIo1FLkGxBgyICns6qXj3nS7Pk=  ...      0\n",
              "7376989  o+5RNlSWrzvrphgBNGIo1FLkGxBgyICns6qXj3nS7Pk=  ...      1\n",
              "7377027  cqjRBV/jWN2ujhc+z/4tz+Mj6xEfflAAt6qBXCqxKvw=  ...      1\n",
              "7377028  cqjRBV/jWN2ujhc+z/4tz+Mj6xEfflAAt6qBXCqxKvw=  ...      1\n",
              "7377286  cqjRBV/jWN2ujhc+z/4tz+Mj6xEfflAAt6qBXCqxKvw=  ...      1\n",
              "\n",
              "[25092 rows x 6 columns]"
            ]
          },
          "metadata": {
            "tags": []
          },
          "execution_count": 7
        }
      ]
    },
    {
      "cell_type": "markdown",
      "metadata": {
        "id": "NUw_YO_jKLvd"
      },
      "source": [
        "There are over 25000 listening activity logs among the 5 individuals. "
      ]
    },
    {
      "cell_type": "markdown",
      "metadata": {
        "id": "SdnXKnB5QOEc"
      },
      "source": [
        "Convert the data to Tensorflow MapDatasets"
      ]
    },
    {
      "cell_type": "code",
      "metadata": {
        "id": "Q74iAQzMEhPW"
      },
      "source": [
        "train_df[['song_id']] = train_df[['song_id']].astype(str)\n",
        "train_df[['msno']] = train_df[['msno']].astype(str)\n",
        "train_df[['target']] = train_df[['target']].astype(float)\n",
        "ratings = tf.data.Dataset.from_tensor_slices(train_df[['song_id','msno','target']].to_dict('list')).map(lambda x:x)\n",
        "songs =  tf.data.Dataset.from_tensor_slices(train_df['song_id'].unique().astype(str)).map(lambda x:x)"
      ],
      "execution_count": 8,
      "outputs": []
    },
    {
      "cell_type": "code",
      "metadata": {
        "colab": {
          "base_uri": "https://localhost:8080/"
        },
        "id": "ao0gcwFOKWUi",
        "outputId": "b6fb7046-5a30-44c8-beb0-e06f52c4e791"
      },
      "source": [
        "print(\"Number of unique songs considered is:\", len(songs), \"which is much smaller than the origional song dataset of\",len(songs_df))"
      ],
      "execution_count": 9,
      "outputs": [
        {
          "output_type": "stream",
          "text": [
            "Number of unique songs considered is: 20527 which is much smaller than the origional song dataset of 2296320\n"
          ],
          "name": "stdout"
        }
      ]
    },
    {
      "cell_type": "code",
      "metadata": {
        "id": "lsY-wAUREj5Y"
      },
      "source": [
        "tf.random.set_seed(42)\n",
        "nrows = train_df.shape[0]\n",
        "shuffled = ratings.shuffle(nrows, seed=42, reshuffle_each_iteration=False)\n",
        "\n",
        "train = shuffled.take(round(nrows*.8)).map(lambda x:x)\n",
        "dev = shuffled.skip(round(nrows*.8)).take(round((nrows*.2))).map(lambda x:x)"
      ],
      "execution_count": 10,
      "outputs": []
    },
    {
      "cell_type": "code",
      "metadata": {
        "id": "Xfk-DFIWEziD"
      },
      "source": [
        "class SongLensModel(tfrs.Model):\n",
        "  # We derive from a custom base class to help reduce boilerplate. Under the hood,\n",
        "  # these are still plain Keras Models.\n",
        "\n",
        "  def __init__(\n",
        "      self,\n",
        "      user_model: tf.keras.Model,\n",
        "      song_model: tf.keras.Model,\n",
        "      rating_model: tf.keras.Model,\n",
        "      retrieval_task: tfrs.tasks.Retrieval,\n",
        "      rating_task: tfrs.tasks.Ranking):\n",
        "    super().__init__()\n",
        "\n",
        "    # Set up user and song representations.\n",
        "    self.user_model = user_model\n",
        "    self.song_model = song_model\n",
        "    self.rating_model = rating_model\n",
        "\n",
        "    # Set up a retrieval task.\n",
        "    self.retrieval_task = retrieval_task\n",
        "    self.rating_task = rating_task\n",
        "\n",
        "  def compute_loss(self, features: Dict[Text, tf.Tensor], training=False) -> tf.Tensor:\n",
        "    # Define how the loss is computed.\n",
        "\n",
        "    user_embeddings = self.user_model(features[\"msno\"])\n",
        "    song_embeddings = self.song_model(features[\"song_id\"])\n",
        "    rating_predictions = self.rating_model(tf.concat([user_embeddings, song_embeddings], axis=1))\n",
        "\n",
        "    retrieval_loss = self.retrieval_task(user_embeddings, song_embeddings)\n",
        "\n",
        "    rating_loss = self.rating_task(\n",
        "        labels=features[\"target\"],\n",
        "        predictions=rating_predictions,\n",
        "    )\n",
        "\n",
        "    return retrieval_loss + rating_loss"
      ],
      "execution_count": 11,
      "outputs": []
    },
    {
      "cell_type": "code",
      "metadata": {
        "id": "iDVFWLHIEpYg"
      },
      "source": [
        "msnos_vocabulary = tf.keras.layers.experimental.preprocessing.StringLookup(mask_token=None)\n",
        "msnos_vocabulary.adapt(unique_members_list)\n",
        "song_ids_vocabulary = tf.keras.layers.experimental.preprocessing.StringLookup(mask_token=None)\n",
        "song_ids_vocabulary.adapt(songs)\n",
        "\n",
        "# Define user and song models.\n",
        "user_model = tf.keras.Sequential([\n",
        "    msnos_vocabulary,\n",
        "    tf.keras.layers.Embedding(msnos_vocabulary.vocab_size(), 8)\n",
        "])\n",
        "song_model = tf.keras.Sequential([\n",
        "    song_ids_vocabulary,\n",
        "    tf.keras.layers.Embedding(song_ids_vocabulary.vocab_size(), 8)\n",
        "])\n",
        "\n",
        "# Define rating_model\n",
        "rating_model = tf.keras.Sequential([\n",
        "    tf.keras.layers.Dense(256, activation=\"relu\"),\n",
        "    tf.keras.layers.Dense(128, activation=\"relu\"),\n",
        "    tf.keras.layers.Dense(1),])\n",
        "\n",
        "# Define your objectives.\n",
        "retrieval_task = tfrs.tasks.Retrieval(\n",
        "    metrics=tfrs.metrics.FactorizedTopK(\n",
        "    songs.batch(64).map(song_model)\n",
        "  )\n",
        ")\n",
        "\n",
        "rating_task = tfrs.tasks.Ranking(\n",
        "    loss=tf.keras.losses.MeanSquaredError(),\n",
        "    metrics=[tf.keras.metrics.RootMeanSquaredError()])\n"
      ],
      "execution_count": 12,
      "outputs": []
    },
    {
      "cell_type": "code",
      "metadata": {
        "id": "hz3xZvQyG9OR",
        "colab": {
          "base_uri": "https://localhost:8080/"
        },
        "outputId": "1674895d-e37a-42cd-b161-a45a542f5466"
      },
      "source": [
        "# Create a retrieval model.\n",
        "model = SongLensModel(user_model, song_model,rating_model, retrieval_task,rating_task)\n",
        "model.compile(optimizer=tf.keras.optimizers.Adagrad(0.5))\n",
        "\n",
        "# Train for 3 epochs.\n",
        "model.fit(train.batch(16384),validation_data=dev.batch(1024),epochs=3)\n",
        "\n",
        "# Use brute-force search to set up retrieval using the trained representations.\n",
        "index = tfrs.layers.factorized_top_k.BruteForce(model.user_model)\n",
        "index.index(songs.batch(1000).map(model.song_model), songs)"
      ],
      "execution_count": 13,
      "outputs": [
        {
          "output_type": "stream",
          "text": [
            "Epoch 1/3\n",
            "2/2 [==============================] - 53s 17s/step - factorized_top_k/top_1_categorical_accuracy: 0.0000e+00 - factorized_top_k/top_5_categorical_accuracy: 0.0000e+00 - factorized_top_k/top_10_categorical_accuracy: 0.0000e+00 - factorized_top_k/top_50_categorical_accuracy: 0.0000e+00 - factorized_top_k/top_100_categorical_accuracy: 0.0000e+00 - root_mean_squared_error: 0.8309 - loss: 73193.0716 - regularization_loss: 0.0000e+00 - total_loss: 73193.0716 - val_factorized_top_k/top_1_categorical_accuracy: 0.0000e+00 - val_factorized_top_k/top_5_categorical_accuracy: 0.0000e+00 - val_factorized_top_k/top_10_categorical_accuracy: 0.0000e+00 - val_factorized_top_k/top_50_categorical_accuracy: 0.0000e+00 - val_factorized_top_k/top_100_categorical_accuracy: 0.0000e+00 - val_root_mean_squared_error: 1.0823 - val_loss: 6392.1890 - val_regularization_loss: 0.0000e+00 - val_total_loss: 6392.1890\n",
            "Epoch 2/3\n",
            "2/2 [==============================] - 45s 16s/step - factorized_top_k/top_1_categorical_accuracy: 0.0000e+00 - factorized_top_k/top_5_categorical_accuracy: 0.0000e+00 - factorized_top_k/top_10_categorical_accuracy: 0.0000e+00 - factorized_top_k/top_50_categorical_accuracy: 0.0000e+00 - factorized_top_k/top_100_categorical_accuracy: 0.0000e+00 - root_mean_squared_error: 1.0071 - loss: 73294.3984 - regularization_loss: 0.0000e+00 - total_loss: 73294.3984 - val_factorized_top_k/top_1_categorical_accuracy: 0.0000e+00 - val_factorized_top_k/top_5_categorical_accuracy: 0.0000e+00 - val_factorized_top_k/top_10_categorical_accuracy: 0.0000e+00 - val_factorized_top_k/top_50_categorical_accuracy: 0.0000e+00 - val_factorized_top_k/top_100_categorical_accuracy: 0.0000e+00 - val_root_mean_squared_error: 0.5436 - val_loss: 6548.9468 - val_regularization_loss: 0.0000e+00 - val_total_loss: 6548.9468\n",
            "Epoch 3/3\n",
            "2/2 [==============================] - 45s 16s/step - factorized_top_k/top_1_categorical_accuracy: 0.0039 - factorized_top_k/top_5_categorical_accuracy: 0.0160 - factorized_top_k/top_10_categorical_accuracy: 0.0407 - factorized_top_k/top_50_categorical_accuracy: 0.0496 - factorized_top_k/top_100_categorical_accuracy: 0.0502 - root_mean_squared_error: 0.5354 - loss: 66625.8177 - regularization_loss: 0.0000e+00 - total_loss: 66625.8177 - val_factorized_top_k/top_1_categorical_accuracy: 0.0000e+00 - val_factorized_top_k/top_5_categorical_accuracy: 0.0000e+00 - val_factorized_top_k/top_10_categorical_accuracy: 0.0000e+00 - val_factorized_top_k/top_50_categorical_accuracy: 0.0000e+00 - val_factorized_top_k/top_100_categorical_accuracy: 0.0000e+00 - val_root_mean_squared_error: 0.4942 - val_loss: 7176.2666 - val_regularization_loss: 0.0000e+00 - val_total_loss: 7176.2666\n"
          ],
          "name": "stdout"
        },
        {
          "output_type": "execute_result",
          "data": {
            "text/plain": [
              "<tensorflow_recommenders.layers.factorized_top_k.BruteForce at 0x7f0147311250>"
            ]
          },
          "metadata": {
            "tags": []
          },
          "execution_count": 13
        }
      ]
    },
    {
      "cell_type": "markdown",
      "metadata": {
        "id": "NrweXNF3Mlx6"
      },
      "source": [
        "As we can see, the top k accuracy steadily goes up after each iteration. Which means that the song that the user actually liked appeared in the top k recommendations. For a song recommendation system, which might recommend recommend upwards of 100 songs, having that song appear in the top 100 seems very promising. Considering that there are 20,000 songs to choose 100 from, which is a base percentage of 0.5%, having a top_100_categorical_accuracy > 5% shows that the model is training well. However, validation dataset might need further tweaking."
      ]
    },
    {
      "cell_type": "code",
      "metadata": {
        "id": "U_vc9aK0G9RR"
      },
      "source": [
        "song_id_dict = extra_df.drop('isrc',1).set_index(\"song_id\").to_dict()"
      ],
      "execution_count": 14,
      "outputs": []
    },
    {
      "cell_type": "code",
      "metadata": {
        "id": "vt0NTLxFG9Zv",
        "colab": {
          "base_uri": "https://localhost:8080/"
        },
        "outputId": "e2e97c34-dd7f-4155-8c7a-8705cd95c4f7"
      },
      "source": [
        "# Get some recommendations.\n",
        "for i, msno_number in enumerate(unique_members_list):\n",
        "  if(i<5):\n",
        "    n = 3\n",
        "    _, titles = index.call(np.array([msno_number]),n)\n",
        "    top_n = [song_id_dict['name'].get(titles[0,x].numpy().decode(\"utf-8\"),'Not Found') for x in range(n)]\n",
        "    print(\"The Top\",n,\"songs recommended for user\",msno_number,\"is\",top_n)\n",
        "  else:\n",
        "    break"
      ],
      "execution_count": 15,
      "outputs": [
        {
          "output_type": "stream",
          "text": [
            "The Top 3 songs recommended for user MXIMDXO0j3UpaT7FvOSGW6Y5zfhlh+xYjTqGoUdMzEE= is ['Lose Control', \"Boot Scootin' Boogie\", 'Toilet no kamisama']\n",
            "The Top 3 songs recommended for user o+5RNlSWrzvrphgBNGIo1FLkGxBgyICns6qXj3nS7Pk= is ['$Intro', 'Never Give Up', 'You Know']\n",
            "The Top 3 songs recommended for user FGtllVqz18RPiwJj/edr2gV78zirAiY/9SmYvia+kCg= is ['Young Blood', 'Prime', 'Midnight']\n",
            "The Top 3 songs recommended for user KGXNZ/H3VxvET/+rGxlrAe7Gpz2eKMXyuSg3xh8Ij1M= is ['Nurse Ratched', '新不了情', '因為我相信']\n",
            "The Top 3 songs recommended for user cqjRBV/jWN2ujhc+z/4tz+Mj6xEfflAAt6qBXCqxKvw= is ['柴可夫斯基：天鵝湖 – 第二幕：情景', '失蹤 (INSTRUMENTAL)', '神啊 救救我 (Shen A Jiu Jiu Wo)']\n"
          ],
          "name": "stdout"
        }
      ]
    },
    {
      "cell_type": "markdown",
      "metadata": {
        "id": "SGubnloQN_LU"
      },
      "source": [
        "Here are the songs that are recommended for each user to have a high target score. Since the songs listened to were quite difference for each user, we can expect to see that the recommended songs are unique for each user. "
      ]
    },
    {
      "cell_type": "code",
      "metadata": {
        "id": "Kp2lfzQMR3Rd"
      },
      "source": [
        ""
      ],
      "execution_count": null,
      "outputs": []
    }
  ]
}
